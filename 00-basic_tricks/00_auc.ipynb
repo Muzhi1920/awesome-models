{
  "nbformat": 4,
  "nbformat_minor": 0,
  "metadata": {
    "colab": {
      "name": "00_auc.ipynb",
      "provenance": [],
      "collapsed_sections": [],
      "authorship_tag": "ABX9TyPqW2OKRYlBne8zdxeY61aS",
      "include_colab_link": true
    },
    "kernelspec": {
      "name": "python3",
      "display_name": "Python 3"
    },
    "language_info": {
      "name": "python"
    }
  },
  "cells": [
    {
      "cell_type": "markdown",
      "metadata": {
        "id": "view-in-github",
        "colab_type": "text"
      },
      "source": [
        "<a href=\"https://colab.research.google.com/github/Muzhi1920/awesome-models/blob/main/00-basic_tricks/00_auc.ipynb\" target=\"_parent\"><img src=\"https://colab.research.google.com/assets/colab-badge.svg\" alt=\"Open In Colab\"/></a>"
      ]
    },
    {
      "cell_type": "code",
      "execution_count": null,
      "metadata": {
        "id": "7qliQfX28cxw"
      },
      "outputs": [],
      "source": [
        "import numpy as np\n",
        "from sklearn.metrics import roc_auc_score"
      ]
    },
    {
      "cell_type": "code",
      "source": [
        "label = [1,0,1,0,1,0]\n",
        "pre = [0.9, 0.8, 0.4, 0.9, 0.66, 0.7]\n",
        "print('sklearn:', roc_auc_score(label, pre))"
      ],
      "metadata": {
        "colab": {
          "base_uri": "https://localhost:8080/"
        },
        "id": "sKNn30iwQT57",
        "outputId": "bdf01d0e-c60f-4c09-eb83-ebc7ef9dfb7d"
      },
      "execution_count": null,
      "outputs": [
        {
          "output_type": "stream",
          "name": "stdout",
          "text": [
            "sklearn: 0.2777777777777778\n"
          ]
        }
      ]
    },
    {
      "cell_type": "markdown",
      "source": [
        "# 1. 分类任务AUC"
      ],
      "metadata": {
        "id": "S0AUAOtOQRbx"
      }
    },
    {
      "cell_type": "code",
      "source": [
        "# 西瓜书推导，仅能用于分类任务0-1\n",
        "def c_pnr(label, pre):\n",
        "    pos = [i for i in range(len(label)) if label[i] > 0.5]\n",
        "    neg = [i for i in range(len(label)) if label[i] < 0.5]\n",
        "    auc = 0\n",
        "    for i in pos:\n",
        "        for j in neg:\n",
        "            if pre[i] > pre[j]:\n",
        "                auc += 1\n",
        "            elif pre[i] == pre[j]:\n",
        "                auc += 0.5\n",
        "    return auc / (len(pos)*len(neg))\n",
        "\n",
        "'auc:', c_pnr(label, pre)"
      ],
      "metadata": {
        "colab": {
          "base_uri": "https://localhost:8080/"
        },
        "id": "vuiYPbV-cEQM",
        "outputId": "ff0d3cbb-b6ee-4122-be0a-773991249caa"
      },
      "execution_count": null,
      "outputs": [
        {
          "output_type": "execute_result",
          "data": {
            "text/plain": [
              "('auc:', 0.2777777777777778)"
            ]
          },
          "metadata": {},
          "execution_count": 22
        }
      ]
    },
    {
      "cell_type": "markdown",
      "source": [
        "## 1.回归任务PNR"
      ],
      "metadata": {
        "id": "kFb15Ko99BTP"
      }
    },
    {
      "cell_type": "markdown",
      "source": [
        "- `label = [0.1,0.2,0.3,0.4]`\n",
        "- `score = [0.6,0.5,0.7,0.8]`\n",
        "- 样本构成的pari对`[(0.1,0.6),(0.2,0.5),(0.3,0.7),(0.4,0.8)]`\n",
        "- pair对之间的比较：一共`N(N-1)`；\n",
        "  - 正序：`label_A > label_B`时，`score_A > score_B`；\n",
        "  - 逆序：非同序。\n",
        "- 统计正逆序对比：`(正序/逆序)`；或者`AUC：正序/(正序+逆序)，即正序数/(N*(N-1))`；\n",
        "\n",
        "\n"
      ],
      "metadata": {
        "id": "OP6qKfO9955L"
      }
    },
    {
      "cell_type": "code",
      "source": [
        "def r_pnr(label, score):\n",
        "  pos = 0\n",
        "  N = len(label)\n",
        "  for i, (yi, yi_) in enumerate(zip(label, score)):\n",
        "    for j, (yj, yj_) in enumerate(zip(label, score)):\n",
        "      if j <= i: # 构建所有可能的pair对 C_N^2\n",
        "        continue\n",
        "      if((yi - yj) * (yi_ - yj_) > 0 or (yi == yj and yi_ == yj_)): # 正序\n",
        "        pos += 1\n",
        "  return 2 * pos / (N * (N - 1))\n",
        "\n",
        "arr1 = [0.1,0.2,0.3,0.4]\n",
        "arr2 = [0.6,0.5,0.7,0.8]\n",
        "'pnr :', r_pnr(arr1, arr2)"
      ],
      "metadata": {
        "colab": {
          "base_uri": "https://localhost:8080/"
        },
        "id": "3dQYaqOuOWxF",
        "outputId": "60dc833e-e2c7-4b31-c75a-9c955cc33791"
      },
      "execution_count": null,
      "outputs": [
        {
          "output_type": "execute_result",
          "data": {
            "text/plain": [
              "('pnr :', 0.8333333333333334)"
            ]
          },
          "metadata": {},
          "execution_count": 21
        }
      ]
    },
    {
      "cell_type": "markdown",
      "source": [
        "## 结论\n",
        "1. auc计算：tf只计算分类任务（使用积分方式，batch更新混淆矩阵）；\n",
        "2. pnr计算：\n",
        "  - 分类任务（正负分开，计算正逆序对比）\n",
        "  - 回归任务（$C_N^2$种pari对比较）"
      ],
      "metadata": {
        "id": "eOlVOcW9c4FA"
      }
    },
    {
      "cell_type": "markdown",
      "source": [
        "如有问题，欢迎指出"
      ],
      "metadata": {
        "id": "OzkQ_EJr82HN"
      }
    }
  ]
}