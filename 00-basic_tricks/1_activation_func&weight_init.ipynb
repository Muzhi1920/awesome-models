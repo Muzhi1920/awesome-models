{
  "nbformat": 4,
  "nbformat_minor": 0,
  "metadata": {
    "kernelspec": {
      "name": "python3",
      "display_name": "Python 3"
    },
    "latex_envs": {
      "LaTeX_envs_menu_present": true,
      "autoclose": false,
      "autocomplete": true,
      "bibliofile": "biblio.bib",
      "cite_by": "apalike",
      "current_citInitial": 1,
      "eqLabelWithNumbers": true,
      "eqNumInitial": 1,
      "hotkeys": {
        "equation": "Ctrl-E",
        "itemize": "Ctrl-I"
      },
      "labels_anchors": false,
      "latex_user_defs": false,
      "report_style_numbering": false,
      "user_envs_cfg": false
    },
    "toc": {
      "base_numbering": 1,
      "nav_menu": {},
      "number_sections": true,
      "sideBar": true,
      "skip_h1_title": false,
      "title_cell": "Table of Contents",
      "title_sidebar": "Contents",
      "toc_cell": false,
      "toc_position": {
        "height": "calc(100% - 180px)",
        "left": "10px",
        "top": "150px",
        "width": "216px"
      },
      "toc_section_display": true,
      "toc_window_display": true
    },
    "varInspector": {
      "cols": {
        "lenName": 16,
        "lenType": 16,
        "lenVar": 40
      },
      "kernels_config": {
        "python": {
          "delete_cmd_postfix": "",
          "delete_cmd_prefix": "del ",
          "library": "var_list.py",
          "varRefreshCmd": "print(var_dic_list())"
        },
        "r": {
          "delete_cmd_postfix": ") ",
          "delete_cmd_prefix": "rm(",
          "library": "var_list.r",
          "varRefreshCmd": "cat(var_dic_list()) "
        }
      },
      "types_to_exclude": [
        "module",
        "function",
        "builtin_function_or_method",
        "instance",
        "_Feature"
      ],
      "window_display": false
    },
    "colab": {
      "name": "1-activation_func&weight_init.ipynb",
      "provenance": [],
      "include_colab_link": true
    },
    "language_info": {
      "name": "python"
    }
  },
  "cells": [
    {
      "cell_type": "markdown",
      "metadata": {
        "id": "view-in-github",
        "colab_type": "text"
      },
      "source": [
        "<a href=\"https://colab.research.google.com/github/Muzhi1920/awesome-models/blob/main/00-basic_tricks/1_activation_func%26weight_init.ipynb\" target=\"_parent\"><img src=\"https://colab.research.google.com/assets/colab-badge.svg\" alt=\"Open In Colab\"/></a>"
      ]
    },
    {
      "cell_type": "markdown",
      "metadata": {
        "id": "Zb6NGGM-fYct"
      },
      "source": [
        "# 参数初始化-non_activation"
      ]
    },
    {
      "cell_type": "markdown",
      "metadata": {
        "id": "tD0q3YMKfYcx"
      },
      "source": [
        "1. 固定初始化；\n",
        "2. 预训练初始化；\n",
        "3. 随机初始化，需考虑初始化的分布，与梯度爆炸&消失的问题。"
      ]
    },
    {
      "cell_type": "markdown",
      "metadata": {
        "id": "5jB5NbCTfYcx"
      },
      "source": [
        "##  Naive Initialization\n",
        "1. 高斯分布\n",
        "$$W \\sim N(\\mu,\\sigma^2)$$\n",
        "2. 均匀分布\n",
        "$$W \\sim N(a,b), a=-\\frac{1}{\\sqrt{N}}, b=\\frac{1}{\\sqrt{N}}$$\n"
      ]
    },
    {
      "cell_type": "code",
      "metadata": {
        "id": "fr4qPbKyfYcy"
      },
      "source": [
        "import tensorflow as tf"
      ],
      "execution_count": null,
      "outputs": []
    },
    {
      "cell_type": "code",
      "metadata": {
        "id": "3SVpPc6JfYcz",
        "colab": {
          "base_uri": "https://localhost:8080/"
        },
        "outputId": "ebc73db5-70de-4220-bd0c-a5a4a4aea261"
      },
      "source": [
        "t1 = tf.feature_column.categorical_column_with_hash_bucket(key='featureField28',hash_bucket_size=4, dtype=tf.int64)\n",
        "t1"
      ],
      "execution_count": null,
      "outputs": [
        {
          "output_type": "execute_result",
          "data": {
            "text/plain": [
              "HashedCategoricalColumn(key='featureField28', hash_bucket_size=4, dtype=tf.int64)"
            ]
          },
          "metadata": {},
          "execution_count": 2
        }
      ]
    },
    {
      "cell_type": "code",
      "metadata": {
        "id": "OcbDyLB_fYc0",
        "colab": {
          "base_uri": "https://localhost:8080/"
        },
        "outputId": "894f2b39-877e-4476-f16c-b4c86d351933"
      },
      "source": [
        "emb = tf.feature_column.embedding_column(categorical_column=t1,dimension = 128,combiner='mean',\n",
        "    initializer=tf.keras.initializers.RandomNormal(mean=0,stddev=1.0),ckpt_to_load_from=None,tensor_name_in_ckpt=None,max_norm=None,trainable=True,use_safe_embedding_lookup=True)\n",
        "emb"
      ],
      "execution_count": null,
      "outputs": [
        {
          "output_type": "execute_result",
          "data": {
            "text/plain": [
              "EmbeddingColumn(categorical_column=HashedCategoricalColumn(key='featureField28', hash_bucket_size=4, dtype=tf.int64), dimension=128, combiner='mean', initializer=<keras.initializers.initializers_v2.RandomNormal object at 0x7f1618bdc0d0>, ckpt_to_load_from=None, tensor_name_in_ckpt=None, max_norm=None, trainable=True, use_safe_embedding_lookup=True)"
            ]
          },
          "metadata": {},
          "execution_count": 3
        }
      ]
    },
    {
      "cell_type": "code",
      "metadata": {
        "id": "ahophizCfYc1",
        "colab": {
          "base_uri": "https://localhost:8080/"
        },
        "outputId": "df5c9451-7f85-4b8a-eee0-da776aee36fe"
      },
      "source": [
        "# 序列id，不足长度，引擎发送-1，保证维度一致；-1 has a special meaning of missing feature\n",
        "features ={\n",
        "    'featureField28': tf.constant([[1000,-1,-1], [-1,1002,-1],[1000,1002,-1]]), # corss_1\n",
        "}\n",
        "features"
      ],
      "execution_count": null,
      "outputs": [
        {
          "output_type": "execute_result",
          "data": {
            "text/plain": [
              "{'featureField28': <tf.Tensor: shape=(3, 3), dtype=int32, numpy=\n",
              " array([[1000,   -1,   -1],\n",
              "        [  -1, 1002,   -1],\n",
              "        [1000, 1002,   -1]], dtype=int32)>}"
            ]
          },
          "metadata": {},
          "execution_count": 4
        }
      ]
    },
    {
      "cell_type": "code",
      "metadata": {
        "id": "p53afMmyfYc2"
      },
      "source": [
        "feature_layer = tf.compat.v1.keras.layers.DenseFeatures(feature_columns=[emb])\n",
        "dense_tensor = feature_layer(features, training=False)"
      ],
      "execution_count": null,
      "outputs": []
    },
    {
      "cell_type": "code",
      "metadata": {
        "id": "PpLrAAEjfYc2",
        "colab": {
          "base_uri": "https://localhost:8080/"
        },
        "outputId": "69d91c1b-db50-4346-cf3a-469c0e01eb55"
      },
      "source": [
        "layer_num = 80\n",
        "for index, units in enumerate([128]*layer_num):\n",
        "    dense_tensor = tf.compat.v1.keras.layers.Dense(units, activation='linear',\n",
        "                                                   kernel_initializer=tf.keras.initializers.RandomNormal(mean=0.0,stddev=1.0/(128**0.5)))(dense_tensor)\n",
        "    mean, variance = tf.nn.moments(dense_tensor, axes=1)\n",
        "    print('layer_{}_mean_{}_variabce_{}'.format(index, mean, variance**0.5))\n",
        "prediction = tf.compat.v1.keras.layers.Dense(1)(dense_tensor)"
      ],
      "execution_count": null,
      "outputs": [
        {
          "output_type": "stream",
          "name": "stdout",
          "text": [
            "layer_0_mean_[-0.00474764 -0.11256254 -0.0586551 ]_variabce_[0.9030776 0.8726572 0.6470899]\n",
            "layer_1_mean_[-0.07459724  0.05302676 -0.01078526]_variabce_[0.9536409  0.8253405  0.67076385]\n",
            "layer_2_mean_[0.12263592 0.01789524 0.07026559]_variabce_[1.0337179 0.7588261 0.6421874]\n",
            "layer_3_mean_[ 0.16345797 -0.0112858   0.07608611]_variabce_[1.1443658  0.7512038  0.66125846]\n",
            "layer_4_mean_[0.04273469 0.01263199 0.02768335]_variabce_[0.949007   0.73244965 0.57807887]\n",
            "layer_5_mean_[-0.12120512 -0.13118267 -0.12619388]_variabce_[0.8956612  0.77741194 0.60022247]\n",
            "layer_6_mean_[0.03900212 0.09053891 0.0647705 ]_variabce_[0.8652431  0.79009306 0.606217  ]\n",
            "layer_7_mean_[-0.06023568  0.06622929  0.00299681]_variabce_[0.8194714 0.781086  0.5971431]\n",
            "layer_8_mean_[ 0.02006426 -0.02454356 -0.00223965]_variabce_[0.9004625 0.7788832 0.5988036]\n",
            "layer_9_mean_[-0.20334095 -0.18653768 -0.19493939]_variabce_[0.86875   0.732591  0.5203612]\n",
            "layer_10_mean_[-0.04872639  0.01962633 -0.01454999]_variabce_[0.9129105  0.65306175 0.5230833 ]\n",
            "layer_11_mean_[-0.01184923 -0.05391467 -0.03288193]_variabce_[0.9868724 0.5999259 0.5242128]\n",
            "layer_12_mean_[-0.00523885 -0.01554175 -0.01039025]_variabce_[1.0152477 0.6497608 0.480328 ]\n",
            "layer_13_mean_[ 0.01024131 -0.01693416 -0.00334648]_variabce_[1.0714419  0.59309435 0.47304037]\n",
            "layer_14_mean_[-0.13526808 -0.0314368  -0.08335245]_variabce_[1.1176314  0.62863815 0.4886268 ]\n",
            "layer_15_mean_[-0.21998027  0.14341691 -0.03828169]_variabce_[1.1096514  0.59048975 0.5035409 ]\n",
            "layer_16_mean_[-0.0950523  -0.01292102 -0.05398668]_variabce_[1.2118593 0.5870328 0.5266355]\n",
            "layer_17_mean_[-0.07947478  0.06779577 -0.00583948]_variabce_[1.2414051 0.6065325 0.5113063]\n",
            "layer_18_mean_[-0.08241419  0.02332607 -0.02954416]_variabce_[1.2769716 0.562454  0.5547351]\n",
            "layer_19_mean_[ 0.11620522 -0.0081828   0.05401119]_variabce_[1.3177286  0.58310765 0.599422  ]\n",
            "layer_20_mean_[-0.06621406 -0.0042305  -0.03522223]_variabce_[1.2593821 0.5387865 0.6179163]\n",
            "layer_21_mean_[-0.17083937 -0.00244812 -0.08664374]_variabce_[1.2205523  0.63034266 0.58587456]\n",
            "layer_22_mean_[-0.08221117  0.06599402 -0.00810866]_variabce_[1.2161362 0.5767179 0.5604736]\n",
            "layer_23_mean_[0.03925833 0.06153925 0.05039882]_variabce_[1.2965144  0.529837   0.62290347]\n",
            "layer_24_mean_[-4.5065179e-02 -7.4245036e-05 -2.2569723e-02]_variabce_[1.3217834  0.5209943  0.62899715]\n",
            "layer_25_mean_[ 0.00129605 -0.02404065 -0.01137235]_variabce_[1.3865799  0.48698828 0.6741026 ]\n",
            "layer_26_mean_[0.05111691 0.03216925 0.04164307]_variabce_[1.330314   0.5330575  0.64829206]\n",
            "layer_27_mean_[ 0.01131771 -0.01560614 -0.00214424]_variabce_[1.2632563 0.5121889 0.6067942]\n",
            "layer_28_mean_[-0.05886523  0.01153566 -0.02366486]_variabce_[1.2153949  0.45853612 0.5828646 ]\n",
            "layer_29_mean_[0.04567161 0.01999177 0.03283164]_variabce_[1.1031182  0.42617604 0.5298212 ]\n",
            "layer_30_mean_[-0.06880601  0.02636071 -0.02122266]_variabce_[1.1486658  0.4544631  0.53784895]\n",
            "layer_31_mean_[-0.14545122 -0.00562993 -0.07554059]_variabce_[1.2183273 0.4339052 0.5422716]\n",
            "layer_32_mean_[-0.03207425 -0.0077247  -0.01989946]_variabce_[1.2478721  0.42488074 0.536888  ]\n",
            "layer_33_mean_[-0.01681926  0.02128601  0.00223344]_variabce_[1.2528789  0.43831763 0.5468419 ]\n",
            "layer_34_mean_[ 0.07244897 -0.02778608  0.02233145]_variabce_[1.2063512  0.48761356 0.51465386]\n",
            "layer_35_mean_[-0.06380862 -0.00013559 -0.03197212]_variabce_[1.1466609  0.43084285 0.5090063 ]\n",
            "layer_36_mean_[ 0.04416583 -0.00221146  0.02097721]_variabce_[1.1496226 0.4227367 0.5056392]\n",
            "layer_37_mean_[-0.08540455 -0.02397018 -0.05468727]_variabce_[1.3435446  0.41484624 0.5868327 ]\n",
            "layer_38_mean_[ 0.42500445 -0.0892719   0.16786633]_variabce_[1.3365161  0.42839557 0.5795952 ]\n",
            "layer_39_mean_[ 0.29186338 -0.00826923  0.14179726]_variabce_[1.2672218  0.43341377 0.5733148 ]\n",
            "layer_40_mean_[ 0.07049289 -0.01161924  0.02943693]_variabce_[1.2506897  0.4836245  0.54145944]\n",
            "layer_41_mean_[ 0.07082796 -0.01494474  0.02794164]_variabce_[1.1915107  0.43908793 0.5347101 ]\n",
            "layer_42_mean_[0.03702578 0.00456846 0.02079723]_variabce_[1.1067667 0.4906742 0.5051931]\n",
            "layer_43_mean_[ 0.07315496 -0.04537374  0.01389058]_variabce_[1.0441372 0.5119905 0.4787741]\n",
            "layer_44_mean_[-0.05218045 -0.01619698 -0.03418862]_variabce_[1.0431654  0.48133543 0.471943  ]\n",
            "layer_45_mean_[-0.08201466  0.05365014 -0.01418222]_variabce_[1.0674438  0.43415013 0.48459908]\n",
            "layer_46_mean_[-0.0216808  -0.01935095 -0.02051587]_variabce_[1.0569941  0.43255022 0.46198362]\n",
            "layer_47_mean_[0.10885484 0.00510704 0.05698094]_variabce_[1.0516493  0.43658727 0.4543337 ]\n",
            "layer_48_mean_[ 0.23106638 -0.03782161  0.09662232]_variabce_[1.0153857  0.46044943 0.46148202]\n",
            "layer_49_mean_[ 0.03544515 -0.02485757  0.00529368]_variabce_[0.9267345  0.48266584 0.4249834 ]\n",
            "layer_50_mean_[-0.19319901  0.01463544 -0.08928176]_variabce_[0.890772   0.47282195 0.4066761 ]\n",
            "layer_51_mean_[-0.12460718 -0.00732774 -0.06596743]_variabce_[0.94435644 0.4773292  0.45202664]\n",
            "layer_52_mean_[ 0.15023829 -0.03013063  0.0600538 ]_variabce_[0.9508792  0.47167766 0.4579025 ]\n",
            "layer_53_mean_[-0.01975832  0.03247029  0.00635597]_variabce_[0.9264644  0.44706404 0.460362  ]\n",
            "layer_54_mean_[0.04329849 0.04926061 0.0462795 ]_variabce_[0.909151   0.42005408 0.4467455 ]\n",
            "layer_55_mean_[ 0.02274449 -0.01100189  0.00587124]_variabce_[0.8735782  0.40450922 0.4326346 ]\n",
            "layer_56_mean_[-0.08178408  0.06601501 -0.00788454]_variabce_[0.7986897  0.43225855 0.42989945]\n",
            "layer_57_mean_[-0.07054647 -0.01904603 -0.04479633]_variabce_[0.7895552  0.4211069  0.44554517]\n",
            "layer_58_mean_[ 0.09213839 -0.04294709  0.02459567]_variabce_[0.8741696  0.42516136 0.4395045 ]\n",
            "layer_59_mean_[0.14298719 0.02940068 0.08619387]_variabce_[0.8943038  0.39890474 0.46012968]\n",
            "layer_60_mean_[-0.07209995  0.07186136 -0.00011919]_variabce_[0.9738732  0.33949757 0.48455304]\n",
            "layer_61_mean_[0.08957049 0.00446674 0.04701854]_variabce_[0.92473334 0.34141272 0.43059042]\n",
            "layer_62_mean_[-0.12081792 -0.01209476 -0.06645633]_variabce_[0.89326066 0.31750846 0.42377725]\n",
            "layer_63_mean_[ 0.01057673 -0.01640035 -0.00291182]_variabce_[0.96505725 0.32896423 0.44239607]\n",
            "layer_64_mean_[0.02368914 0.02792831 0.02580871]_variabce_[0.8632145 0.3384234 0.40912  ]\n",
            "layer_65_mean_[-0.07996644  0.06591967 -0.00702329]_variabce_[0.8541035 0.3035281 0.418332 ]\n",
            "layer_66_mean_[-0.07284666 -0.01244478 -0.04264564]_variabce_[0.816515   0.3491549  0.41058284]\n",
            "layer_67_mean_[-0.03070387  0.01314632 -0.00877876]_variabce_[0.8808568  0.30015966 0.3943287 ]\n",
            "layer_68_mean_[ 0.00805302 -0.03543438 -0.01369062]_variabce_[0.9092803  0.29997125 0.38765913]\n",
            "layer_69_mean_[-0.02048713  0.02554833  0.00253047]_variabce_[0.88375723 0.29664347 0.3931781 ]\n",
            "layer_70_mean_[0.01392455 0.04555139 0.02973791]_variabce_[0.8273034  0.31113544 0.3727635 ]\n",
            "layer_71_mean_[ 0.04908548 -0.02454291  0.01227133]_variabce_[0.89189416 0.32187063 0.38673544]\n",
            "layer_72_mean_[ 0.14062372 -0.07624412  0.03218985]_variabce_[0.8213521  0.28165963 0.38440627]\n",
            "layer_73_mean_[ 0.09621539 -0.06038444  0.01791552]_variabce_[0.76978886 0.28612322 0.34267715]\n",
            "layer_74_mean_[ 0.01015056 -0.01622478 -0.0030371 ]_variabce_[0.8315056  0.31981516 0.3668412 ]\n",
            "layer_75_mean_[0.00191691 0.04515312 0.02353502]_variabce_[0.8107519  0.32796267 0.34949172]\n",
            "layer_76_mean_[ 0.08550133 -0.03605317  0.02472401]_variabce_[0.74316156 0.29332718 0.337641  ]\n",
            "layer_77_mean_[-0.09670626  0.00392792 -0.04638923]_variabce_[0.7637531  0.29252246 0.34638223]\n",
            "layer_78_mean_[-0.0571404  -0.00747281 -0.03230657]_variabce_[0.7923416  0.27750254 0.3602173 ]\n",
            "layer_79_mean_[-0.03666299  0.01931195 -0.00867553]_variabce_[0.87018496 0.29507193 0.37226096]\n"
          ]
        }
      ]
    },
    {
      "cell_type": "markdown",
      "metadata": {
        "id": "LvEMpiBLfYc3"
      },
      "source": [
        "### 结论\n",
        "1. 输入emb的初始化方式，$I0$；\n",
        "2. 每一层layer的weight初始化方式，$I1$；\n",
        "3. 单层后的方差为$\\sigma^2 = n * (D(I0) * D(I1))$；\n",
        "4. $n$层后的方差为$\\sigma^2 * D(I1)^{(n-1)}$，假设dim不变时的推导；\n",
        "5. 据此公式，可推导出各种方差变化关系；\n",
        "6. 因此需要选择合理地，输入emb的初始化、每层weight的初始化方式。"
      ]
    },
    {
      "cell_type": "markdown",
      "metadata": {
        "id": "wWd1RQjefYc3"
      },
      "source": [
        "## Xavier Initialization\n",
        "优秀的初始化应该使得，各层激活值和状态梯度，在正向传播中保持方差一致性"
      ]
    },
    {
      "cell_type": "markdown",
      "metadata": {
        "id": "5SkuxWplfYc4"
      },
      "source": [
        "正向、反向传播得到平均的方差，同时得到均匀分布Xavier initialization\n",
        "\n",
        "$\\sigma^2_k =n_{k-1} *D(w_k) * \\sigma_{k-1}^2 * D(h_{k-1})$\n",
        "\n",
        "$D(w^k)=\\frac{1}{n_{k-1}}$"
      ]
    },
    {
      "cell_type": "code",
      "metadata": {
        "id": "oyX2YmKafYc4"
      },
      "source": [
        "feature_layer = tf.compat.v1.keras.layers.DenseFeatures(feature_columns=[emb])\n",
        "dense_tensor = feature_layer(features, training=False)"
      ],
      "execution_count": null,
      "outputs": []
    },
    {
      "cell_type": "code",
      "metadata": {
        "collapsed": true,
        "id": "h2QX3oV6fYc4",
        "outputId": "0b39a981-3743-4455-d740-27f7087b22e0"
      },
      "source": [
        "layer_num = 80\n",
        "for index, units in enumerate([128]*layer_num):\n",
        "    dense_tensor = tf.compat.v1.keras.layers.Dense(units, activation='linear',\n",
        "                                                   kernel_initializer=tf.keras.initializers.GlorotUniform)(dense_tensor)\n",
        "    mean, variance = tf.nn.moments(dense_tensor, axes=1)\n",
        "    print('layer_{}_mean_{}_variabce_{}'.format(index, mean, variance**0.5))\n",
        "prediction = tf.compat.v1.keras.layers.Dense(1)(dense_tensor)"
      ],
      "execution_count": null,
      "outputs": [
        {
          "name": "stdout",
          "output_type": "stream",
          "text": [
            "layer_0_mean_[ 0.02483078 -0.00109796  0.01186643]_variabce_[0.82370484 0.948914   0.615857  ]\n",
            "layer_1_mean_[-0.07208517  0.08645344  0.00718416]_variabce_[0.8847155 0.8629459 0.6368445]\n",
            "layer_2_mean_[-0.03414366  0.11825216  0.04205421]_variabce_[0.9669925  0.83785677 0.6641544 ]\n",
            "layer_3_mean_[-0.03470136  0.00367569 -0.01551282]_variabce_[1.0158526  0.87873864 0.7045144 ]\n",
            "layer_4_mean_[0.04297611 0.00330246 0.02313926]_variabce_[0.99449486 0.923896   0.7148219 ]\n",
            "layer_5_mean_[-0.05191755  0.00731733 -0.02230008]_variabce_[0.9446416 1.0590137 0.7847328]\n",
            "layer_6_mean_[-0.06161759  0.10039135  0.01938676]_variabce_[1.0846543  0.9660863  0.75370353]\n",
            "layer_7_mean_[-0.06990366  0.0233842  -0.0232597 ]_variabce_[1.0425826  0.89115554 0.7008463 ]\n",
            "layer_8_mean_[ 0.11449258 -0.138902   -0.01220481]_variabce_[1.0296674  0.8736784  0.69986767]\n",
            "layer_9_mean_[-0.1174293   0.05342923 -0.03199992]_variabce_[1.034592   0.70938236 0.64833784]\n",
            "layer_10_mean_[ 0.00602157 -0.00570393  0.00015872]_variabce_[0.99184626 0.76914966 0.65988976]\n",
            "layer_11_mean_[ 0.15454452 -0.00235784  0.07609327]_variabce_[0.9112203  0.7505507  0.65533495]\n",
            "layer_12_mean_[0.01675775 0.05104668 0.03390224]_variabce_[0.8647922  0.6334336  0.58532304]\n",
            "layer_13_mean_[0.03082599 0.02893163 0.02987882]_variabce_[0.9284702  0.6328135  0.60626876]\n",
            "layer_14_mean_[-0.12560335 -0.0153285  -0.07046598]_variabce_[0.9239324 0.6116191 0.6453486]\n",
            "layer_15_mean_[-0.06564428  0.02476371 -0.02044019]_variabce_[0.9759973  0.67641395 0.72204053]\n",
            "layer_16_mean_[-0.04733939  0.04175984 -0.00278983]_variabce_[0.9757883  0.6862021  0.71478003]\n",
            "layer_17_mean_[-0.05632292 -0.04547947 -0.05090119]_variabce_[0.8749235  0.60637444 0.6486592 ]\n",
            "layer_18_mean_[0.0030038  0.00529502 0.00414944]_variabce_[0.93149745 0.6038249  0.6674749 ]\n",
            "layer_19_mean_[0.02373016 0.08001533 0.05187277]_variabce_[0.96864223 0.62013406 0.6718181 ]\n",
            "layer_20_mean_[0.20917329 0.06986593 0.13951945]_variabce_[0.950868   0.67206126 0.6772803 ]\n",
            "layer_21_mean_[ 0.07552387 -0.04903366  0.01324503]_variabce_[0.9236168 0.6745451 0.6894269]\n",
            "layer_22_mean_[-0.01163167  0.05371553  0.02104209]_variabce_[0.83401066 0.6194293  0.6432538 ]\n",
            "layer_23_mean_[-0.01525797 -0.01256    -0.01390899]_variabce_[0.87266666 0.6439548  0.6889555 ]\n",
            "layer_24_mean_[-0.15030363 -0.01714054 -0.0837221 ]_variabce_[0.94288033 0.67881083 0.73767614]\n",
            "layer_25_mean_[-0.01739262  0.04245608  0.01253184]_variabce_[0.9336067  0.73378927 0.759043  ]\n",
            "layer_26_mean_[0.01768788 0.08729612 0.05249203]_variabce_[1.0402313  0.8040193  0.86594987]\n",
            "layer_27_mean_[-0.02709613 -0.00376118 -0.01542854]_variabce_[0.9880883 0.7620859 0.8126542]\n",
            "layer_28_mean_[0.04936806 0.11496949 0.08216859]_variabce_[1.0116473  0.80736214 0.8396634 ]\n",
            "layer_29_mean_[0.07487412 0.00084592 0.03786   ]_variabce_[0.9306304 0.7891951 0.797207 ]\n",
            "layer_30_mean_[0.04400047 0.00879801 0.0263991 ]_variabce_[0.994473  0.7649743 0.8177649]\n",
            "layer_31_mean_[ 0.03325958 -0.01649908  0.00838032]_variabce_[0.94545835 0.70654607 0.7701994 ]\n",
            "layer_32_mean_[-0.06924689 -0.00724139 -0.038244  ]_variabce_[1.0075443 0.6795904 0.7868069]\n",
            "layer_33_mean_[0.01172532 0.0321011  0.02191315]_variabce_[0.9053396  0.6690389  0.73354155]\n",
            "layer_34_mean_[ 0.0513447  -0.000921    0.02521198]_variabce_[0.88505393 0.62976265 0.7059998 ]\n",
            "layer_35_mean_[-0.03244215 -0.00109442 -0.01676827]_variabce_[0.85694146 0.6048949  0.6927783 ]\n",
            "layer_36_mean_[-0.10292947 -0.08320484 -0.09306704]_variabce_[0.80554014 0.5955635  0.6675872 ]\n",
            "layer_37_mean_[0.13162988 0.08467209 0.10815108]_variabce_[0.7226853  0.5438021  0.60077876]\n",
            "layer_38_mean_[ 0.00823218 -0.02109339 -0.00643057]_variabce_[0.6690905  0.53624177 0.5726907 ]\n",
            "layer_39_mean_[-0.00889588 -0.01297386 -0.01093479]_variabce_[0.67970836 0.5013204  0.56212765]\n",
            "layer_40_mean_[0.02114236 0.073561   0.0473516 ]_variabce_[0.65043515 0.48452756 0.54056865]\n",
            "layer_41_mean_[0.03626976 0.00856792 0.02241885]_variabce_[0.64160776 0.48634446 0.53480935]\n",
            "layer_42_mean_[-0.03129355 -0.01368359 -0.02248852]_variabce_[0.6311457  0.4840045  0.53461957]\n",
            "layer_43_mean_[-0.09218633 -0.0578647  -0.07502553]_variabce_[0.6456304 0.4861501 0.5447175]\n",
            "layer_44_mean_[-0.06693457 -0.03937441 -0.05315452]_variabce_[0.602145  0.4817106 0.5213273]\n",
            "layer_45_mean_[ 0.03181875 -0.01571659  0.00805105]_variabce_[0.6039236  0.49459335 0.53106403]\n",
            "layer_46_mean_[-0.05395208 -0.05217366 -0.05306269]_variabce_[0.55343246 0.47529167 0.4956417 ]\n",
            "layer_47_mean_[-0.00787608 -0.00918855 -0.00853232]_variabce_[0.49897212 0.4453187  0.45005107]\n",
            "layer_48_mean_[ 0.01014819 -0.00287949  0.00363435]_variabce_[0.50223035 0.4207956  0.44011867]\n",
            "layer_49_mean_[0.09829549 0.03763712 0.06796631]_variabce_[0.51784796 0.40493706 0.43905678]\n",
            "layer_50_mean_[-0.03027269 -0.03707787 -0.03367529]_variabce_[0.5939766  0.4779753  0.51533616]\n",
            "layer_51_mean_[0.06455188 0.0414132  0.05298268]_variabce_[0.55850846 0.44390723 0.48242623]\n",
            "layer_52_mean_[-0.08096224 -0.04551997 -0.06324112]_variabce_[0.5413282  0.44698167 0.47900602]\n",
            "layer_53_mean_[0.02160456 0.02736766 0.02448604]_variabce_[0.5379132  0.45622566 0.4815164 ]\n",
            "layer_54_mean_[-0.01784243 -0.00792618 -0.01288436]_variabce_[0.5661737  0.49389625 0.51687413]\n",
            "layer_55_mean_[-0.07082922 -0.01891993 -0.0448746 ]_variabce_[0.5631961  0.47222298 0.50158024]\n",
            "layer_56_mean_[-0.05594202 -0.05407972 -0.05501089]_variabce_[0.5532967  0.46626338 0.4920638 ]\n",
            "layer_57_mean_[-0.04310902  0.0247365  -0.00918617]_variabce_[0.5638899  0.48805332 0.5108941 ]\n",
            "layer_58_mean_[0.09585492 0.02660487 0.0612299 ]_variabce_[0.5073124  0.42954627 0.45180416]\n",
            "layer_59_mean_[-0.06313357 -0.06477477 -0.06395417]_variabce_[0.524275   0.40947127 0.44929117]\n",
            "layer_60_mean_[-0.06761765 -0.02153207 -0.04457485]_variabce_[0.54454166 0.43400395 0.47340164]\n",
            "layer_61_mean_[0.02292177 0.00479069 0.01385627]_variabce_[0.55394095 0.43028718 0.47487214]\n",
            "layer_62_mean_[-0.07494134 -0.02985139 -0.05239637]_variabce_[0.56277215 0.43585774 0.47941482]\n",
            "layer_63_mean_[-0.01078071 -0.01183439 -0.01130758]_variabce_[0.5860948  0.43884298 0.4890996 ]\n",
            "layer_64_mean_[0.07489752 0.07396481 0.0744312 ]_variabce_[0.61843896 0.4692434  0.52408063]\n",
            "layer_65_mean_[0.05409818 0.03962964 0.04686397]_variabce_[0.6226491  0.46002772 0.5220366 ]\n",
            "layer_66_mean_[0.0118955  0.02067716 0.0162864 ]_variabce_[0.632378  0.444009  0.5182128]\n",
            "layer_67_mean_[-0.13052276 -0.07387745 -0.10220006]_variabce_[0.61909795 0.40919024 0.4943697 ]\n",
            "layer_68_mean_[-0.02507101 -0.04240168 -0.03373633]_variabce_[0.55698365 0.4124922  0.4596137 ]\n",
            "layer_69_mean_[-0.01084895 -0.00531734 -0.00808308]_variabce_[0.5055649  0.39558983 0.41964048]\n",
            "layer_70_mean_[-0.05571136 -0.06949805 -0.06260472]_variabce_[0.50304544 0.34849918 0.3917102 ]\n",
            "layer_71_mean_[-0.09833677 -0.06577599 -0.08205636]_variabce_[0.5100818  0.34166208 0.3876917 ]\n",
            "layer_72_mean_[-0.08962164 -0.04926193 -0.06944177]_variabce_[0.55917966 0.369569   0.4307646 ]\n",
            "layer_73_mean_[ 0.00026393 -0.01633181 -0.00803396]_variabce_[0.5579612  0.36145556 0.4295011 ]\n",
            "layer_74_mean_[-0.05945932  0.00263194 -0.02841383]_variabce_[0.6117447  0.3860334  0.46962258]\n",
            "layer_75_mean_[-0.07125977 -0.02987736 -0.05056859]_variabce_[0.60511625 0.3980221  0.4759377 ]\n",
            "layer_76_mean_[-0.11752701 -0.07565725 -0.09659219]_variabce_[0.61775    0.41665986 0.4920633 ]\n",
            "layer_77_mean_[-0.06997493 -0.03255188 -0.05126337]_variabce_[0.6751227  0.46627948 0.54230875]\n",
            "layer_78_mean_[0.0727571  0.02740271 0.0500799 ]_variabce_[0.6757432  0.45876452 0.5417031 ]\n",
            "layer_79_mean_[0.03061183 0.04176667 0.03618927]_variabce_[0.6725917  0.47276995 0.5472993 ]\n"
          ]
        }
      ]
    },
    {
      "cell_type": "markdown",
      "metadata": {
        "id": "dAE07JYJfYc5"
      },
      "source": [
        "### 结论\n",
        "1. 输入，输出方差一致性。\n",
        "2. 但一切都基于layer选择无激活函数时的情况"
      ]
    },
    {
      "cell_type": "markdown",
      "metadata": {
        "id": "zti_5YBPfYc5"
      },
      "source": [
        "# 参数初始化-activation\n",
        "## sigmoid & tanh"
      ]
    },
    {
      "cell_type": "code",
      "metadata": {
        "id": "pvMI1qjofYc5",
        "outputId": "99e4ece9-0431-4ba5-fab2-52921c57768e"
      },
      "source": [
        "feature_layer = tf.compat.v1.keras.layers.DenseFeatures(feature_columns=[emb])\n",
        "dense_tensor = feature_layer(features, training=False)\n",
        "layer_num = 80\n",
        "for index, units in enumerate([128]*layer_num):\n",
        "    dense_tensor = tf.compat.v1.keras.layers.Dense(units, activation='relu',\n",
        "                                                   kernel_initializer=tf.keras.initializers.GlorotUniform)(dense_tensor)\n",
        "    mean, variance = tf.nn.moments(dense_tensor, axes=1)\n",
        "    print('layer_{}_mean_{}_variabce_{}'.format(index, mean, variance**0.5))\n",
        "prediction = tf.compat.v1.keras.layers.Dense(1)(dense_tensor)"
      ],
      "execution_count": null,
      "outputs": [
        {
          "name": "stdout",
          "output_type": "stream",
          "text": [
            "layer_0_mean_[0.38708365 0.4723001  0.3041571 ]_variabce_[0.54093164 0.61664486 0.42793804]\n",
            "layer_1_mean_[0.2547238  0.31664765 0.203093  ]_variabce_[0.35807145 0.44605884 0.2941656 ]\n",
            "layer_2_mean_[0.18215099 0.24574809 0.16300657]_variabce_[0.2651742  0.31129587 0.20953818]\n",
            "layer_3_mean_[0.14823917 0.15288803 0.11309601]_variabce_[0.21272396 0.22477272 0.1561114 ]\n",
            "layer_4_mean_[0.09851833 0.12605196 0.08142226]_variabce_[0.14044975 0.18249093 0.10882287]\n",
            "layer_5_mean_[0.06090649 0.09730212 0.05504981]_variabce_[0.08821749 0.13933423 0.07545511]\n",
            "layer_6_mean_[0.04671136 0.06696291 0.03718035]_variabce_[0.06388108 0.09618846 0.05271107]\n",
            "layer_7_mean_[0.0325173  0.04154013 0.02335726]_variabce_[0.0461579  0.06434995 0.03571976]\n",
            "layer_8_mean_[0.02049509 0.03298849 0.01551645]_variabce_[0.03293059 0.05112841 0.02288269]\n",
            "layer_9_mean_[0.0167726  0.0240771  0.01162702]_variabce_[0.02301887 0.03129017 0.01543266]\n",
            "layer_10_mean_[0.01164736 0.01712047 0.00759532]_variabce_[0.01635502 0.02622594 0.01048222]\n",
            "layer_11_mean_[0.00825432 0.01281232 0.00530071]_variabce_[0.0121826  0.01917031 0.00769901]\n",
            "layer_12_mean_[0.00627394 0.00956504 0.00409318]_variabce_[0.0085375  0.01293811 0.0056251 ]\n",
            "layer_13_mean_[0.00298329 0.00488476 0.00196786]_variabce_[0.0053059  0.00806366 0.00350843]\n",
            "layer_14_mean_[0.00212083 0.0032819  0.00137038]_variabce_[0.00343092 0.00533279 0.00218134]\n",
            "layer_15_mean_[0.00171483 0.0027295  0.00115006]_variabce_[0.00244621 0.00366581 0.00166543]\n",
            "layer_16_mean_[0.00085478 0.0012826  0.00060202]_variabce_[0.00151079 0.00231557 0.00110697]\n",
            "layer_17_mean_[0.00062326 0.0009542  0.00044043]_variabce_[0.00098653 0.00147162 0.00067077]\n",
            "layer_18_mean_[0.00051706 0.0008253  0.00035242]_variabce_[0.00070893 0.00116886 0.00051584]\n",
            "layer_19_mean_[0.00036492 0.00056662 0.00026345]_variabce_[0.00052157 0.00083715 0.00038343]\n",
            "layer_20_mean_[0.00023301 0.0003678  0.0001695 ]_variabce_[0.00032782 0.00051655 0.00024162]\n",
            "layer_21_mean_[0.00018562 0.00028463 0.00013401]_variabce_[0.00024769 0.00037338 0.00017734]\n",
            "layer_22_mean_[1.20753575e-04 1.80009258e-04 8.48043201e-05]_variabce_[0.00018421 0.00026587 0.00012719]\n",
            "layer_23_mean_[8.6129308e-05 1.2124976e-04 6.0410021e-05]_variabce_[1.12213245e-04 1.70002502e-04 7.96541208e-05]\n",
            "layer_24_mean_[6.1561950e-05 8.5124244e-05 4.3534608e-05]_variabce_[8.7425942e-05 1.2204827e-04 6.2715822e-05]\n",
            "layer_25_mean_[4.130629e-05 5.847007e-05 2.848532e-05]_variabce_[5.8590955e-05 8.2969520e-05 4.1884698e-05]\n",
            "layer_26_mean_[3.0261164e-05 4.0991574e-05 2.1228147e-05]_variabce_[3.8164351e-05 5.5805467e-05 2.7234897e-05]\n",
            "layer_27_mean_[1.73317021e-05 2.83296540e-05 1.21256835e-05]_variabce_[2.6247948e-05 3.9551644e-05 1.8729872e-05]\n",
            "layer_28_mean_[1.5091008e-05 2.1805346e-05 1.0278131e-05]_variabce_[2.1607555e-05 3.2332657e-05 1.4491940e-05]\n",
            "layer_29_mean_[1.1338538e-05 1.7130045e-05 7.6985943e-06]_variabce_[1.5767437e-05 2.4457791e-05 1.0446391e-05]\n",
            "layer_30_mean_[6.97557880e-06 1.03624225e-05 4.58266095e-06]_variabce_[9.8582059e-06 1.4438609e-05 6.4483847e-06]\n",
            "layer_31_mean_[4.9017353e-06 7.9022657e-06 3.1421127e-06]_variabce_[6.9857992e-06 1.0626320e-05 4.5666166e-06]\n",
            "layer_32_mean_[2.8509348e-06 4.4803523e-06 1.8786835e-06]_variabce_[4.6959394e-06 7.2125063e-06 3.0593321e-06]\n",
            "layer_33_mean_[2.2527013e-06 3.3107660e-06 1.5192710e-06]_variabce_[3.8480462e-06 5.4052070e-06 2.4982926e-06]\n",
            "layer_34_mean_[1.9524148e-06 2.7890355e-06 1.2915378e-06]_variabce_[2.7924714e-06 3.9457846e-06 1.8393032e-06]\n",
            "layer_35_mean_[1.6492422e-06 2.3943840e-06 1.0988772e-06]_variabce_[2.2327561e-06 3.3286105e-06 1.4774417e-06]\n",
            "layer_36_mean_[1.0546394e-06 1.5136358e-06 7.1568275e-07]_variabce_[1.3936465e-06 2.0958994e-06 9.5042947e-07]\n",
            "layer_37_mean_[8.3765258e-07 1.2521357e-06 5.6706165e-07]_variabce_[1.1825006e-06 1.7076269e-06 7.9081525e-07]\n",
            "layer_38_mean_[5.1945756e-07 7.6845367e-07 3.4517538e-07]_variabce_[8.1282747e-07 1.1729820e-06 5.4435617e-07]\n",
            "layer_39_mean_[4.5766728e-07 6.5085032e-07 3.1040395e-07]_variabce_[6.0038303e-07 8.3323278e-07 4.0809616e-07]\n",
            "layer_40_mean_[3.2856914e-07 4.4647845e-07 2.2225097e-07]_variabce_[4.1959171e-07 5.6988847e-07 2.8775796e-07]\n",
            "layer_41_mean_[2.2639608e-07 3.2285806e-07 1.5411536e-07]_variabce_[3.7220138e-07 5.1423552e-07 2.5397429e-07]\n",
            "layer_42_mean_[1.5686160e-07 2.2382403e-07 1.0700015e-07]_variabce_[2.4521367e-07 3.4128414e-07 1.6781883e-07]\n",
            "layer_43_mean_[1.2675207e-07 1.7711565e-07 8.7421640e-08]_variabce_[1.7546718e-07 2.4684016e-07 1.1993212e-07]\n",
            "layer_44_mean_[8.7272255e-08 1.2415759e-07 5.9700923e-08]_variabce_[1.2480110e-07 1.7356037e-07 8.5224947e-08]\n",
            "layer_45_mean_[6.269779e-08 8.613122e-08 4.280262e-08]_variabce_[9.7329412e-08 1.3564228e-07 6.5805295e-08]\n",
            "layer_46_mean_[4.824618e-08 6.672901e-08 3.304903e-08]_variabce_[6.7260501e-08 9.1532051e-08 4.5884498e-08]\n",
            "layer_47_mean_[2.4309113e-08 3.2251656e-08 1.6454814e-08]_variabce_[3.8746780e-08 5.0839446e-08 2.6253394e-08]\n",
            "layer_48_mean_[1.8494072e-08 2.4393259e-08 1.2554928e-08]_variabce_[2.5738446e-08 3.3791757e-08 1.7326833e-08]\n",
            "layer_49_mean_[1.4638207e-08 1.9595749e-08 9.8951123e-09]_variabce_[1.95144345e-08 2.55537653e-08 1.31587194e-08]\n",
            "layer_50_mean_[1.05504165e-08 1.36890943e-08 7.10601578e-09]_variabce_[1.3274237e-08 1.7538222e-08 8.9359196e-09]\n",
            "layer_51_mean_[8.08572409e-09 1.02488364e-08 5.39994849e-09]_variabce_[1.0686799e-08 1.4227851e-08 7.1574831e-09]\n",
            "layer_52_mean_[5.2890181e-09 7.0973627e-09 3.5375742e-09]_variabce_[8.5013863e-09 1.1309242e-08 5.7057212e-09]\n",
            "layer_53_mean_[3.9383075e-09 5.1733577e-09 2.6405904e-09]_variabce_[5.644496e-09 7.428627e-09 3.776669e-09]\n",
            "layer_54_mean_[2.7324276e-09 3.4663596e-09 1.8364406e-09]_variabce_[3.6366561e-09 4.8793103e-09 2.4453259e-09]\n",
            "layer_55_mean_[1.8457196e-09 2.4088982e-09 1.2324534e-09]_variabce_[2.8090665e-09 3.7492414e-09 1.8934954e-09]\n",
            "layer_56_mean_[9.2485608e-10 1.2436587e-09 6.1235822e-10]_variabce_[1.6286132e-09 2.2296220e-09 1.0846545e-09]\n",
            "layer_57_mean_[8.3435669e-10 1.1485091e-09 5.5046184e-10]_variabce_[1.0687232e-09 1.4583209e-09 7.1125811e-10]\n",
            "layer_58_mean_[5.099060e-10 6.705555e-10 3.366136e-10]_variabce_[7.9673868e-10 1.0455045e-09 5.2414867e-10]\n",
            "layer_59_mean_[3.7761710e-10 5.0842225e-10 2.4880237e-10]_variabce_[5.0975613e-10 6.8324196e-10 3.3674188e-10]\n",
            "layer_60_mean_[2.5803795e-10 3.4416914e-10 1.7099572e-10]_variabce_[3.6227135e-10 4.8114357e-10 2.3861843e-10]\n",
            "layer_61_mean_[2.2748504e-10 2.9029951e-10 1.4940416e-10]_variabce_[2.9074734e-10 3.8407527e-10 1.9191032e-10]\n",
            "layer_62_mean_[1.4329836e-10 1.8198767e-10 9.5108622e-11]_variabce_[1.9775412e-10 2.4911587e-10 1.3042119e-10]\n",
            "layer_63_mean_[9.6281219e-11 1.1948359e-10 6.3109393e-11]_variabce_[1.3159034e-10 1.6623850e-10 8.6782803e-11]\n",
            "layer_64_mean_[5.1197133e-11 6.5199235e-11 3.3755616e-11]_variabce_[9.0495680e-11 1.1725154e-10 5.9860179e-11]\n",
            "layer_65_mean_[4.6150181e-11 5.8021726e-11 3.0418373e-11]_variabce_[5.9193664e-11 7.9221608e-11 3.9355904e-11]\n",
            "layer_66_mean_[2.1854563e-11 2.7734998e-11 1.4399805e-11]_variabce_[3.5777672e-11 4.6752720e-11 2.3740419e-11]\n",
            "layer_67_mean_[1.7789180e-11 2.1213224e-11 1.1699366e-11]_variabce_[2.5861794e-11 3.1705090e-11 1.6957526e-11]\n",
            "layer_68_mean_[1.0941735e-11 1.3671630e-11 7.1616059e-12]_variabce_[1.7117054e-11 2.1669468e-11 1.1313236e-11]\n",
            "layer_69_mean_[8.7741411e-12 1.1426356e-11 5.8053536e-12]_variabce_[1.2764706e-11 1.5788353e-11 8.3712126e-12]\n",
            "layer_70_mean_[6.7258785e-12 8.4468144e-12 4.4275820e-12]_variabce_[8.7338045e-12 1.0897110e-11 5.7063794e-12]\n",
            "layer_71_mean_[6.344796e-12 8.219414e-12 4.215541e-12]_variabce_[7.5513137e-12 9.4942856e-12 4.9134464e-12]\n",
            "layer_72_mean_[4.8757300e-12 6.2762868e-12 3.2006572e-12]_variabce_[6.5769608e-12 8.4056564e-12 4.3305580e-12]\n",
            "layer_73_mean_[3.0436886e-12 3.8344605e-12 1.9914686e-12]_variabce_[4.5014747e-12 5.9535558e-12 2.9758912e-12]\n",
            "layer_74_mean_[2.1558402e-12 2.7658171e-12 1.4123029e-12]_variabce_[3.4816720e-12 4.5160269e-12 2.2779484e-12]\n",
            "layer_75_mean_[1.5808854e-12 2.0744951e-12 1.0387023e-12]_variabce_[2.3433664e-12 3.0964610e-12 1.5426191e-12]\n",
            "layer_76_mean_[1.1639288e-12 1.5541162e-12 7.6393026e-13]_variabce_[1.5704169e-12 2.0897244e-12 1.0333134e-12]\n",
            "layer_77_mean_[7.409672e-13 9.650074e-13 4.889519e-13]_variabce_[9.9273281e-13 1.3023176e-12 6.5043072e-13]\n",
            "layer_78_mean_[5.1153331e-13 6.4742607e-13 3.3003797e-13]_variabce_[6.7704300e-13 8.6930810e-13 4.3875098e-13]\n",
            "layer_79_mean_[2.7966599e-13 3.5594056e-13 1.7980936e-13]_variabce_[4.5228323e-13 5.7295103e-13 2.9240220e-13]\n"
          ]
        }
      ]
    },
    {
      "cell_type": "markdown",
      "metadata": {
        "id": "RGfwSgjZfYc6"
      },
      "source": [
        "### 结论\n",
        "1. sigmoid时，0.5均值，0.1方差\n",
        "2. tanh时，0均值，逐减方差\n",
        "3. relu时，0均值，0方差\n",
        "4. Xavier只能针对sigmoid和tanh的饱和激活函数，无法应用relu非饱和激活函数。"
      ]
    },
    {
      "cell_type": "markdown",
      "metadata": {
        "id": "89qYzxRDfYc6"
      },
      "source": [
        "## 激活函数的增益证明-待补充\n",
        "1. sigmoid: 1；\n",
        "2. tnah: 5/3。\n",
        "3. 缺点：指数运算、软饱和，梯度更新慢\n",
        "\n",
        "![激活函数信息增益](https://pic4.zhimg.com/80/v2-5346cac5ab78831170c31afdda6c79a3_720w.jpg)"
      ]
    },
    {
      "cell_type": "markdown",
      "metadata": {
        "id": "ghAWMfYgfYc6"
      },
      "source": [
        "### Kaiming初始化\n"
      ]
    },
    {
      "cell_type": "code",
      "metadata": {
        "id": "RNNjP-YnfYc7",
        "outputId": "6ec01fb0-4577-4873-f549-205999bea3d9"
      },
      "source": [
        "feature_layer = tf.compat.v1.keras.layers.DenseFeatures(feature_columns=[emb])\n",
        "dense_tensor = feature_layer(features, training=False)\n",
        "layer_num = 80\n",
        "for index, units in enumerate([128]*layer_num):\n",
        "    dense_tensor = tf.compat.v1.keras.layers.Dense(units, activation='relu',\n",
        "                                                   kernel_initializer=tf.keras.initializers.HeUniform)(dense_tensor)\n",
        "    mean, variance = tf.nn.moments(dense_tensor, axes=1)\n",
        "    print('layer_{}_mean_{}_variabce_{}'.format(index, mean, variance**0.5))\n",
        "prediction = tf.compat.v1.keras.layers.Dense(1)(dense_tensor)"
      ],
      "execution_count": null,
      "outputs": [
        {
          "name": "stdout",
          "output_type": "stream",
          "text": [
            "layer_0_mean_[0.6815914  0.44994766 0.4279186 ]_variabce_[0.93412244 0.74842    0.633804  ]\n",
            "layer_1_mean_[0.74655604 0.44662625 0.44490612]_variabce_[0.9562693 0.6873715 0.5816312]\n",
            "layer_2_mean_[0.6344416  0.4201606  0.37366065]_variabce_[0.95291287 0.6056135  0.5512138 ]\n",
            "layer_3_mean_[0.63523066 0.4870914  0.38921013]_variabce_[0.9148161  0.64915854 0.55019027]\n",
            "layer_4_mean_[0.6661496  0.42441612 0.38301337]_variabce_[0.8732549  0.61280215 0.5185682 ]\n",
            "layer_5_mean_[0.5462897  0.37623435 0.3140301 ]_variabce_[0.8165627  0.5244592  0.45257992]\n",
            "layer_6_mean_[0.53636336 0.34057957 0.3263271 ]_variabce_[0.77413094 0.50370675 0.4690775 ]\n",
            "layer_7_mean_[0.5432247  0.38242215 0.3228837 ]_variabce_[0.77435297 0.54743886 0.46645826]\n",
            "layer_8_mean_[0.5245128  0.38176587 0.28827542]_variabce_[0.80272794 0.5410475  0.45088774]\n",
            "layer_9_mean_[0.55005604 0.3363331  0.2887788 ]_variabce_[0.86950207 0.52417994 0.43467844]\n",
            "layer_10_mean_[0.42597854 0.25813988 0.22418189]_variabce_[0.6896235  0.40841714 0.3572253 ]\n",
            "layer_11_mean_[0.3771584  0.23201649 0.17337017]_variabce_[0.58651257 0.3647583  0.28260866]\n",
            "layer_12_mean_[0.3548866 0.2515641 0.185664 ]_variabce_[0.5010066  0.32239532 0.24592735]\n",
            "layer_13_mean_[0.39060783 0.3002985  0.19741173]_variabce_[0.5991408  0.44281822 0.29460338]\n",
            "layer_14_mean_[0.4762144  0.3629939  0.21439669]_variabce_[0.6688173  0.48143148 0.32043517]\n",
            "layer_15_mean_[0.4559245  0.32252944 0.20735574]_variabce_[0.6787858  0.44669253 0.32575813]\n",
            "layer_16_mean_[0.44617245 0.29318613 0.21150051]_variabce_[0.62550414 0.40864447 0.2934017 ]\n",
            "layer_17_mean_[0.44096738 0.2433913  0.22079042]_variabce_[0.58737177 0.3351212  0.27809736]\n",
            "layer_18_mean_[0.38559872 0.2104292  0.184098  ]_variabce_[0.6261625  0.33829853 0.29528624]\n",
            "layer_19_mean_[0.47147956 0.26317257 0.23003247]_variabce_[0.66896284 0.37585714 0.31352082]\n",
            "layer_20_mean_[0.6028695  0.33984983 0.28979182]_variabce_[0.77968395 0.4357973  0.37762773]\n",
            "layer_21_mean_[0.57043254 0.29576677 0.26489344]_variabce_[0.7877586  0.41630378 0.3676211 ]\n",
            "layer_22_mean_[0.64157856 0.3276849  0.2982878 ]_variabce_[0.91404504 0.4563254  0.42499682]\n",
            "layer_23_mean_[0.7106725 0.3437938 0.3251931]_variabce_[0.9847555  0.48037523 0.45630363]\n",
            "layer_24_mean_[0.68518615 0.3513685  0.31490517]_variabce_[1.0612756  0.54805666 0.4923757 ]\n",
            "layer_25_mean_[0.63671976 0.3434445  0.29166552]_variabce_[1.0193623  0.53718966 0.46401462]\n",
            "layer_26_mean_[0.7152519  0.38341212 0.3183876 ]_variabce_[1.1140845  0.6049821  0.49768502]\n",
            "layer_27_mean_[0.6809046  0.38799477 0.29549217]_variabce_[1.0720094  0.58279645 0.48731145]\n",
            "layer_28_mean_[0.70936424 0.3897526  0.32031792]_variabce_[1.0544127  0.57157755 0.47987565]\n",
            "layer_29_mean_[0.7455218  0.39820665 0.34544396]_variabce_[0.93420213 0.50061464 0.4209695 ]\n",
            "layer_30_mean_[0.59912795 0.32062465 0.2702432 ]_variabce_[1.0179633  0.5398362  0.46410218]\n",
            "layer_31_mean_[0.7462791  0.39015466 0.3392863 ]_variabce_[0.94625545 0.4878749  0.43945763]\n",
            "layer_32_mean_[0.68428123 0.35008654 0.32001913]_variabce_[1.0303314  0.52583456 0.48426068]\n",
            "layer_33_mean_[0.7578895 0.3834328 0.3570851]_variabce_[1.0663089 0.5467462 0.4917964]\n",
            "layer_34_mean_[0.64900565 0.33351916 0.29942825]_variabce_[0.96481323 0.50274813 0.44692278]\n",
            "layer_35_mean_[0.6189881  0.31984842 0.28606042]_variabce_[1.0209326  0.52513164 0.47889054]\n",
            "layer_36_mean_[0.56854016 0.29679662 0.2650747 ]_variabce_[0.88322335 0.45126942 0.40413204]\n",
            "layer_37_mean_[0.60720634 0.31868917 0.27394193]_variabce_[0.8938841  0.46750584 0.40609908]\n",
            "layer_38_mean_[0.63926655 0.3325094  0.2941211 ]_variabce_[0.8326781  0.43746033 0.38674253]\n",
            "layer_39_mean_[0.60646254 0.322709   0.28098762]_variabce_[0.9255048  0.4931139  0.42477277]\n",
            "layer_40_mean_[0.6657294  0.35384333 0.31049606]_variabce_[0.9077635  0.48440003 0.4252654 ]\n",
            "layer_41_mean_[0.5755683  0.3034616  0.27933824]_variabce_[0.76415867 0.40497127 0.3579126 ]\n",
            "layer_42_mean_[0.5896346  0.3180617  0.27413398]_variabce_[0.86455816 0.46437255 0.4002329 ]\n",
            "layer_43_mean_[0.66379035 0.36328232 0.30657935]_variabce_[1.0065439  0.55917233 0.45942762]\n",
            "layer_44_mean_[0.7524203  0.41672793 0.34441444]_variabce_[1.0715317 0.5955545 0.4872134]\n",
            "layer_45_mean_[0.67134225 0.36865562 0.30136412]_variabce_[0.96624553 0.52805054 0.43839183]\n",
            "layer_46_mean_[0.6190521  0.34018147 0.2794851 ]_variabce_[0.9404115 0.5107431 0.4274183]\n",
            "layer_47_mean_[0.65131867 0.35122803 0.29900873]_variabce_[0.9689812  0.5285804  0.43985942]\n",
            "layer_48_mean_[0.71633065 0.39436477 0.32456535]_variabce_[1.0639175  0.5883055  0.47606158]\n",
            "layer_49_mean_[0.6085442  0.33600622 0.2761295 ]_variabce_[0.9154919  0.51150763 0.41012976]\n",
            "layer_50_mean_[0.5843528  0.32594782 0.2586295 ]_variabce_[0.9079345  0.506737   0.40460455]\n",
            "layer_51_mean_[0.65195894 0.36039197 0.28416723]_variabce_[0.99380517 0.5551616  0.44348726]\n",
            "layer_52_mean_[0.64726245 0.35983896 0.2851703 ]_variabce_[0.99571025 0.55285054 0.4388016 ]\n",
            "layer_53_mean_[0.6537198  0.36384934 0.29280913]_variabce_[0.9762704  0.5416818  0.43401363]\n",
            "layer_54_mean_[0.53885776 0.3023144  0.23890315]_variabce_[0.86962    0.48802593 0.3857691 ]\n",
            "layer_55_mean_[0.56890696 0.31976974 0.25135094]_variabce_[0.76109433 0.43437076 0.3412962 ]\n",
            "layer_56_mean_[0.57740325 0.32828337 0.26003927]_variabce_[0.75573903 0.4297159  0.33729365]\n",
            "layer_57_mean_[0.40565088 0.23112702 0.17955455]_variabce_[0.6619636  0.37635806 0.29494673]\n",
            "layer_58_mean_[0.44491827 0.2542091  0.19933668]_variabce_[0.6811798  0.3868618  0.30378374]\n",
            "layer_59_mean_[0.3978501  0.2285504  0.17831212]_variabce_[0.665479   0.37924516 0.2974778 ]\n",
            "layer_60_mean_[0.49787316 0.29036176 0.2253007 ]_variabce_[0.6713432  0.39408955 0.30409452]\n",
            "layer_61_mean_[0.5452805  0.31957787 0.2467127 ]_variabce_[0.7017124  0.41204885 0.31773543]\n",
            "layer_62_mean_[0.42974022 0.25147754 0.19637525]_variabce_[0.7117548 0.4183061 0.3236471]\n",
            "layer_63_mean_[0.533683   0.31377915 0.24451727]_variabce_[0.78680927 0.45555684 0.35882676]\n",
            "layer_64_mean_[0.50651586 0.2989542  0.23193718]_variabce_[0.78588986 0.46122342 0.3575502 ]\n",
            "layer_65_mean_[0.45888692 0.26906443 0.20865242]_variabce_[0.7419376  0.43437937 0.33871278]\n",
            "layer_66_mean_[0.6376966 0.3740741 0.2912653]_variabce_[0.78308845 0.46322966 0.35855263]\n",
            "layer_67_mean_[0.6788908  0.39468247 0.3085655 ]_variabce_[0.9819774  0.57355005 0.44632357]\n",
            "layer_68_mean_[0.58536315 0.34130853 0.2655203 ]_variabce_[0.87908447 0.5094662  0.3996821 ]\n",
            "layer_69_mean_[0.6026585 0.3506542 0.2735078]_variabce_[0.8760821  0.50966465 0.39809468]\n",
            "layer_70_mean_[0.48234138 0.28217468 0.21875128]_variabce_[0.76263005 0.44427192 0.34621933]\n",
            "layer_71_mean_[0.49441656 0.28824604 0.22508344]_variabce_[0.73716956 0.42648572 0.3343117 ]\n",
            "layer_72_mean_[0.4508054  0.2602289  0.20406497]_variabce_[0.70114976 0.40512162 0.31785238]\n",
            "layer_73_mean_[0.46877265 0.26977885 0.2122255 ]_variabce_[0.64720786 0.37174943 0.29268172]\n",
            "layer_74_mean_[0.4382956  0.25122702 0.19825985]_variabce_[0.63446647 0.36615005 0.2883325 ]\n",
            "layer_75_mean_[0.35724935 0.21103205 0.16411534]_variabce_[0.5694714  0.33295777 0.26029494]\n",
            "layer_76_mean_[0.31879205 0.18859638 0.14657123]_variabce_[0.51943296 0.30426866 0.2376519 ]\n",
            "layer_77_mean_[0.36502904 0.21607268 0.16735142]_variabce_[0.4955884  0.29562756 0.22826837]\n",
            "layer_78_mean_[0.3733073  0.22398311 0.17262733]_variabce_[0.5315829  0.31471795 0.24403106]\n",
            "layer_79_mean_[0.31220204 0.18428531 0.14319368]_variabce_[0.47959602 0.28421387 0.22022618]\n"
          ]
        }
      ]
    },
    {
      "cell_type": "markdown",
      "metadata": {
        "id": "0WIFhOxSfYc7"
      },
      "source": [
        "# 模型现状\n",
        "## 特征emb初始化\n",
        "参数初始化：**tf.keras.initializers.VarianceScaling(distribution='uniform')**\n",
        "```\n",
        "With `distribution=\"uniform\"`, samples are drawn from a uniform distribution\n",
        "  within [-limit, limit], with `limit = sqrt(3 * scale / n)`.\n",
        "```  \n",
        "$$limit = \\sqrt(\\frac{3 * scale}{n})$$\n",
        "均匀分布的方差为$\\frac{(a-b)^2}{12}$\n",
        "\n",
        "\n",
        "## before mmoe hidden layer\n",
        "1. 参数初始化：**tf.compat.v1.glorot_uniform_initializer()**\n",
        "2. 激活函数：relu\n",
        "```\n",
        "Draws samples from a uniform distribution within [-limit, limit] where `limit` is `sqrt(6 / (fan_in + fan_out))` where `fan_in` is the number of input units in the weight tensor and `fan_out` is the number of output units in the weight tensor.\n",
        "```\n",
        "$$limit = \\sqrt(\\frac{6}{fan_{in} + fan_{out}})$$\n",
        "\n",
        "## mmoe-expert部分\n",
        "1. 参数初始化：**VarianceScaling**\n",
        "2. 激活函数：relu\n",
        "$$limit = \\sqrt(\\frac{3 * 1}{n})$$\n",
        "\n",
        "\n",
        "## multi_head-dnn部分\n",
        "1. 参数初始化：**glorot_uniform**\n",
        "2. 激活函数：relu\n",
        "$$limit = \\sqrt(\\frac{6}{fan_{in} + fan_{out}})$$\n",
        "\n",
        "\n",
        "\n",
        "## output部分\n",
        "1. 参数初始化：**tf.keras.initializers.VarianceScaling()**\n",
        "2. 激活函数：无即linear；损失计算过sigmoid。\n",
        "$$limit = \\sqrt(\\frac{3 * 1}{n})$$\n"
      ]
    },
    {
      "cell_type": "markdown",
      "metadata": {
        "id": "U0Iwq3SjfYc7"
      },
      "source": [
        "# reference\n",
        "https://zhuanlan.zhihu.com/p/148034113"
      ]
    }
  ]
}