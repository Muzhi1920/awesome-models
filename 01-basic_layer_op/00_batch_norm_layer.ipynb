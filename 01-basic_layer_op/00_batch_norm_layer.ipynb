{
  "nbformat": 4,
  "nbformat_minor": 0,
  "metadata": {
    "colab": {
      "name": "00_batch_norm_layer.ipynb",
      "provenance": [],
      "collapsed_sections": [],
      "authorship_tag": "ABX9TyNw8FHMyQd5SDbUBM2Mkl5N",
      "include_colab_link": true
    },
    "kernelspec": {
      "name": "python3",
      "display_name": "Python 3"
    },
    "language_info": {
      "name": "python"
    }
  },
  "cells": [
    {
      "cell_type": "markdown",
      "metadata": {
        "id": "view-in-github",
        "colab_type": "text"
      },
      "source": [
        "<a href=\"https://colab.research.google.com/github/Muzhi1920/awesome-models/blob/main/01-basic_layer_op/00_batch_norm_layer.ipynb\" target=\"_parent\"><img src=\"https://colab.research.google.com/assets/colab-badge.svg\" alt=\"Open In Colab\"/></a>"
      ]
    },
    {
      "cell_type": "markdown",
      "metadata": {
        "id": "zxsf6djO-L2f"
      },
      "source": [
        "## batch norm\n",
        "1. layer是横向处理，对该样本内的units输出，进行规范化；\n",
        "2. batch是纵向处理，获得该mini-batch的均值方差，得到样本间的规范化输出\n",
        "\n",
        "假设mini-batch一共有N个样本，则Batch Normalization是对纵向按照维度进行归一，而Layer Normalization对于单个的样本内进行规范化处理"
      ]
    },
    {
      "cell_type": "code",
      "metadata": {
        "id": "sT139yeSiNvE"
      },
      "source": [
        "import tensorflow as tf\n",
        "from tensorflow.keras.layers import Layer, Dense, LayerNormalization, Dropout, Embedding\n",
        "import numpy as np"
      ],
      "execution_count": null,
      "outputs": []
    },
    {
      "cell_type": "code",
      "metadata": {
        "colab": {
          "base_uri": "https://localhost:8080/"
        },
        "id": "oJHZIp0iiYnL",
        "outputId": "68ba0ea9-fc41-492f-be55-57865056dd4f"
      },
      "source": [
        "data = tf.constant(np.arange(10).reshape(5, 2), dtype=tf.float32)\n",
        "data"
      ],
      "execution_count": null,
      "outputs": [
        {
          "output_type": "execute_result",
          "data": {
            "text/plain": [
              "<tf.Tensor: shape=(5, 2), dtype=float32, numpy=\n",
              "array([[0., 1.],\n",
              "       [2., 3.],\n",
              "       [4., 5.],\n",
              "       [6., 7.],\n",
              "       [8., 9.]], dtype=float32)>"
            ]
          },
          "metadata": {},
          "execution_count": 2
        }
      ]
    },
    {
      "cell_type": "code",
      "metadata": {
        "colab": {
          "base_uri": "https://localhost:8080/"
        },
        "id": "tsvlWpcDiYgg",
        "outputId": "bc06b276-d008-483d-ed78-b99ce8158fb9"
      },
      "source": [
        "layer = tf.keras.layers.BatchNormalization()\n",
        "layer"
      ],
      "execution_count": null,
      "outputs": [
        {
          "output_type": "execute_result",
          "data": {
            "text/plain": [
              "<keras.layers.normalization.batch_normalization.BatchNormalization at 0x7f8ce829db10>"
            ]
          },
          "metadata": {},
          "execution_count": 3
        }
      ]
    },
    {
      "cell_type": "code",
      "metadata": {
        "colab": {
          "base_uri": "https://localhost:8080/"
        },
        "id": "jKyy1VqriYeE",
        "outputId": "0687a838-e83f-4d04-d562-ebb053e49cf5"
      },
      "source": [
        "layer(data)"
      ],
      "execution_count": null,
      "outputs": [
        {
          "output_type": "execute_result",
          "data": {
            "text/plain": [
              "<tf.Tensor: shape=(5, 2), dtype=float32, numpy=\n",
              "array([[0.       , 0.9995004],\n",
              "       [1.9990008, 2.9985013],\n",
              "       [3.9980016, 4.997502 ],\n",
              "       [5.9970026, 6.996503 ],\n",
              "       [7.996003 , 8.995503 ]], dtype=float32)>"
            ]
          },
          "metadata": {},
          "execution_count": 4
        }
      ]
    },
    {
      "cell_type": "markdown",
      "metadata": {
        "id": "ttRwNS1WiiW6"
      },
      "source": [
        "- `gamma * (batch - mean(batch)) / sqrt(var(batch) + epsilon) + beta`\n",
        "- `gamma * (batch - self.moving_mean) / sqrt(self.moving_var + epsilon) + beta`.\n",
        "- `moving_mean = moving_mean * momentum + mean(batch) * (1 - momentum)`\n",
        "- `moving_var = moving_var * momentum + var(batch) * (1 - momentum)`\n",
        "\n",
        "1. 初始化：self.mean=0,self.var=1,\n",
        "2. 用于迭代：momentum=0.99\n",
        "\n",
        "batch_norm_layer：设定moving_mean,moving_var，来调整不同batch的均值方差"
      ]
    },
    {
      "cell_type": "code",
      "metadata": {
        "colab": {
          "base_uri": "https://localhost:8080/"
        },
        "id": "mBoNUd0uiYTX",
        "outputId": "debc4a36-eec2-4117-95d7-e69ba8b8519c"
      },
      "source": [
        "(data)/np.sqrt(1+0.001)"
      ],
      "execution_count": null,
      "outputs": [
        {
          "output_type": "execute_result",
          "data": {
            "text/plain": [
              "<tf.Tensor: shape=(5, 2), dtype=float32, numpy=\n",
              "array([[0.       , 0.9995004],\n",
              "       [1.9990008, 2.9985013],\n",
              "       [3.9980016, 4.997502 ],\n",
              "       [5.9970026, 6.996503 ],\n",
              "       [7.996003 , 8.995503 ]], dtype=float32)>"
            ]
          },
          "metadata": {},
          "execution_count": 6
        }
      ]
    },
    {
      "cell_type": "markdown",
      "metadata": {
        "id": "64g3F_Afippp"
      },
      "source": [
        "基本认同https://zhuanlan.zhihu.com/p/38755603\n",
        "1. layer_norm，横向对该样本内的输出进行规范化；\n",
        "2. batch_norm，纵向对该mini-batch的样本进行规范化"
      ]
    },
    {
      "cell_type": "code",
      "metadata": {
        "id": "a3wBACfjiX8G"
      },
      "source": [
        ""
      ],
      "execution_count": null,
      "outputs": []
    }
  ]
}