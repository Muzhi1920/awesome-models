{
  "nbformat": 4,
  "nbformat_minor": 0,
  "metadata": {
    "colab": {
      "name": "00_loss_function.ipynb",
      "provenance": [],
      "collapsed_sections": [],
      "toc_visible": true,
      "authorship_tag": "ABX9TyPOXCO6Y7LIBKwq/PJb7JJT",
      "include_colab_link": true
    },
    "kernelspec": {
      "name": "python3",
      "display_name": "Python 3"
    },
    "language_info": {
      "name": "python"
    }
  },
  "cells": [
    {
      "cell_type": "markdown",
      "metadata": {
        "id": "view-in-github",
        "colab_type": "text"
      },
      "source": [
        "<a href=\"https://colab.research.google.com/github/Muzhi1920/awesome-models/blob/main/03-Loss%E4%B8%8E%E4%BC%98%E5%8C%96/00_loss_function.ipynb\" target=\"_parent\"><img src=\"https://colab.research.google.com/assets/colab-badge.svg\" alt=\"Open In Colab\"/></a>"
      ]
    },
    {
      "cell_type": "code",
      "metadata": {
        "id": "iiLw5lf14tIy"
      },
      "source": [
        "import tensorflow as tf\n",
        "import math\n",
        "import numpy as np\n",
        "from tensorflow.python.distribute import distribution_strategy_context as ds\n",
        "from tensorflow.python.framework import constant_op\n",
        "from tensorflow.python.framework import dtypes\n",
        "from tensorflow.python.framework import ops\n",
        "from tensorflow.python.ops import array_ops\n",
        "from tensorflow.python.ops import candidate_sampling_ops\n",
        "from tensorflow.python.ops import control_flow_ops\n",
        "from tensorflow.python.ops import custom_gradient\n",
        "from tensorflow.python.ops import embedding_ops\n",
        "from tensorflow.python.ops import gen_array_ops  # pylint: disable=unused-import\n",
        "from tensorflow.python.ops import gen_nn_ops\n",
        "from tensorflow.python.ops import gen_sparse_ops\n",
        "from tensorflow.python.ops import linalg_ops\n",
        "from tensorflow.python.ops import math_ops\n",
        "from tensorflow.python.ops import nn_ops\n",
        "from tensorflow.python.ops import variables\n",
        "from tensorflow.python.ops.losses import util as losses_util\n",
        "from tensorflow.python.platform import device_context\n",
        "from tensorflow.python.util import dispatch\n",
        "from tensorflow.python.util.deprecation import deprecated_args\n",
        "from tensorflow.python.util.deprecation import deprecated_argument_lookup\n",
        "from tensorflow.python.util.tf_export import tf_export"
      ],
      "execution_count": null,
      "outputs": []
    },
    {
      "cell_type": "markdown",
      "metadata": {
        "id": "OJ9XCQ_54zMw"
      },
      "source": [
        "## 0.准备工作"
      ]
    },
    {
      "cell_type": "code",
      "metadata": {
        "id": "wwWI_yGp4uVV",
        "colab": {
          "base_uri": "https://localhost:8080/"
        },
        "outputId": "c9b95f69-3d66-418f-90ae-3c0f0896ddba"
      },
      "source": [
        "logits = tf.random.normal(shape=[8,1])\n",
        "binomial_samples = tf.random.stateless_binomial(shape=[8], seed=[1, 2], counts=[1]*8, probs=[1.0], output_dtype=dtypes.float32)\n",
        "labels = tf.expand_dims(binomial_samples, axis=1)\n",
        "logits,labels"
      ],
      "execution_count": null,
      "outputs": [
        {
          "output_type": "execute_result",
          "data": {
            "text/plain": [
              "(<tf.Tensor: shape=(8, 1), dtype=float32, numpy=\n",
              " array([[ 0.743362  ],\n",
              "        [-0.04994878],\n",
              "        [-0.12192969],\n",
              "        [-0.6007877 ],\n",
              "        [-0.9180826 ],\n",
              "        [-0.53149897],\n",
              "        [-2.1738625 ],\n",
              "        [ 0.7629548 ]], dtype=float32)>,\n",
              " <tf.Tensor: shape=(8, 1), dtype=float32, numpy=\n",
              " array([[1.],\n",
              "        [1.],\n",
              "        [1.],\n",
              "        [1.],\n",
              "        [1.],\n",
              "        [1.],\n",
              "        [1.],\n",
              "        [1.]], dtype=float32)>)"
            ]
          },
          "metadata": {},
          "execution_count": 2
        }
      ]
    },
    {
      "cell_type": "markdown",
      "source": [
        "## 分类Loss"
      ],
      "metadata": {
        "id": "IZXSO6c0fpLv"
      }
    },
    {
      "cell_type": "markdown",
      "source": [
        "### 0.sigmoid_cross_entropy_with_logits\n",
        "输入logits，输出sigmoid的交叉熵\n",
        "\n",
        "- 逻辑回归的Loss公式：$x - x * z + log(1 + exp(-x))$\n",
        "- 对于x < 0, e^(-x)，求e^(+∞)，导致上限值溢出；推导得到：$- x * z + log(1 + exp(x))$\n",
        "- 综合起来为：$relu(x) - x * z +log(1 + exp(-|x|))$\n"
      ],
      "metadata": {
        "id": "8Y-Nz7TPA0k-"
      }
    },
    {
      "cell_type": "code",
      "metadata": {
        "id": "a8NbBaHp4uKN",
        "colab": {
          "base_uri": "https://localhost:8080/"
        },
        "outputId": "b202d9f3-f117-4de3-e2b4-5b1e10efdaba"
      },
      "source": [
        "tf.nn.sigmoid_cross_entropy_with_logits(labels=labels, logits=logits)"
      ],
      "execution_count": null,
      "outputs": [
        {
          "output_type": "execute_result",
          "data": {
            "text/plain": [
              "<tf.Tensor: shape=(8, 1), dtype=float32, numpy=\n",
              "array([[0.38900542],\n",
              "       [0.7184334 ],\n",
              "       [0.7559693 ],\n",
              "       [1.0379966 ],\n",
              "       [1.2540432 ],\n",
              "       [0.9938001 ],\n",
              "       [2.2815838 ],\n",
              "       [0.38273308]], dtype=float32)>"
            ]
          },
          "metadata": {},
          "execution_count": 3
        }
      ]
    },
    {
      "cell_type": "code",
      "source": [
        "tf.nn.relu(logits) - logits * labels + math_ops.log1p(math_ops.exp(- tf.abs(logits)))"
      ],
      "metadata": {
        "colab": {
          "base_uri": "https://localhost:8080/"
        },
        "id": "_LByY2-Kfu2d",
        "outputId": "69df14d5-3347-4c9a-ea3f-5376c01effb9"
      },
      "execution_count": null,
      "outputs": [
        {
          "output_type": "execute_result",
          "data": {
            "text/plain": [
              "<tf.Tensor: shape=(8, 1), dtype=float32, numpy=\n",
              "array([[0.38900542],\n",
              "       [0.7184334 ],\n",
              "       [0.7559693 ],\n",
              "       [1.0379966 ],\n",
              "       [1.2540432 ],\n",
              "       [0.9938001 ],\n",
              "       [2.2815838 ],\n",
              "       [0.38273308]], dtype=float32)>"
            ]
          },
          "metadata": {},
          "execution_count": 4
        }
      ]
    },
    {
      "cell_type": "markdown",
      "source": [
        "### 1.softmax_loss"
      ],
      "metadata": {
        "id": "4037-ZrIj4dF"
      }
    },
    {
      "cell_type": "markdown",
      "source": [
        "#### softmax_cross_entropy_with_logits\n",
        "\n",
        "- tf.nn.softmax_cross_entropy_with_logits\n",
        "- tf.nn.softmax_cross_entropy_with_logits_v2\n",
        "\n",
        "v2设置labels的stop_gradient，旧的弃用\n",
        "\n",
        "监督学习：labels都是标记好的真值；但labels并不一定都是人工手动标注的，对抗生成网络（GAN）生成label。"
      ],
      "metadata": {
        "id": "ezG7mPHpoo2Q"
      }
    },
    {
      "cell_type": "code",
      "source": [
        "logits = tf.random.normal(shape=[8,3])\n",
        "binomial_samples = tf.random.stateless_binomial(shape=[24], seed=[1, 2], counts=[1]*24, probs=[0.6], output_dtype=dtypes.float32)\n",
        "labels = tf.reshape(binomial_samples, [8,3])\n",
        "logits,labels"
      ],
      "metadata": {
        "colab": {
          "base_uri": "https://localhost:8080/"
        },
        "id": "Ggumuu9ifu0r",
        "outputId": "717e2861-692b-4090-9b6f-a69ec253b029"
      },
      "execution_count": null,
      "outputs": [
        {
          "output_type": "execute_result",
          "data": {
            "text/plain": [
              "(<tf.Tensor: shape=(8, 3), dtype=float32, numpy=\n",
              " array([[ 0.5298147 ,  1.4655572 , -1.7060746 ],\n",
              "        [ 0.38383943,  1.6901616 , -0.04928871],\n",
              "        [-0.84147036, -1.469868  , -0.9128455 ],\n",
              "        [-1.7267729 ,  0.70714355, -0.3341877 ],\n",
              "        [ 2.1018481 , -1.8824366 , -2.1326375 ],\n",
              "        [ 0.7706794 , -0.58798075, -0.56795937],\n",
              "        [ 0.07821601, -0.4862161 , -0.89811707],\n",
              "        [ 0.0670175 ,  0.62969047,  0.74955124]], dtype=float32)>,\n",
              " <tf.Tensor: shape=(8, 3), dtype=float32, numpy=\n",
              " array([[0., 0., 0.],\n",
              "        [0., 0., 1.],\n",
              "        [0., 1., 0.],\n",
              "        [1., 0., 1.],\n",
              "        [1., 1., 0.],\n",
              "        [0., 1., 0.],\n",
              "        [0., 1., 0.],\n",
              "        [1., 1., 0.]], dtype=float32)>)"
            ]
          },
          "metadata": {},
          "execution_count": 5
        }
      ]
    },
    {
      "cell_type": "code",
      "source": [
        "tf.nn.softmax_cross_entropy_with_logits(labels=labels, logits=logits)"
      ],
      "metadata": {
        "colab": {
          "base_uri": "https://localhost:8080/"
        },
        "id": "58-35rl2fuyQ",
        "outputId": "0942b3be-9b81-4555-c095-da72fe882a6e"
      },
      "execution_count": null,
      "outputs": [
        {
          "output_type": "execute_result",
          "data": {
            "text/plain": [
              "<tf.Tensor: shape=(8,), dtype=float32, numpy=\n",
              "array([0.       , 2.1085496, 1.5304103, 4.2054744, 4.049399 , 1.7768488,\n",
              "       1.2298858, 2.5469708], dtype=float32)>"
            ]
          },
          "metadata": {},
          "execution_count": 6
        }
      ]
    },
    {
      "cell_type": "markdown",
      "source": [
        "#### sparse_softmax_cross_entropy_with_logits"
      ],
      "metadata": {
        "id": "n2-m8RJswQD0"
      }
    },
    {
      "cell_type": "code",
      "source": [
        "logits = tf.random.normal(shape=[8,3])\n",
        "binomial_samples = np.random.binomial(2, 0.4, size=8)\n",
        "labels = tf.reshape(binomial_samples, [8])\n",
        "logits,labels"
      ],
      "metadata": {
        "colab": {
          "base_uri": "https://localhost:8080/"
        },
        "id": "bwbCbb0QfuwI",
        "outputId": "c5e47e1d-a628-4aa2-9a01-931a938f0fec"
      },
      "execution_count": null,
      "outputs": [
        {
          "output_type": "execute_result",
          "data": {
            "text/plain": [
              "(<tf.Tensor: shape=(8, 3), dtype=float32, numpy=\n",
              " array([[-0.6791042 ,  0.8999842 , -0.15620121],\n",
              "        [ 1.5036064 , -1.6424059 ,  1.0729109 ],\n",
              "        [-0.78484875,  0.08258355, -1.0332958 ],\n",
              "        [-0.22827785, -0.03214472, -0.36922324],\n",
              "        [-0.16294631,  0.83794194,  1.0936366 ],\n",
              "        [ 1.3484765 ,  0.8223789 , -0.48319885],\n",
              "        [-1.1132156 , -1.5437346 ,  2.0449705 ],\n",
              "        [-0.5141856 ,  0.17654698, -1.1332694 ]], dtype=float32)>,\n",
              " <tf.Tensor: shape=(8,), dtype=int64, numpy=array([1, 1, 1, 1, 1, 1, 1, 1])>)"
            ]
          },
          "metadata": {},
          "execution_count": 7
        }
      ]
    },
    {
      "cell_type": "code",
      "source": [
        "tf.nn.sparse_softmax_cross_entropy_with_logits(labels=labels, logits=logits)"
      ],
      "metadata": {
        "colab": {
          "base_uri": "https://localhost:8080/"
        },
        "id": "4KUDilGSfutx",
        "outputId": "1ce33c86-fd49-4d34-8a9d-d9da7210dfd4"
      },
      "execution_count": null,
      "outputs": [
        {
          "output_type": "execute_result",
          "data": {
            "text/plain": [
              "<tf.Tensor: shape=(8,), dtype=float32, numpy=\n",
              "array([0.4407955 , 3.6725616 , 0.55827534, 0.9304917 , 0.9779167 ,\n",
              "       1.0863141 , 3.6564918 , 0.5715886 ], dtype=float32)>"
            ]
          },
          "metadata": {},
          "execution_count": 8
        }
      ]
    },
    {
      "cell_type": "markdown",
      "source": [
        "### 2.负采样Loss\n",
        "\n",
        "仅考虑召回场景，labels是next item id"
      ],
      "metadata": {
        "id": "YQD_YpbaHXB1"
      }
    },
    {
      "cell_type": "markdown",
      "source": [
        "#### 1.nce loss\n",
        "- _compute_sampled_logits\n",
        "  1. weights：labels的embedding [1024, 64]\n",
        "  2. biases：labels的biases[num_classes,]\n",
        "  3. labels：[1024, 1]，batch_size内的item id\n",
        "  4. inputs：[1024, 64]，NN网络的输出\n",
        "  5. num_sampled：每batch的负例随机采样数\n",
        "  6. num_classes：\n",
        "  7. num_true=1：每个样本target class为1\n",
        "  8. sampled_values=None\n",
        "- call -> sigmoid_cross_entropy_with_logits"
      ],
      "metadata": {
        "id": "d7TDFc5fwjBI"
      }
    },
    {
      "cell_type": "code",
      "source": [
        "weights = tf.random.normal(shape=[8,6])\n",
        "bias = tf.random.normal(shape=[8])\n",
        "labels = tf.reshape(tf.constant([0,1,2,3]),[4,1])\n",
        "inputs = tf.random.normal(shape=[4,6])\n",
        "weights,bias,labels,inputs"
      ],
      "metadata": {
        "id": "E0W38kBnwiJb",
        "colab": {
          "base_uri": "https://localhost:8080/"
        },
        "outputId": "c2aaabfc-3dc9-4fb6-891c-d9c335e7d7ab"
      },
      "execution_count": null,
      "outputs": [
        {
          "output_type": "execute_result",
          "data": {
            "text/plain": [
              "(<tf.Tensor: shape=(8, 6), dtype=float32, numpy=\n",
              " array([[ 1.5868555e+00, -1.3844897e+00,  9.1051930e-01,  5.9027994e-01,\n",
              "          3.2574993e-01, -1.2678149e+00],\n",
              "        [-3.1594810e-01,  6.1188310e-01,  2.2674493e-01, -9.4877654e-01,\n",
              "         -4.3090087e-01,  4.0671283e-01],\n",
              "        [-4.7653633e-01,  6.5542066e-01, -1.1961337e-02,  2.7360048e-02,\n",
              "          1.9327186e-02, -1.1802855e+00],\n",
              "        [-1.4216665e+00,  6.9922519e-01, -1.1515529e+00, -1.8073394e+00,\n",
              "          1.1251889e-03, -1.3351833e+00],\n",
              "        [-9.4146651e-01, -2.1295372e-01,  5.1290399e-01,  2.3094016e-01,\n",
              "         -1.3172195e+00, -7.6489991e-01],\n",
              "        [-1.7267352e+00,  5.3442007e-01,  4.4312009e-01,  4.3158332e-01,\n",
              "         -6.2142098e-01, -4.2784286e-01],\n",
              "        [ 1.3126055e+00, -7.5113978e-03,  2.9865471e-01, -4.7692153e-01,\n",
              "          4.0922251e-01,  1.5048288e+00],\n",
              "        [-8.8414259e-02, -4.5963374e-01, -1.2771840e-01, -3.8791093e-01,\n",
              "         -4.7713992e-01,  2.9816005e-01]], dtype=float32)>,\n",
              " <tf.Tensor: shape=(8,), dtype=float32, numpy=\n",
              " array([ 1.3229238 , -1.13669   , -1.2432674 ,  1.2918069 ,  0.36195952,\n",
              "         0.52335435, -1.8138297 , -1.0409427 ], dtype=float32)>,\n",
              " <tf.Tensor: shape=(4, 1), dtype=int32, numpy=\n",
              " array([[0],\n",
              "        [1],\n",
              "        [2],\n",
              "        [3]], dtype=int32)>,\n",
              " <tf.Tensor: shape=(4, 6), dtype=float32, numpy=\n",
              " array([[-0.03410304, -0.37543008,  0.20616291,  0.42184213,  2.398303  ,\n",
              "         -0.19420536],\n",
              "        [-0.73152083,  0.01362495,  0.9260194 ,  1.002562  ,  0.82837105,\n",
              "         -0.60148203],\n",
              "        [ 1.2333169 ,  1.0536294 ,  0.2387398 ,  1.2801963 , -1.5023301 ,\n",
              "          0.25547886],\n",
              "        [-1.3935747 ,  0.9178489 , -2.393397  , -0.3658088 , -1.1585395 ,\n",
              "          1.0946143 ]], dtype=float32)>)"
            ]
          },
          "metadata": {},
          "execution_count": 9
        }
      ]
    },
    {
      "cell_type": "code",
      "source": [
        "tf.nn.nce_loss(weights=weights,biases=bias,labels=labels,inputs=inputs,num_sampled=3,num_classes=8)"
      ],
      "metadata": {
        "id": "AGZGO6YIwiE1",
        "colab": {
          "base_uri": "https://localhost:8080/"
        },
        "outputId": "539c91bc-3efe-4c4f-8074-71c5cbdc612f"
      },
      "execution_count": null,
      "outputs": [
        {
          "output_type": "execute_result",
          "data": {
            "text/plain": [
              "<tf.Tensor: shape=(4,), dtype=float32, numpy=array([4.79131  , 5.286718 , 5.2074556, 2.206083 ], dtype=float32)>"
            ]
          },
          "metadata": {},
          "execution_count": 10
        }
      ]
    },
    {
      "cell_type": "code",
      "source": [
        "from tensorflow.python.ops.nn_impl import _compute_sampled_logits as csl"
      ],
      "metadata": {
        "id": "dzsr5QAZU6rJ"
      },
      "execution_count": null,
      "outputs": []
    },
    {
      "cell_type": "code",
      "source": [
        "logits,s_labels = csl(weights=weights,biases=bias,labels=labels,inputs=inputs,num_sampled=3,num_classes=8)\n",
        "logits,s_labels"
      ],
      "metadata": {
        "id": "JalzQPbtwiCb",
        "colab": {
          "base_uri": "https://localhost:8080/"
        },
        "outputId": "decdb9bc-5a0a-4d4c-88a8-c31d900ac915"
      },
      "execution_count": null,
      "outputs": [
        {
          "output_type": "execute_result",
          "data": {
            "text/plain": [
              "(<tf.Tensor: shape=(4, 4), dtype=float32, numpy=\n",
              " array([[ 3.3078656 , -2.2302356 , -0.25395274,  0.8061598 ],\n",
              "        [-1.6487408 , -1.6487408 ,  0.7910253 ,  3.9377856 ],\n",
              "        [-0.5043384 , -0.6995781 , -0.5043384 ,  1.9978073 ],\n",
              "        [ 7.0577607 ,  1.2053163 , -0.33884823,  4.0117917 ]],\n",
              "       dtype=float32)>, <tf.Tensor: shape=(4, 4), dtype=float32, numpy=\n",
              " array([[1., 0., 0., 0.],\n",
              "        [1., 0., 0., 0.],\n",
              "        [1., 0., 0., 0.],\n",
              "        [1., 0., 0., 0.]], dtype=float32)>)"
            ]
          },
          "metadata": {},
          "execution_count": 12
        }
      ]
    },
    {
      "cell_type": "code",
      "source": [
        "def _sum_rows(x):\n",
        "  \"\"\"Returns a vector summing up each row of the matrix x.\"\"\"\n",
        "  cols = array_ops.shape(x)[1]\n",
        "  ones_shape = array_ops.stack([cols, 1])\n",
        "  ones = array_ops.ones(ones_shape, x.dtype)\n",
        "  return array_ops.reshape(math_ops.matmul(x, ones), [-1])\n",
        "sampled_losses = tf.nn.sigmoid_cross_entropy_with_logits(labels=s_labels, logits=logits, name=\"sampled_losses\")\n",
        "_sum_rows(sampled_losses)"
      ],
      "metadata": {
        "colab": {
          "base_uri": "https://localhost:8080/"
        },
        "id": "5AXAg-0IWIGD",
        "outputId": "4033ea27-3c7c-47be-8caa-8dce64282dae"
      },
      "execution_count": null,
      "outputs": [
        {
          "output_type": "execute_result",
          "data": {
            "text/plain": [
              "<tf.Tensor: shape=(4,), dtype=float32, numpy=array([1.8876141, 7.1225023, 3.9775438, 6.035969 ], dtype=float32)>"
            ]
          },
          "metadata": {},
          "execution_count": 13
        }
      ]
    },
    {
      "cell_type": "markdown",
      "source": [
        "由于每次执行，随机负采样的样本不同，故计算结果不同"
      ],
      "metadata": {
        "id": "XlCGWkdzYOEv"
      }
    },
    {
      "cell_type": "markdown",
      "source": [
        "#### 2.sampled_softmax_loss\n",
        "与NCE不同的是计算loss使用softmax还是sigmioid，其他相同\n",
        "- _compute_sampled_logits\n",
        "- call -> softmax_cross_entropy_with_logits_v2"
      ],
      "metadata": {
        "id": "gsuEKMOlwmrC"
      }
    },
    {
      "cell_type": "code",
      "source": [
        "logits,s_labels = csl(weights=weights,biases=bias,labels=labels,inputs=inputs,num_sampled=3,num_classes=8)\n",
        "logits,s_labels"
      ],
      "metadata": {
        "id": "UEmBdhg6wh_4",
        "colab": {
          "base_uri": "https://localhost:8080/"
        },
        "outputId": "0d10a960-ebb3-43a1-864d-d79cf1fcf5e4"
      },
      "execution_count": null,
      "outputs": [
        {
          "output_type": "execute_result",
          "data": {
            "text/plain": [
              "(<tf.Tensor: shape=(4, 4), dtype=float32, numpy=\n",
              " array([[ 3.3613472 ,  3.3613472 , -0.6248181 , -0.9899025 ],\n",
              "        [-1.8918233 ,  2.71918   ,  0.42015994, -0.79662657],\n",
              "        [-0.8752037 ,  2.0896254 , -0.8752037 , -0.10070443],\n",
              "        [ 6.615677  , -6.2109795 , -0.7097136 ,  1.2547957 ]],\n",
              "       dtype=float32)>, <tf.Tensor: shape=(4, 4), dtype=float32, numpy=\n",
              " array([[1., 0., 0., 0.],\n",
              "        [1., 0., 0., 0.],\n",
              "        [1., 0., 0., 0.],\n",
              "        [1., 0., 0., 0.]], dtype=float32)>)"
            ]
          },
          "metadata": {},
          "execution_count": 14
        }
      ]
    },
    {
      "cell_type": "code",
      "source": [
        "s_labels = array_ops.stop_gradient(s_labels, name=\"labels_stop_gradient\")\n",
        "sampled_losses = nn_ops.softmax_cross_entropy_with_logits_v2(labels=s_labels, logits=logits)\n",
        "sampled_losses"
      ],
      "metadata": {
        "id": "tJ51YmKvfumy",
        "colab": {
          "base_uri": "https://localhost:8080/"
        },
        "outputId": "130fbafe-a843-449d-a469-30d183ea92c3"
      },
      "execution_count": null,
      "outputs": [
        {
          "output_type": "execute_result",
          "data": {
            "text/plain": [
              "<tf.Tensor: shape=(4,), dtype=float32, numpy=array([0.7087555, 4.7420516, 3.1595883, 0.0053438], dtype=float32)>"
            ]
          },
          "metadata": {},
          "execution_count": 15
        }
      ]
    },
    {
      "cell_type": "markdown",
      "metadata": {
        "id": "VwGylSru3f2_"
      },
      "source": [
        "#### 3.对比学习InfoNCE loss\n",
        "定义损失：\n",
        "$$L(i,j) = -log \\frac{ e^ {\\frac{s_{i,j}}{τ}}}   {\\sum_{k=1}^{2N} e^{\\frac{s_{i,k}} {τ}}}$$\n",
        "\n",
        "得到总的Loss为：\n",
        "$$Loss =  \\frac{1}{2N} \\sum_{k=1}^{N} [L(2k-1,2k) + L(2k,2k-1)] $$\n",
        "\n",
        "参考[对比学习loss](https://github.com/google-research/simclr/blob/master/objective.py)"
      ]
    },
    {
      "cell_type": "code",
      "source": [
        "LARGE_NUM=1e9\n",
        "def add_contrastive_loss(hidden,\n",
        "                         hidden_norm=True,\n",
        "                         temperature=1.0,\n",
        "                         tpu_context=None,\n",
        "                         weights=1.0):\n",
        "  \"\"\"Compute loss for model.\n",
        "  Args:\n",
        "    hidden: hidden vector (`Tensor`) of shape (2 * bsz, dim).\n",
        "    hidden_norm: whether or not to use normalization on the hidden vector.\n",
        "    temperature: a `floating` number for temperature scaling.\n",
        "    tpu_context: context information for tpu.\n",
        "    weights: a weighting number or vector.\n",
        "  Returns:\n",
        "    A loss scalar.\n",
        "    The logits for contrastive prediction task.\n",
        "    The labels for contrastive prediction task.\n",
        "  \"\"\"\n",
        "  # Get (normalized) hidden1 and hidden2.\n",
        "  if hidden_norm:\n",
        "    hidden = tf.math.l2_normalize(hidden, -1)\n",
        "  hidden1, hidden2 = tf.split(hidden, 2, 0)\n",
        "  batch_size = tf.shape(hidden1)[0]\n",
        "\n",
        "  # Gather hidden1/hidden2 across replicas and create local labels.\n",
        "  if tpu_context is not None:\n",
        "    hidden1_large = tf.concat(hidden1, tpu_context)\n",
        "    hidden2_large = tf.concat(hidden2, tpu_context)\n",
        "    enlarged_batch_size = tf.shape(hidden1_large)[0]\n",
        "    # TODO(iamtingchen): more elegant way to convert u32 to s32 for replica_id.\n",
        "    replica_id = tf.cast(tf.cast(xla.replica_id(), tf.uint32), tf.int32)\n",
        "    labels_idx = tf.range(batch_size) + replica_id * batch_size\n",
        "    labels = tf.one_hot(labels_idx, enlarged_batch_size * 2)\n",
        "    masks = tf.one_hot(labels_idx, enlarged_batch_size)\n",
        "  else:\n",
        "    hidden1_large = hidden1\n",
        "    hidden2_large = hidden2\n",
        "    labels = tf.one_hot(tf.range(batch_size), batch_size * 2)\n",
        "    masks = tf.one_hot(tf.range(batch_size), batch_size)\n",
        "\n",
        "  logits_aa = tf.matmul(hidden1, hidden1_large, transpose_b=True) / temperature\n",
        "  logits_aa = logits_aa - masks * LARGE_NUM\n",
        "  logits_bb = tf.matmul(hidden2, hidden2_large, transpose_b=True) / temperature\n",
        "  logits_bb = logits_bb - masks * LARGE_NUM\n",
        "  logits_ab = tf.matmul(hidden1, hidden2_large, transpose_b=True) / temperature\n",
        "  logits_ba = tf.matmul(hidden2, hidden1_large, transpose_b=True) / temperature\n",
        "\n",
        "  loss_a = tf.nn.softmax_cross_entropy_with_logits(\n",
        "      labels, tf.concat([logits_ab, logits_aa], 1))\n",
        "  loss_b = tf.nn.softmax_cross_entropy_with_logits(\n",
        "      labels, tf.concat([logits_ba, logits_bb], 1))\n",
        "  loss = loss_a + loss_b\n",
        "\n",
        "  return loss, logits_ab, labels"
      ],
      "metadata": {
        "id": "5rYiKRBpZh__"
      },
      "execution_count": null,
      "outputs": []
    },
    {
      "cell_type": "code",
      "source": [
        "add_contrastive_loss(hidden=logits)"
      ],
      "metadata": {
        "colab": {
          "base_uri": "https://localhost:8080/"
        },
        "id": "1E57bWzIZiCE",
        "outputId": "512bcda2-3748-43b4-9a2d-2e16f4cfb56e"
      },
      "execution_count": null,
      "outputs": [
        {
          "output_type": "execute_result",
          "data": {
            "text/plain": [
              "(<tf.Tensor: shape=(2,), dtype=float32, numpy=array([1.9669977, 3.9188712], dtype=float32)>,\n",
              " <tf.Tensor: shape=(2, 2), dtype=float32, numpy=\n",
              " array([[ 0.39735496,  0.01248601],\n",
              "        [ 0.8449203 , -0.9734093 ]], dtype=float32)>,\n",
              " <tf.Tensor: shape=(2, 4), dtype=float32, numpy=\n",
              " array([[1., 0., 0., 0.],\n",
              "        [0., 1., 0., 0.]], dtype=float32)>)"
            ]
          },
          "metadata": {},
          "execution_count": 17
        }
      ]
    },
    {
      "cell_type": "markdown",
      "source": [
        "##### 代码细节"
      ],
      "metadata": {
        "id": "kS1cbhMsd8bG"
      }
    },
    {
      "cell_type": "code",
      "source": [
        "hidden = logits\n",
        "hidden_norm = True\n",
        "temperature = 1.0"
      ],
      "metadata": {
        "id": "6sTCr8TwZh7k"
      },
      "execution_count": null,
      "outputs": []
    },
    {
      "cell_type": "code",
      "source": [
        "if hidden_norm:\n",
        "  hidden = tf.math.l2_normalize(hidden, -1)\n",
        "hidden1, hidden2 = tf.split(hidden, 2, 0)\n",
        "batch_size = tf.shape(hidden1)[0]\n",
        "hidden1,hidden2"
      ],
      "metadata": {
        "colab": {
          "base_uri": "https://localhost:8080/"
        },
        "id": "rcWYE7Uuec32",
        "outputId": "272dc81c-3f0a-44a5-9b3d-64778865542e"
      },
      "execution_count": null,
      "outputs": [
        {
          "output_type": "execute_result",
          "data": {
            "text/plain": [
              "(<tf.Tensor: shape=(2, 4), dtype=float32, numpy=\n",
              " array([[ 0.68659556,  0.68659556, -0.1276266 , -0.20219949],\n",
              "        [-0.5511028 ,  0.7921183 ,  0.12239586, -0.23206352]],\n",
              "       dtype=float32)>, <tf.Tensor: shape=(2, 4), dtype=float32, numpy=\n",
              " array([[-0.36005217,  0.85965604, -0.36005217, -0.04142904],\n",
              "        [ 0.72002465, -0.67597896, -0.07724248,  0.1365671 ]],\n",
              "       dtype=float32)>)"
            ]
          },
          "metadata": {},
          "execution_count": 19
        }
      ]
    },
    {
      "cell_type": "code",
      "source": [
        "hidden1_large = hidden1\n",
        "hidden2_large = hidden2\n",
        "labels = tf.one_hot(tf.range(batch_size), batch_size * 2)\n",
        "masks = tf.one_hot(tf.range(batch_size), batch_size)\n",
        "labels,masks"
      ],
      "metadata": {
        "colab": {
          "base_uri": "https://localhost:8080/"
        },
        "id": "qUqXoxhdZh3k",
        "outputId": "494e68fc-b6cd-4b9e-988e-b693e82de707"
      },
      "execution_count": null,
      "outputs": [
        {
          "output_type": "execute_result",
          "data": {
            "text/plain": [
              "(<tf.Tensor: shape=(2, 4), dtype=float32, numpy=\n",
              " array([[1., 0., 0., 0.],\n",
              "        [0., 1., 0., 0.]], dtype=float32)>,\n",
              " <tf.Tensor: shape=(2, 2), dtype=float32, numpy=\n",
              " array([[1., 0.],\n",
              "        [0., 1.]], dtype=float32)>)"
            ]
          },
          "metadata": {},
          "execution_count": 20
        }
      ]
    },
    {
      "cell_type": "code",
      "source": [
        "logits_aa = tf.matmul(hidden1, hidden1_large, transpose_b=True) / temperature\n",
        "logits_aa = logits_aa - masks * LARGE_NUM\n",
        "logits_aa"
      ],
      "metadata": {
        "colab": {
          "base_uri": "https://localhost:8080/"
        },
        "id": "LCiMMNdsZh1I",
        "outputId": "f1c61f71-d83d-4a80-c194-2d44866f23b9"
      },
      "execution_count": null,
      "outputs": [
        {
          "output_type": "execute_result",
          "data": {
            "text/plain": [
              "<tf.Tensor: shape=(2, 2), dtype=float32, numpy=\n",
              "array([[-1.0000000e+09,  1.9678229e-01],\n",
              "       [ 1.9678229e-01, -1.0000000e+09]], dtype=float32)>"
            ]
          },
          "metadata": {},
          "execution_count": 21
        }
      ]
    },
    {
      "cell_type": "code",
      "source": [
        "logits_bb = tf.matmul(hidden2, hidden2_large, transpose_b=True) / temperature\n",
        "logits_bb = logits_bb - masks * LARGE_NUM\n",
        "logits_bb"
      ],
      "metadata": {
        "colab": {
          "base_uri": "https://localhost:8080/"
        },
        "id": "YCuWNL_SZhwu",
        "outputId": "7985099c-b8d2-40a3-c02e-5dab6e1d024a"
      },
      "execution_count": null,
      "outputs": [
        {
          "output_type": "execute_result",
          "data": {
            "text/plain": [
              "<tf.Tensor: shape=(2, 2), dtype=float32, numpy=\n",
              "array([[-1.000000e+09, -8.182024e-01],\n",
              "       [-8.182024e-01, -1.000000e+09]], dtype=float32)>"
            ]
          },
          "metadata": {},
          "execution_count": 22
        }
      ]
    },
    {
      "cell_type": "code",
      "source": [
        "logits_ab = tf.matmul(hidden1, hidden2_large, transpose_b=True) / temperature\n",
        "logits_ba = tf.matmul(hidden2, hidden1_large, transpose_b=True) / temperature\n",
        "logits_ab,logits_ba"
      ],
      "metadata": {
        "colab": {
          "base_uri": "https://localhost:8080/"
        },
        "id": "Z29aATWsZhul",
        "outputId": "3aa3f7e2-e40b-44b0-fd26-d5e705070726"
      },
      "execution_count": null,
      "outputs": [
        {
          "output_type": "execute_result",
          "data": {
            "text/plain": [
              "(<tf.Tensor: shape=(2, 2), dtype=float32, numpy=\n",
              " array([[ 0.39735496,  0.01248601],\n",
              "        [ 0.8449203 , -0.9734093 ]], dtype=float32)>,\n",
              " <tf.Tensor: shape=(2, 2), dtype=float32, numpy=\n",
              " array([[ 0.39735496,  0.8449203 ],\n",
              "        [ 0.01248601, -0.9734093 ]], dtype=float32)>)"
            ]
          },
          "metadata": {},
          "execution_count": 23
        }
      ]
    },
    {
      "cell_type": "code",
      "source": [
        "loss_a = tf.nn.softmax_cross_entropy_with_logits(labels, tf.concat([logits_ab, logits_aa], 1))\n",
        "loss_b = tf.nn.softmax_cross_entropy_with_logits(labels, tf.concat([logits_ba, logits_bb], 1))\n",
        "loss_a,loss_b"
      ],
      "metadata": {
        "colab": {
          "base_uri": "https://localhost:8080/"
        },
        "id": "cQ8J-HsvZhsR",
        "outputId": "b1d26190-7cd7-43d4-bf63-41b97f6ee40f"
      },
      "execution_count": null,
      "outputs": [
        {
          "output_type": "execute_result",
          "data": {
            "text/plain": [
              "(<tf.Tensor: shape=(2,), dtype=float32, numpy=array([0.9158114, 2.3402822], dtype=float32)>,\n",
              " <tf.Tensor: shape=(2,), dtype=float32, numpy=array([1.0511863, 1.578589 ], dtype=float32)>)"
            ]
          },
          "metadata": {},
          "execution_count": 24
        }
      ]
    },
    {
      "cell_type": "code",
      "source": [
        "loss = loss_a + loss_b\n",
        "loss"
      ],
      "metadata": {
        "colab": {
          "base_uri": "https://localhost:8080/"
        },
        "id": "-VtUTBvGZhpv",
        "outputId": "0c8d5790-814d-4a30-c8d8-1208260974b2"
      },
      "execution_count": null,
      "outputs": [
        {
          "output_type": "execute_result",
          "data": {
            "text/plain": [
              "<tf.Tensor: shape=(2,), dtype=float32, numpy=array([1.9669977, 3.9188712], dtype=float32)>"
            ]
          },
          "metadata": {},
          "execution_count": 25
        }
      ]
    },
    {
      "cell_type": "markdown",
      "source": [
        "### 比较召回中的nce-loss、softmax-loss、infonce-loss\n",
        "都包含sampled负采样阶段，扩增负例，计算loss\n",
        "\n",
        "1. softmax-loss：多分类问题，计算多分类loss（见识所有不同类的样本）\n",
        "2. nce-loss：多分类问题，通过负采样转为计算二分类问题，是softmax的优化版，word2vec中大幅降低计算量（见识非己样本）\n",
        "3. infoNce：提高相关及其衍生样本的相似度，降低非相关及其衍生样本的相似度。（见识同类及其相似样本，和不同类及其自相似样本）"
      ],
      "metadata": {
        "id": "EY-m0KECXtM6"
      }
    },
    {
      "cell_type": "markdown",
      "source": [
        "## normalize"
      ],
      "metadata": {
        "id": "P_OWrMFjJNL6"
      }
    },
    {
      "cell_type": "code",
      "source": [
        "norm1 = linalg_ops.norm(logits)\n",
        "norm2 = tf.sqrt(tf.reduce_sum(tf.math.pow(logits,2.0)))\n",
        "norm1==norm2"
      ],
      "metadata": {
        "colab": {
          "base_uri": "https://localhost:8080/"
        },
        "id": "3Japy-GbfukM",
        "outputId": "e76e6f42-7340-4a6f-fe09-e68b9430436b"
      },
      "execution_count": null,
      "outputs": [
        {
          "output_type": "execute_result",
          "data": {
            "text/plain": [
              "<tf.Tensor: shape=(), dtype=bool, numpy=True>"
            ]
          },
          "metadata": {},
          "execution_count": 26
        }
      ]
    },
    {
      "cell_type": "code",
      "metadata": {
        "id": "svK9tryJ3gjp",
        "colab": {
          "base_uri": "https://localhost:8080/"
        },
        "outputId": "c862d472-6942-49d4-ec35-94bb280ae028"
      },
      "source": [
        "(logits / norm2)"
      ],
      "execution_count": null,
      "outputs": [
        {
          "output_type": "execute_result",
          "data": {
            "text/plain": [
              "<tf.Tensor: shape=(4, 4), dtype=float32, numpy=\n",
              "array([[ 0.29935524,  0.29935524, -0.05564512, -0.08815885],\n",
              "       [-0.16848221,  0.24216504,  0.03741865, -0.07094606],\n",
              "       [-0.07794399,  0.18609808, -0.07794399, -0.00896855],\n",
              "       [ 0.5891797 , -0.5531381 , -0.06320575,  0.11174973]],\n",
              "      dtype=float32)>"
            ]
          },
          "metadata": {},
          "execution_count": 27
        }
      ]
    },
    {
      "cell_type": "markdown",
      "source": [
        "### L2_normalize"
      ],
      "metadata": {
        "id": "IzM6JTtULwmN"
      }
    },
    {
      "cell_type": "code",
      "metadata": {
        "id": "XzZf5Dhl3ghf",
        "colab": {
          "base_uri": "https://localhost:8080/"
        },
        "outputId": "0345982e-bdad-4b34-cc89-d9322edbe594"
      },
      "source": [
        "square_sum = math_ops.reduce_sum(math_ops.square(logits))\n",
        "x_inv_norm = math_ops.rsqrt(math_ops.maximum(square_sum, 1e-12))\n",
        "square_sum, x_inv_norm == 1.0/tf.sqrt(square_sum)"
      ],
      "execution_count": null,
      "outputs": [
        {
          "output_type": "execute_result",
          "data": {
            "text/plain": [
              "(<tf.Tensor: shape=(), dtype=float32, numpy=126.08199>,\n",
              " <tf.Tensor: shape=(), dtype=bool, numpy=True>)"
            ]
          },
          "metadata": {},
          "execution_count": 28
        }
      ]
    },
    {
      "cell_type": "code",
      "metadata": {
        "id": "3Pjo15cP3gfL",
        "colab": {
          "base_uri": "https://localhost:8080/"
        },
        "outputId": "c76d6bfc-20f1-48f8-a206-48211487d8f3"
      },
      "source": [
        "logits * x_inv_norm"
      ],
      "execution_count": null,
      "outputs": [
        {
          "output_type": "execute_result",
          "data": {
            "text/plain": [
              "<tf.Tensor: shape=(4, 4), dtype=float32, numpy=\n",
              "array([[ 0.29935524,  0.29935524, -0.05564512, -0.08815885],\n",
              "       [-0.1684822 ,  0.24216504,  0.03741865, -0.07094605],\n",
              "       [-0.07794399,  0.18609808, -0.07794399, -0.00896855],\n",
              "       [ 0.5891797 , -0.5531381 , -0.06320575,  0.11174973]],\n",
              "      dtype=float32)>"
            ]
          },
          "metadata": {},
          "execution_count": 29
        }
      ]
    },
    {
      "cell_type": "code",
      "metadata": {
        "id": "icZp0A0V3gc1"
      },
      "source": [
        ""
      ],
      "execution_count": null,
      "outputs": []
    }
  ]
}