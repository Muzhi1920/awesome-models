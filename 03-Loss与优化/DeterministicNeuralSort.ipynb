{
  "nbformat": 4,
  "nbformat_minor": 0,
  "metadata": {
    "colab": {
      "provenance": [],
      "authorship_tag": "ABX9TyO7i+Vt6xgQWeEanmqqe9iw",
      "include_colab_link": true
    },
    "kernelspec": {
      "name": "python3",
      "display_name": "Python 3"
    },
    "language_info": {
      "name": "python"
    }
  },
  "cells": [
    {
      "cell_type": "markdown",
      "metadata": {
        "id": "view-in-github",
        "colab_type": "text"
      },
      "source": [
        "<a href=\"https://colab.research.google.com/github/Muzhi1920/awesome-models/blob/main/03-Loss%E4%B8%8E%E4%BC%98%E5%8C%96/DeterministicNeuralSort.ipynb\" target=\"_parent\"><img src=\"https://colab.research.google.com/assets/colab-badge.svg\" alt=\"Open In Colab\"/></a>"
      ]
    },
    {
      "cell_type": "code",
      "source": [
        "import tensorflow as tf"
      ],
      "metadata": {
        "id": "fnYeykrd4HIl"
      },
      "execution_count": 1,
      "outputs": []
    },
    {
      "cell_type": "markdown",
      "source": [
        "## 松弛 NerualSort\n",
        "- batch_size = 4\n",
        "- seq_size = 3"
      ],
      "metadata": {
        "id": "pOA8GPfABSjl"
      }
    },
    {
      "cell_type": "code",
      "execution_count": 2,
      "metadata": {
        "id": "qjGtf9QY3jND"
      },
      "outputs": [],
      "source": [
        "def deterministic_NeuralSort(inputs, N, tau):\n",
        "    batch_size = tf.shape(inputs)[0]\n",
        "    one_mat = tf.ones([batch_size, N, N])\n",
        "\n",
        "    scaling = tf.cast(N + 1 - 2 * (tf.range(N) + 1), dtype = tf.float32)\n",
        "    scaling = tf.tile(tf.reshape(scaling, [1, 1, -1]), [batch_size, 1, 1])\n",
        "\n",
        "    A = tf.abs(inputs - tf.transpose(inputs, perm=[0, 2, 1]))\n",
        "    B = tf.matmul(A, one_mat)\n",
        "    C = tf.matmul(inputs, scaling)\n",
        "\n",
        "    p_logits = tf.transpose(C - B, perm=[0, 2, 1])\n",
        "    p_logistic = tf.nn.softmax(p_logits / tau, -1)\n",
        "    return p_logistic"
      ]
    },
    {
      "cell_type": "code",
      "source": [
        "batch_size = 4\n",
        "N = 3\n",
        "one_mat = tf.ones([batch_size, N, N])\n",
        "one_mat"
      ],
      "metadata": {
        "colab": {
          "base_uri": "https://localhost:8080/"
        },
        "id": "5jqqSl7x-prW",
        "outputId": "30099ef8-80c8-4b45-c1d7-82727125fa02"
      },
      "execution_count": 3,
      "outputs": [
        {
          "output_type": "execute_result",
          "data": {
            "text/plain": [
              "<tf.Tensor: shape=(4, 3, 3), dtype=float32, numpy=\n",
              "array([[[1., 1., 1.],\n",
              "        [1., 1., 1.],\n",
              "        [1., 1., 1.]],\n",
              "\n",
              "       [[1., 1., 1.],\n",
              "        [1., 1., 1.],\n",
              "        [1., 1., 1.]],\n",
              "\n",
              "       [[1., 1., 1.],\n",
              "        [1., 1., 1.],\n",
              "        [1., 1., 1.]],\n",
              "\n",
              "       [[1., 1., 1.],\n",
              "        [1., 1., 1.],\n",
              "        [1., 1., 1.]]], dtype=float32)>"
            ]
          },
          "metadata": {},
          "execution_count": 3
        }
      ]
    },
    {
      "cell_type": "code",
      "source": [
        "inputs = tf.random.uniform([batch_size, N, 1])\n",
        "A = tf.abs(inputs - tf.transpose(inputs, perm=[0, 2, 1]))\n",
        "B = tf.matmul(A, one_mat)\n",
        "inputs, A, B"
      ],
      "metadata": {
        "colab": {
          "base_uri": "https://localhost:8080/"
        },
        "id": "HJy3Wb4x-poy",
        "outputId": "9c38f957-13b3-476b-e7f8-8afe1fd1bb42"
      },
      "execution_count": 4,
      "outputs": [
        {
          "output_type": "execute_result",
          "data": {
            "text/plain": [
              "(<tf.Tensor: shape=(4, 3, 1), dtype=float32, numpy=\n",
              " array([[[0.8223963 ],\n",
              "         [0.74837196],\n",
              "         [0.94974554]],\n",
              " \n",
              "        [[0.11972165],\n",
              "         [0.7227521 ],\n",
              "         [0.42933714]],\n",
              " \n",
              "        [[0.8004824 ],\n",
              "         [0.16805673],\n",
              "         [0.3474642 ]],\n",
              " \n",
              "        [[0.62646854],\n",
              "         [0.94854116],\n",
              "         [0.4159677 ]]], dtype=float32)>,\n",
              " <tf.Tensor: shape=(4, 3, 3), dtype=float32, numpy=\n",
              " array([[[0.        , 0.07402432, 0.12734926],\n",
              "         [0.07402432, 0.        , 0.20137358],\n",
              "         [0.12734926, 0.20137358, 0.        ]],\n",
              " \n",
              "        [[0.        , 0.60303044, 0.3096155 ],\n",
              "         [0.60303044, 0.        , 0.29341495],\n",
              "         [0.3096155 , 0.29341495, 0.        ]],\n",
              " \n",
              "        [[0.        , 0.63242567, 0.4530182 ],\n",
              "         [0.63242567, 0.        , 0.17940748],\n",
              "         [0.4530182 , 0.17940748, 0.        ]],\n",
              " \n",
              "        [[0.        , 0.32207263, 0.21050084],\n",
              "         [0.32207263, 0.        , 0.53257346],\n",
              "         [0.21050084, 0.53257346, 0.        ]]], dtype=float32)>,\n",
              " <tf.Tensor: shape=(4, 3, 3), dtype=float32, numpy=\n",
              " array([[[0.20137358, 0.20137358, 0.20137358],\n",
              "         [0.2753979 , 0.2753979 , 0.2753979 ],\n",
              "         [0.32872283, 0.32872283, 0.32872283]],\n",
              " \n",
              "        [[0.91264594, 0.91264594, 0.91264594],\n",
              "         [0.8964454 , 0.8964454 , 0.8964454 ],\n",
              "         [0.60303044, 0.60303044, 0.60303044]],\n",
              " \n",
              "        [[1.0854439 , 1.0854439 , 1.0854439 ],\n",
              "         [0.81183314, 0.81183314, 0.81183314],\n",
              "         [0.63242567, 0.63242567, 0.63242567]],\n",
              " \n",
              "        [[0.53257346, 0.53257346, 0.53257346],\n",
              "         [0.8546461 , 0.8546461 , 0.8546461 ],\n",
              "         [0.7430743 , 0.7430743 , 0.7430743 ]]], dtype=float32)>)"
            ]
          },
          "metadata": {},
          "execution_count": 4
        }
      ]
    },
    {
      "cell_type": "code",
      "source": [
        "scaling = tf.cast(N + 1 - 2 * (tf.range(N) + 1), dtype = tf.float32)\n",
        "scaling"
      ],
      "metadata": {
        "colab": {
          "base_uri": "https://localhost:8080/"
        },
        "id": "Hqv-B6aj-pmZ",
        "outputId": "46259b89-87cc-4cf0-b435-31beda88e9a6"
      },
      "execution_count": 5,
      "outputs": [
        {
          "output_type": "execute_result",
          "data": {
            "text/plain": [
              "<tf.Tensor: shape=(3,), dtype=float32, numpy=array([ 2.,  0., -2.], dtype=float32)>"
            ]
          },
          "metadata": {},
          "execution_count": 5
        }
      ]
    },
    {
      "cell_type": "code",
      "source": [
        "scaling = tf.tile(tf.reshape(scaling, [1, 1, -1]), [batch_size, 1, 1])\n",
        "scaling"
      ],
      "metadata": {
        "colab": {
          "base_uri": "https://localhost:8080/"
        },
        "id": "6rSHYLXg-pj_",
        "outputId": "542cdf64-9bfa-4ed8-adaa-4355e9cb61ec"
      },
      "execution_count": 6,
      "outputs": [
        {
          "output_type": "execute_result",
          "data": {
            "text/plain": [
              "<tf.Tensor: shape=(4, 1, 3), dtype=float32, numpy=\n",
              "array([[[ 2.,  0., -2.]],\n",
              "\n",
              "       [[ 2.,  0., -2.]],\n",
              "\n",
              "       [[ 2.,  0., -2.]],\n",
              "\n",
              "       [[ 2.,  0., -2.]]], dtype=float32)>"
            ]
          },
          "metadata": {},
          "execution_count": 6
        }
      ]
    },
    {
      "cell_type": "code",
      "source": [
        "C = tf.matmul(inputs, scaling) # 4,3,1 x 4,1,3\n",
        "C"
      ],
      "metadata": {
        "colab": {
          "base_uri": "https://localhost:8080/"
        },
        "id": "9u35hRab-phO",
        "outputId": "be673c1b-0a81-4773-b267-0c5e265116ec"
      },
      "execution_count": 7,
      "outputs": [
        {
          "output_type": "execute_result",
          "data": {
            "text/plain": [
              "<tf.Tensor: shape=(4, 3, 3), dtype=float32, numpy=\n",
              "array([[[ 1.6447926 ,  0.        , -1.6447926 ],\n",
              "        [ 1.4967439 ,  0.        , -1.4967439 ],\n",
              "        [ 1.8994911 ,  0.        , -1.8994911 ]],\n",
              "\n",
              "       [[ 0.2394433 ,  0.        , -0.2394433 ],\n",
              "        [ 1.4455042 ,  0.        , -1.4455042 ],\n",
              "        [ 0.8586743 ,  0.        , -0.8586743 ]],\n",
              "\n",
              "       [[ 1.6009648 ,  0.        , -1.6009648 ],\n",
              "        [ 0.33611345,  0.        , -0.33611345],\n",
              "        [ 0.6949284 ,  0.        , -0.6949284 ]],\n",
              "\n",
              "       [[ 1.2529371 ,  0.        , -1.2529371 ],\n",
              "        [ 1.8970823 ,  0.        , -1.8970823 ],\n",
              "        [ 0.8319354 ,  0.        , -0.8319354 ]]], dtype=float32)>"
            ]
          },
          "metadata": {},
          "execution_count": 7
        }
      ]
    },
    {
      "cell_type": "code",
      "source": [
        "p_logits = tf.transpose(C - B, perm=[0, 2, 1])\n",
        "p_logits"
      ],
      "metadata": {
        "colab": {
          "base_uri": "https://localhost:8080/"
        },
        "id": "GxLpT_BK-peq",
        "outputId": "f9bc44b5-f6cc-4606-fe48-e2e759773a76"
      },
      "execution_count": 8,
      "outputs": [
        {
          "output_type": "execute_result",
          "data": {
            "text/plain": [
              "<tf.Tensor: shape=(4, 3, 3), dtype=float32, numpy=\n",
              "array([[[ 1.443419  ,  1.221346  ,  1.5707682 ],\n",
              "        [-0.20137358, -0.2753979 , -0.32872283],\n",
              "        [-1.8461661 , -1.7721418 , -2.2282138 ]],\n",
              "\n",
              "       [[-0.67320263,  0.5490588 ,  0.25564384],\n",
              "        [-0.91264594, -0.8964454 , -0.60303044],\n",
              "        [-1.1520892 , -2.3419495 , -1.4617047 ]],\n",
              "\n",
              "       [[ 0.51552093, -0.4757197 ,  0.06250274],\n",
              "        [-1.0854439 , -0.81183314, -0.63242567],\n",
              "        [-2.6864085 , -1.1479466 , -1.3273541 ]],\n",
              "\n",
              "       [[ 0.7203636 ,  1.0424362 ,  0.08886111],\n",
              "        [-0.53257346, -0.8546461 , -0.7430743 ],\n",
              "        [-1.7855105 , -2.7517285 , -1.5750097 ]]], dtype=float32)>"
            ]
          },
          "metadata": {},
          "execution_count": 8
        }
      ]
    },
    {
      "cell_type": "code",
      "source": [
        "p_logistic = tf.nn.softmax(p_logits, -1)\n",
        "p_logistic"
      ],
      "metadata": {
        "colab": {
          "base_uri": "https://localhost:8080/"
        },
        "id": "Im_KYxahALDC",
        "outputId": "002c3c12-4257-43b8-f0cb-317e240c72ed"
      },
      "execution_count": 9,
      "outputs": [
        {
          "output_type": "execute_result",
          "data": {
            "text/plain": [
              "<tf.Tensor: shape=(4, 3, 3), dtype=float32, numpy=\n",
              "array([[[0.3405217 , 0.27270916, 0.38676918],\n",
              "        [0.35598904, 0.3305889 , 0.31342205],\n",
              "        [0.36241132, 0.39025646, 0.24733214]],\n",
              "\n",
              "       [[0.14437425, 0.4901298 , 0.36549598],\n",
              "        [0.2959251 , 0.3007583 , 0.40331662],\n",
              "        [0.4906788 , 0.14929579, 0.36002526]],\n",
              "\n",
              "       [[0.49830014, 0.18492715, 0.31677267],\n",
              "        [0.25721782, 0.33816504, 0.40461722],\n",
              "        [0.10471278, 0.48769155, 0.40759566]],\n",
              "\n",
              "       [[0.3434329 , 0.47393224, 0.18263492],\n",
              "        [0.39450473, 0.2858761 , 0.3196192 ],\n",
              "        [0.38243616, 0.1455244 , 0.47203943]]], dtype=float32)>"
            ]
          },
          "metadata": {},
          "execution_count": 9
        }
      ]
    },
    {
      "cell_type": "code",
      "source": [],
      "metadata": {
        "id": "rrAUZwqN-pXf"
      },
      "execution_count": 9,
      "outputs": []
    },
    {
      "cell_type": "markdown",
      "source": [
        "## 模拟 listwise 6选3"
      ],
      "metadata": {
        "id": "vWytrB5t-b0P"
      }
    },
    {
      "cell_type": "code",
      "source": [
        "N = 6\n",
        "TopK = 3"
      ],
      "metadata": {
        "id": "KAaAbKFL4hlN"
      },
      "execution_count": 10,
      "outputs": []
    },
    {
      "cell_type": "code",
      "source": [
        "rank_score = tf.random.uniform([4, N], minval=0.0, maxval=1.0)\n",
        "rank_score"
      ],
      "metadata": {
        "colab": {
          "base_uri": "https://localhost:8080/"
        },
        "id": "ftdCFbmu6Zi0",
        "outputId": "95bc01ea-aa9a-4d1c-b8ac-6e03064e5568"
      },
      "execution_count": 11,
      "outputs": [
        {
          "output_type": "execute_result",
          "data": {
            "text/plain": [
              "<tf.Tensor: shape=(4, 6), dtype=float32, numpy=\n",
              "array([[0.19664598, 0.2104162 , 0.10328329, 0.25442326, 0.04811656,\n",
              "        0.45724213],\n",
              "       [0.9729967 , 0.3479097 , 0.63081527, 0.2376535 , 0.76290333,\n",
              "        0.3004533 ],\n",
              "       [0.6977751 , 0.66400313, 0.89002   , 0.37777936, 0.1722467 ,\n",
              "        0.15054572],\n",
              "       [0.00286019, 0.88245285, 0.29435456, 0.4042896 , 0.84069896,\n",
              "        0.735322  ]], dtype=float32)>"
            ]
          },
          "metadata": {},
          "execution_count": 11
        }
      ]
    },
    {
      "cell_type": "code",
      "source": [
        "# 每行样本的topK下标\n",
        "groundtruth = tf.nn.top_k(rank_score, TopK)[1]\n",
        "groundtruth"
      ],
      "metadata": {
        "colab": {
          "base_uri": "https://localhost:8080/"
        },
        "id": "GMWaVDCC69qk",
        "outputId": "82351e8c-44d2-4756-dcda-6c499f3cb5cb"
      },
      "execution_count": 12,
      "outputs": [
        {
          "output_type": "execute_result",
          "data": {
            "text/plain": [
              "<tf.Tensor: shape=(4, 3), dtype=int32, numpy=\n",
              "array([[5, 3, 1],\n",
              "       [0, 4, 2],\n",
              "       [2, 0, 1],\n",
              "       [1, 4, 5]], dtype=int32)>"
            ]
          },
          "metadata": {},
          "execution_count": 12
        }
      ]
    },
    {
      "cell_type": "code",
      "source": [
        "target_label_matrix = tf.one_hot(groundtruth, N)\n",
        "target_sort_matrix = tf.reshape(target_label_matrix, [-1, N])\n",
        "target_sort_matrix"
      ],
      "metadata": {
        "colab": {
          "base_uri": "https://localhost:8080/"
        },
        "id": "Sctffe0z7ztT",
        "outputId": "76487686-6ab4-45ec-a24e-c5ef7c0dd3d8"
      },
      "execution_count": 13,
      "outputs": [
        {
          "output_type": "execute_result",
          "data": {
            "text/plain": [
              "<tf.Tensor: shape=(12, 6), dtype=float32, numpy=\n",
              "array([[0., 0., 0., 0., 0., 1.],\n",
              "       [0., 0., 0., 1., 0., 0.],\n",
              "       [0., 1., 0., 0., 0., 0.],\n",
              "       [1., 0., 0., 0., 0., 0.],\n",
              "       [0., 0., 0., 0., 1., 0.],\n",
              "       [0., 0., 1., 0., 0., 0.],\n",
              "       [0., 0., 1., 0., 0., 0.],\n",
              "       [1., 0., 0., 0., 0., 0.],\n",
              "       [0., 1., 0., 0., 0., 0.],\n",
              "       [0., 1., 0., 0., 0., 0.],\n",
              "       [0., 0., 0., 0., 1., 0.],\n",
              "       [0., 0., 0., 0., 0., 1.]], dtype=float32)>"
            ]
          },
          "metadata": {},
          "execution_count": 13
        }
      ]
    },
    {
      "cell_type": "code",
      "source": [
        "listwise_score = tf.random.uniform([4, N, 1])\n",
        "listwise_score"
      ],
      "metadata": {
        "colab": {
          "base_uri": "https://localhost:8080/"
        },
        "id": "a2L9LoC869k_",
        "outputId": "ebb58417-eda6-457c-94e9-63dc81292acc"
      },
      "execution_count": 14,
      "outputs": [
        {
          "output_type": "execute_result",
          "data": {
            "text/plain": [
              "<tf.Tensor: shape=(4, 6, 1), dtype=float32, numpy=\n",
              "array([[[0.660874  ],\n",
              "        [0.5152323 ],\n",
              "        [0.5283922 ],\n",
              "        [0.9928918 ],\n",
              "        [0.6450194 ],\n",
              "        [0.8328718 ]],\n",
              "\n",
              "       [[0.8678943 ],\n",
              "        [0.4251473 ],\n",
              "        [0.2908268 ],\n",
              "        [0.73846936],\n",
              "        [0.7699381 ],\n",
              "        [0.0582037 ]],\n",
              "\n",
              "       [[0.76821876],\n",
              "        [0.8891057 ],\n",
              "        [0.21235633],\n",
              "        [0.94094944],\n",
              "        [0.13954937],\n",
              "        [0.0775156 ]],\n",
              "\n",
              "       [[0.50557864],\n",
              "        [0.95465577],\n",
              "        [0.37362206],\n",
              "        [0.78056335],\n",
              "        [0.59861195],\n",
              "        [0.16696286]]], dtype=float32)>"
            ]
          },
          "metadata": {},
          "execution_count": 14
        }
      ]
    },
    {
      "cell_type": "code",
      "source": [
        "score_sort_matrix = deterministic_NeuralSort(listwise_score, N, 1.0)\n",
        "score_sort_matrix"
      ],
      "metadata": {
        "colab": {
          "base_uri": "https://localhost:8080/"
        },
        "id": "ss404Jcz4hil",
        "outputId": "e478b16e-7bda-4066-f7ac-54df1e202e0a"
      },
      "execution_count": 15,
      "outputs": [
        {
          "output_type": "execute_result",
          "data": {
            "text/plain": [
              "<tf.Tensor: shape=(4, 6, 6), dtype=float32, numpy=\n",
              "array([[[0.1578238 , 0.05724711, 0.06444525, 0.31028548, 0.14579573,\n",
              "         0.2644026 ],\n",
              "        [0.19339082, 0.09386843, 0.10292631, 0.19572113, 0.18440774,\n",
              "         0.22968546],\n",
              "        [0.21320048, 0.13847604, 0.14789414, 0.11107161, 0.20984693,\n",
              "         0.17951076],\n",
              "        [0.21485291, 0.18673703, 0.1942568 , 0.05761946, 0.21828645,\n",
              "         0.12824728],\n",
              "        [0.2019629 , 0.2348895 , 0.2380011 , 0.02788127, 0.2118012 ,\n",
              "         0.08546401],\n",
              "        [0.18031587, 0.28062648, 0.27695763, 0.01281409, 0.19519185,\n",
              "         0.05409411]],\n",
              "\n",
              "       [[0.33563066, 0.05780288, 0.02257392, 0.27689794, 0.3043125 ,\n",
              "         0.00278205],\n",
              "        [0.26012453, 0.10860112, 0.05548314, 0.27800745, 0.28689513,\n",
              "         0.01088861],\n",
              "        [0.1777463 , 0.17989482, 0.12023052, 0.2460893 , 0.23846576,\n",
              "         0.03757337],\n",
              "        [0.0990925 , 0.24312186, 0.21256383, 0.17772558, 0.16171485,\n",
              "         0.10578125],\n",
              "        [0.04264425, 0.25363487, 0.29009727, 0.0990802 , 0.08465513,\n",
              "         0.22988828],\n",
              "        [0.01435961, 0.2070409 , 0.3097848 , 0.04322012, 0.03467521,\n",
              "         0.39091933]],\n",
              "\n",
              "       [[0.24561088, 0.35297927, 0.01524782, 0.37176168, 0.00915946,\n",
              "         0.00524085],\n",
              "        [0.2774125 , 0.3130592 , 0.05234824, 0.2972426 , 0.03637507,\n",
              "         0.02356228],\n",
              "        [0.24892165, 0.22057797, 0.14277583, 0.18880598, 0.11476135,\n",
              "         0.08415716],\n",
              "        [0.14403048, 0.10021963, 0.25110906, 0.0773349 , 0.2334763 ,\n",
              "         0.19382954],\n",
              "        [0.05469801, 0.02988608, 0.2898648 , 0.0207903 , 0.3117562 ,\n",
              "         0.29300445],\n",
              "        [0.01690083, 0.00725111, 0.27223757, 0.00454742, 0.33869368,\n",
              "         0.36036944]],\n",
              "\n",
              "       [[0.11024622, 0.3606217 , 0.04377314, 0.30300134, 0.17554279,\n",
              "         0.00681474],\n",
              "        [0.17010598, 0.22664404, 0.08793859, 0.2697439 , 0.22486979,\n",
              "         0.02069774],\n",
              "        [0.22382765, 0.12147166, 0.15065712, 0.2047845 , 0.24565046,\n",
              "         0.05360866],\n",
              "        [0.2495054 , 0.0551541 , 0.21866131, 0.13170876, 0.22734013,\n",
              "         0.11763027],\n",
              "        [0.23695831, 0.02133567, 0.27038336, 0.07217019, 0.1792505 ,\n",
              "         0.21990189],\n",
              "        [0.19406776, 0.00711745, 0.2883217 , 0.03410285, 0.12188044,\n",
              "         0.35450986]]], dtype=float32)>"
            ]
          },
          "metadata": {},
          "execution_count": 15
        }
      ]
    },
    {
      "cell_type": "code",
      "source": [
        "score_sort_matrix = tf.reshape(score_sort_matrix[:, 0:TopK, :], [-1, N])\n",
        "score_sort_matrix = tf.clip_by_value(score_sort_matrix, clip_value_min=1e-9, clip_value_max=1.0)\n",
        "score_sort_matrix"
      ],
      "metadata": {
        "colab": {
          "base_uri": "https://localhost:8080/"
        },
        "id": "Tm91z56S4hd1",
        "outputId": "4383f2ae-3d9d-48b8-8e1c-131af9ec66fd"
      },
      "execution_count": 16,
      "outputs": [
        {
          "output_type": "execute_result",
          "data": {
            "text/plain": [
              "<tf.Tensor: shape=(12, 6), dtype=float32, numpy=\n",
              "array([[0.1578238 , 0.05724711, 0.06444525, 0.31028548, 0.14579573,\n",
              "        0.2644026 ],\n",
              "       [0.19339082, 0.09386843, 0.10292631, 0.19572113, 0.18440774,\n",
              "        0.22968546],\n",
              "       [0.21320048, 0.13847604, 0.14789414, 0.11107161, 0.20984693,\n",
              "        0.17951076],\n",
              "       [0.33563066, 0.05780288, 0.02257392, 0.27689794, 0.3043125 ,\n",
              "        0.00278205],\n",
              "       [0.26012453, 0.10860112, 0.05548314, 0.27800745, 0.28689513,\n",
              "        0.01088861],\n",
              "       [0.1777463 , 0.17989482, 0.12023052, 0.2460893 , 0.23846576,\n",
              "        0.03757337],\n",
              "       [0.24561088, 0.35297927, 0.01524782, 0.37176168, 0.00915946,\n",
              "        0.00524085],\n",
              "       [0.2774125 , 0.3130592 , 0.05234824, 0.2972426 , 0.03637507,\n",
              "        0.02356228],\n",
              "       [0.24892165, 0.22057797, 0.14277583, 0.18880598, 0.11476135,\n",
              "        0.08415716],\n",
              "       [0.11024622, 0.3606217 , 0.04377314, 0.30300134, 0.17554279,\n",
              "        0.00681474],\n",
              "       [0.17010598, 0.22664404, 0.08793859, 0.2697439 , 0.22486979,\n",
              "        0.02069774],\n",
              "       [0.22382765, 0.12147166, 0.15065712, 0.2047845 , 0.24565046,\n",
              "        0.05360866]], dtype=float32)>"
            ]
          },
          "metadata": {},
          "execution_count": 16
        }
      ]
    },
    {
      "cell_type": "code",
      "source": [
        "target_sort_matrix, score_sort_matrix"
      ],
      "metadata": {
        "colab": {
          "base_uri": "https://localhost:8080/"
        },
        "id": "KZq9Wo_o4hbM",
        "outputId": "d28ee73d-019f-4a27-9d49-f424e588242d"
      },
      "execution_count": 17,
      "outputs": [
        {
          "output_type": "execute_result",
          "data": {
            "text/plain": [
              "(<tf.Tensor: shape=(12, 6), dtype=float32, numpy=\n",
              " array([[0., 0., 0., 0., 0., 1.],\n",
              "        [0., 0., 0., 1., 0., 0.],\n",
              "        [0., 1., 0., 0., 0., 0.],\n",
              "        [1., 0., 0., 0., 0., 0.],\n",
              "        [0., 0., 0., 0., 1., 0.],\n",
              "        [0., 0., 1., 0., 0., 0.],\n",
              "        [0., 0., 1., 0., 0., 0.],\n",
              "        [1., 0., 0., 0., 0., 0.],\n",
              "        [0., 1., 0., 0., 0., 0.],\n",
              "        [0., 1., 0., 0., 0., 0.],\n",
              "        [0., 0., 0., 0., 1., 0.],\n",
              "        [0., 0., 0., 0., 0., 1.]], dtype=float32)>,\n",
              " <tf.Tensor: shape=(12, 6), dtype=float32, numpy=\n",
              " array([[0.1578238 , 0.05724711, 0.06444525, 0.31028548, 0.14579573,\n",
              "         0.2644026 ],\n",
              "        [0.19339082, 0.09386843, 0.10292631, 0.19572113, 0.18440774,\n",
              "         0.22968546],\n",
              "        [0.21320048, 0.13847604, 0.14789414, 0.11107161, 0.20984693,\n",
              "         0.17951076],\n",
              "        [0.33563066, 0.05780288, 0.02257392, 0.27689794, 0.3043125 ,\n",
              "         0.00278205],\n",
              "        [0.26012453, 0.10860112, 0.05548314, 0.27800745, 0.28689513,\n",
              "         0.01088861],\n",
              "        [0.1777463 , 0.17989482, 0.12023052, 0.2460893 , 0.23846576,\n",
              "         0.03757337],\n",
              "        [0.24561088, 0.35297927, 0.01524782, 0.37176168, 0.00915946,\n",
              "         0.00524085],\n",
              "        [0.2774125 , 0.3130592 , 0.05234824, 0.2972426 , 0.03637507,\n",
              "         0.02356228],\n",
              "        [0.24892165, 0.22057797, 0.14277583, 0.18880598, 0.11476135,\n",
              "         0.08415716],\n",
              "        [0.11024622, 0.3606217 , 0.04377314, 0.30300134, 0.17554279,\n",
              "         0.00681474],\n",
              "        [0.17010598, 0.22664404, 0.08793859, 0.2697439 , 0.22486979,\n",
              "         0.02069774],\n",
              "        [0.22382765, 0.12147166, 0.15065712, 0.2047845 , 0.24565046,\n",
              "         0.05360866]], dtype=float32)>)"
            ]
          },
          "metadata": {},
          "execution_count": 17
        }
      ]
    },
    {
      "cell_type": "code",
      "source": [
        "topk_loss = -1.0 * tf.reduce_sum(target_sort_matrix * tf.math.log(score_sort_matrix), axis=1)\n",
        "topk_loss"
      ],
      "metadata": {
        "colab": {
          "base_uri": "https://localhost:8080/"
        },
        "id": "ozzmIGUw4hY2",
        "outputId": "2620300d-c0ed-4983-cfb3-799556ed441f"
      },
      "execution_count": 18,
      "outputs": [
        {
          "output_type": "execute_result",
          "data": {
            "text/plain": [
              "<tf.Tensor: shape=(12,), dtype=float32, numpy=\n",
              "array([1.3302823, 1.6310644, 1.9770579, 1.091744 , 1.2486385, 2.1183443,\n",
              "       4.183319 , 1.2822497, 1.511504 , 1.0199258, 1.4922338, 2.9260447],\n",
              "      dtype=float32)>"
            ]
          },
          "metadata": {},
          "execution_count": 18
        }
      ]
    },
    {
      "cell_type": "code",
      "source": [
        "listwise_loss = tf.reduce_sum(tf.reshape(topk_loss, [-1, TopK]), axis=1)\n",
        "listwise_loss"
      ],
      "metadata": {
        "colab": {
          "base_uri": "https://localhost:8080/"
        },
        "id": "NDMpA2O-4hWA",
        "outputId": "7e40a734-2464-460c-e26d-bbb53d1a4b58"
      },
      "execution_count": 19,
      "outputs": [
        {
          "output_type": "execute_result",
          "data": {
            "text/plain": [
              "<tf.Tensor: shape=(4,), dtype=float32, numpy=array([4.9384046, 4.458727 , 6.9770727, 5.4382043], dtype=float32)>"
            ]
          },
          "metadata": {},
          "execution_count": 19
        }
      ]
    },
    {
      "cell_type": "code",
      "source": [],
      "metadata": {
        "id": "W4dtbF3v3lGP"
      },
      "execution_count": 19,
      "outputs": []
    }
  ]
}