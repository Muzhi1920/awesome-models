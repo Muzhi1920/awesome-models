{
  "nbformat": 4,
  "nbformat_minor": 0,
  "metadata": {
    "colab": {
      "name": "07_DeepFM.ipynb",
      "provenance": [],
      "collapsed_sections": [],
      "authorship_tag": "ABX9TyPtrS8jgjxM2uDXLRX+k7KF",
      "include_colab_link": true
    },
    "kernelspec": {
      "name": "python3",
      "display_name": "Python 3"
    },
    "language_info": {
      "name": "python"
    }
  },
  "cells": [
    {
      "cell_type": "markdown",
      "metadata": {
        "id": "view-in-github",
        "colab_type": "text"
      },
      "source": [
        "<a href=\"https://colab.research.google.com/github/Muzhi1920/awesome-models/blob/main/05-%E7%89%B9%E5%BE%81%E4%BA%A4%E4%BA%92/07_DeepFM.ipynb\" target=\"_parent\"><img src=\"https://colab.research.google.com/assets/colab-badge.svg\" alt=\"Open In Colab\"/></a>"
      ]
    },
    {
      "cell_type": "markdown",
      "metadata": {
        "id": "za8EToGf7fWG"
      },
      "source": [
        "# DeepFM\n",
        "\n",
        "- wide侧：稀疏输入\n",
        "- wide侧：field进行FM交互然后输入；\n",
        "- deep侧：稀疏emb两两进行FM交互，然后输入。\n"
      ]
    },
    {
      "cell_type": "code",
      "metadata": {
        "id": "iiLw5lf14tIy"
      },
      "source": [
        "import tensorflow as tf\n",
        "from sequence_feature_layer import SequenceFeatures\n",
        "from tensorflow import feature_column as fc\n",
        "from tensorflow.keras.layers import Layer, Dense, LayerNormalization, Dropout, Embedding, Conv1D"
      ],
      "execution_count": null,
      "outputs": []
    },
    {
      "cell_type": "markdown",
      "metadata": {
        "id": "OJ9XCQ_54zMw"
      },
      "source": [
        "## 0.准备工作"
      ]
    },
    {
      "cell_type": "code",
      "metadata": {
        "id": "wwWI_yGp4uVV",
        "colab": {
          "base_uri": "https://localhost:8080/"
        },
        "outputId": "70e9c05b-f334-448e-9f10-df6c84d6be5d"
      },
      "source": [
        "seq = fc.sequence_categorical_column_with_hash_bucket('seq', hash_bucket_size=10, dtype=tf.int64)\n",
        "target = fc.sequence_categorical_column_with_hash_bucket('target', hash_bucket_size=10, dtype=tf.int64)\n",
        "seq_wide_col = fc.embedding_column(seq, dimension=1)\n",
        "target_wide_col = fc.embedding_column(target, dimension=1)\n",
        "wide_columns = [seq_wide_col, target_wide_col]\n",
        "\n",
        "seq_v_col = fc.embedding_column(seq, dimension=8)\n",
        "target_v_col = fc.embedding_column(target, dimension=8)\n",
        "deep_columns = [seq_v_col, target_v_col]\n",
        "\n",
        "features={\n",
        "  \"seq\": tf.sparse.SparseTensor(\n",
        "      indices=[[0, 0], [0, 1], [0, 2], [1, 0], [1, 1], [2, 0], [2, 1]],\n",
        "      values=[1100, 1101, 1103, 1102, 1101, 1100, 1103],\n",
        "      dense_shape=[3, 3]),\n",
        "  \"target\": tf.sparse.SparseTensor(\n",
        "      indices=[[0, 0],[1,0],[2,0]],\n",
        "      values=[1102,1103,1100],\n",
        "      dense_shape=[3, 1]),\n",
        "}\n",
        "tf.sparse.to_dense(features['seq'])"
      ],
      "execution_count": null,
      "outputs": [
        {
          "output_type": "execute_result",
          "data": {
            "text/plain": [
              "<tf.Tensor: shape=(3, 3), dtype=int32, numpy=\n",
              "array([[1100, 1101, 1103],\n",
              "       [1102, 1101,    0],\n",
              "       [1100, 1103,    0]], dtype=int32)>"
            ]
          },
          "metadata": {},
          "execution_count": 2
        }
      ]
    },
    {
      "cell_type": "markdown",
      "metadata": {
        "id": "7zBW7IzxPMdj"
      },
      "source": [
        "## 2.wide部分"
      ]
    },
    {
      "cell_type": "code",
      "metadata": {
        "id": "Dwuq4gg94uTN",
        "colab": {
          "base_uri": "https://localhost:8080/"
        },
        "outputId": "0572eedf-331a-45f8-f9a4-3341c5b95486"
      },
      "source": [
        "wide_input_layer = SequenceFeatures(wide_columns, name='wide_input_layer')\n",
        "wide_part_dict, wide_len_dict = wide_input_layer(features)\n",
        "wide_part_dict"
      ],
      "execution_count": null,
      "outputs": [
        {
          "output_type": "execute_result",
          "data": {
            "text/plain": [
              "{'seq_embedding': <tf.Tensor: shape=(3, 3, 1), dtype=float32, numpy=\n",
              " array([[[-1.2562095 ],\n",
              "         [-0.63669527],\n",
              "         [ 0.52460396]],\n",
              " \n",
              "        [[-0.4415771 ],\n",
              "         [-0.63669527],\n",
              "         [ 0.        ]],\n",
              " \n",
              "        [[-1.2562095 ],\n",
              "         [ 0.52460396],\n",
              "         [ 0.        ]]], dtype=float32)>,\n",
              " 'target_embedding': <tf.Tensor: shape=(3, 1, 1), dtype=float32, numpy=\n",
              " array([[[ 0.81646895]],\n",
              " \n",
              "        [[-0.27553457]],\n",
              " \n",
              "        [[-1.1094153 ]]], dtype=float32)>}"
            ]
          },
          "metadata": {},
          "execution_count": 3
        }
      ]
    },
    {
      "cell_type": "code",
      "metadata": {
        "id": "l_uvcZtN4uRJ",
        "colab": {
          "base_uri": "https://localhost:8080/"
        },
        "outputId": "65e7c27e-9453-42c8-87fb-12be9b0a872b"
      },
      "source": [
        "wide_emb = tf.concat(list(wide_part_dict.values()), axis=1)\n",
        "wide_out = tf.reduce_sum(wide_emb, axis=1)\n",
        "wide_out"
      ],
      "execution_count": null,
      "outputs": [
        {
          "output_type": "execute_result",
          "data": {
            "text/plain": [
              "<tf.Tensor: shape=(3, 1), dtype=float32, numpy=\n",
              "array([[-0.55183184],\n",
              "       [-1.353807  ],\n",
              "       [-1.8410208 ]], dtype=float32)>"
            ]
          },
          "metadata": {},
          "execution_count": 4
        }
      ]
    },
    {
      "cell_type": "markdown",
      "metadata": {
        "id": "XRjs06_g-srd"
      },
      "source": [
        "## wide field交叉"
      ]
    },
    {
      "cell_type": "code",
      "metadata": {
        "colab": {
          "base_uri": "https://localhost:8080/"
        },
        "id": "jlB6FBv5Q_ip",
        "outputId": "3f2a871b-ed5a-4c21-86d3-da7e2c7e47a2"
      },
      "source": [
        "hidden_net = [32, 16]\n",
        "dnn = [Dense(units) for units in hidden_net]\n",
        "output = Dense(1)\n",
        "dnn,output"
      ],
      "execution_count": null,
      "outputs": [
        {
          "output_type": "execute_result",
          "data": {
            "text/plain": [
              "([<keras.layers.core.dense.Dense at 0x7f40ae3a80d0>,\n",
              "  <keras.layers.core.dense.Dense at 0x7f40ae3a8450>],\n",
              " <keras.layers.core.dense.Dense at 0x7f40ae3a8150>)"
            ]
          },
          "metadata": {},
          "execution_count": 14
        }
      ]
    },
    {
      "cell_type": "code",
      "metadata": {
        "id": "72EE5W8O4uPC",
        "colab": {
          "base_uri": "https://localhost:8080/"
        },
        "outputId": "9809ded8-f23f-4c8d-9f1c-fce74d9ad164"
      },
      "source": [
        "sequence_feature_layer = SequenceFeatures(deep_columns, name='sequence_features_input_layer')\n",
        "seq_emb_dict, seq_len_dict = sequence_feature_layer(features)\n",
        "seq_emb_dict.keys()"
      ],
      "execution_count": null,
      "outputs": [
        {
          "output_type": "execute_result",
          "data": {
            "text/plain": [
              "dict_keys(['seq_embedding', 'target_embedding'])"
            ]
          },
          "metadata": {},
          "execution_count": 15
        }
      ]
    },
    {
      "cell_type": "code",
      "metadata": {
        "id": "SVoQzkr74uMs"
      },
      "source": [
        "feature_emb = tf.concat(list(seq_emb_dict.values()), axis=1)"
      ],
      "execution_count": null,
      "outputs": []
    },
    {
      "cell_type": "code",
      "metadata": {
        "id": "a8NbBaHp4uKN",
        "colab": {
          "base_uri": "https://localhost:8080/"
        },
        "outputId": "82627980-b2b6-4a14-c36b-ddf5c7905214"
      },
      "source": [
        "square_sum = tf.square(tf.reduce_sum(feature_emb, axis=1, keepdims=True))  # (batch_size, 1, embed_dim)\n",
        "sum_square = tf.reduce_sum(tf.square(feature_emb), axis=1, keepdims=True)  # (batch_size, 1, embed_dim)\n",
        "order_2nd = 0.5 * tf.reduce_sum(square_sum - sum_square, axis=2)  # (batch_size, 1)\n",
        "order_2nd"
      ],
      "execution_count": null,
      "outputs": [
        {
          "output_type": "execute_result",
          "data": {
            "text/plain": [
              "<tf.Tensor: shape=(3, 1), dtype=float32, numpy=\n",
              "array([[ 0.67036307],\n",
              "       [-0.19438568],\n",
              "       [ 1.0304146 ]], dtype=float32)>"
            ]
          },
          "metadata": {},
          "execution_count": 17
        }
      ]
    },
    {
      "cell_type": "markdown",
      "metadata": {
        "id": "fuFYcd4iPOwB"
      },
      "source": [
        "## 2.Deep部分\n",
        "\n",
        "- 省略两两units交互"
      ]
    },
    {
      "cell_type": "code",
      "metadata": {
        "colab": {
          "base_uri": "https://localhost:8080/"
        },
        "id": "uhbxnc4mQ6Fv",
        "outputId": "2f92cb8e-3437-44fa-dad3-57e8763a9750"
      },
      "source": [
        "feature_emb_list = [tf.reduce_sum(emb, axis=1) for emb in seq_emb_dict.values()]\n",
        "feature_emb_list"
      ],
      "execution_count": null,
      "outputs": [
        {
          "output_type": "execute_result",
          "data": {
            "text/plain": [
              "[<tf.Tensor: shape=(3, 8), dtype=float32, numpy=\n",
              " array([[-0.49617663, -0.29706725, -0.9212994 , -0.6201912 , -0.6959002 ,\n",
              "         -0.743051  ,  0.35907674, -0.6889695 ],\n",
              "        [-0.0561493 , -0.32312697, -0.34185457, -0.09206233, -0.6287876 ,\n",
              "         -0.11313982, -0.38679832, -0.34011817],\n",
              "        [-0.29345843, -0.15343736, -0.71839345, -0.49594462, -0.09418745,\n",
              "         -0.7388194 ,  0.51937824, -0.75779957]], dtype=float32)>,\n",
              " <tf.Tensor: shape=(3, 8), dtype=float32, numpy=\n",
              " array([[ 0.41675764,  0.2765483 ,  0.03963033, -0.6217215 ,  0.3022967 ,\n",
              "         -0.4067798 , -0.23012994, -0.18241058],\n",
              "        [-0.2553696 ,  0.13021663,  0.22282931,  0.04598617,  0.36279324,\n",
              "         -0.01382723, -0.45736542,  0.24040934],\n",
              "        [-0.2442582 , -0.5225778 ,  0.04418829, -0.28923795,  0.2690728 ,\n",
              "         -0.31855312, -0.3698499 , -0.642562  ]], dtype=float32)>]"
            ]
          },
          "metadata": {},
          "execution_count": 18
        }
      ]
    },
    {
      "cell_type": "code",
      "metadata": {
        "colab": {
          "base_uri": "https://localhost:8080/"
        },
        "id": "kl2LnNo1VPiA",
        "outputId": "34daf6f9-fa5d-4dc4-e2e9-5144241c43a5"
      },
      "source": [
        "deep_input = tf.concat(feature_emb_list, axis=-1)\n",
        "deep_input"
      ],
      "execution_count": null,
      "outputs": [
        {
          "output_type": "execute_result",
          "data": {
            "text/plain": [
              "<tf.Tensor: shape=(3, 16), dtype=float32, numpy=\n",
              "array([[-0.49617663, -0.29706725, -0.9212994 , -0.6201912 , -0.6959002 ,\n",
              "        -0.743051  ,  0.35907674, -0.6889695 ,  0.41675764,  0.2765483 ,\n",
              "         0.03963033, -0.6217215 ,  0.3022967 , -0.4067798 , -0.23012994,\n",
              "        -0.18241058],\n",
              "       [-0.0561493 , -0.32312697, -0.34185457, -0.09206233, -0.6287876 ,\n",
              "        -0.11313982, -0.38679832, -0.34011817, -0.2553696 ,  0.13021663,\n",
              "         0.22282931,  0.04598617,  0.36279324, -0.01382723, -0.45736542,\n",
              "         0.24040934],\n",
              "       [-0.29345843, -0.15343736, -0.71839345, -0.49594462, -0.09418745,\n",
              "        -0.7388194 ,  0.51937824, -0.75779957, -0.2442582 , -0.5225778 ,\n",
              "         0.04418829, -0.28923795,  0.2690728 , -0.31855312, -0.3698499 ,\n",
              "        -0.642562  ]], dtype=float32)>"
            ]
          },
          "metadata": {},
          "execution_count": 19
        }
      ]
    },
    {
      "cell_type": "code",
      "metadata": {
        "id": "SxVMTke-WKBc"
      },
      "source": [
        "for nn in dnn:\n",
        "  deep_input = nn(deep_input)\n",
        "outputs = output(deep_input)"
      ],
      "execution_count": null,
      "outputs": []
    },
    {
      "cell_type": "code",
      "metadata": {
        "colab": {
          "base_uri": "https://localhost:8080/"
        },
        "id": "n6QavLZDWobr",
        "outputId": "3c1ae6c0-71ce-45d6-96da-141f03c0d7fa"
      },
      "source": [
        "outputs"
      ],
      "execution_count": null,
      "outputs": [
        {
          "output_type": "execute_result",
          "data": {
            "text/plain": [
              "<tf.Tensor: shape=(3, 1), dtype=float32, numpy=\n",
              "array([[0.322592  ],\n",
              "       [0.02042222],\n",
              "       [0.01225004]], dtype=float32)>"
            ]
          },
          "metadata": {},
          "execution_count": 21
        }
      ]
    },
    {
      "cell_type": "code",
      "metadata": {
        "id": "sRW1eaieWpOl",
        "colab": {
          "base_uri": "https://localhost:8080/"
        },
        "outputId": "e680ca7a-ad9b-49f4-ce5e-23db021f7f9d"
      },
      "source": [
        "tf.nn.sigmoid(wide_out + order_2nd + outputs)"
      ],
      "execution_count": null,
      "outputs": [
        {
          "output_type": "execute_result",
          "data": {
            "text/plain": [
              "<tf.Tensor: shape=(3, 1), dtype=float32, numpy=\n",
              "array([[0.6085266 ],\n",
              "       [0.17832011],\n",
              "       [0.31037724]], dtype=float32)>"
            ]
          },
          "metadata": {},
          "execution_count": 23
        }
      ]
    },
    {
      "cell_type": "code",
      "metadata": {
        "id": "5tqm0WLn_P_R"
      },
      "source": [
        ""
      ],
      "execution_count": null,
      "outputs": []
    }
  ]
}