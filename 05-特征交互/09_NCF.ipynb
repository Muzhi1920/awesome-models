{
  "nbformat": 4,
  "nbformat_minor": 0,
  "metadata": {
    "colab": {
      "name": "09_NCF.ipynb",
      "provenance": [],
      "collapsed_sections": [],
      "toc_visible": true,
      "authorship_tag": "ABX9TyM6yGS8WBTqw0tZSPCTzpF5",
      "include_colab_link": true
    },
    "kernelspec": {
      "name": "python3",
      "display_name": "Python 3"
    },
    "language_info": {
      "name": "python"
    }
  },
  "cells": [
    {
      "cell_type": "markdown",
      "metadata": {
        "id": "view-in-github",
        "colab_type": "text"
      },
      "source": [
        "<a href=\"https://colab.research.google.com/github/Muzhi1920/awesome-models/blob/main/05-%E7%89%B9%E5%BE%81%E4%BA%A4%E4%BA%92/09_NCF.ipynb\" target=\"_parent\"><img src=\"https://colab.research.google.com/assets/colab-badge.svg\" alt=\"Open In Colab\"/></a>"
      ]
    },
    {
      "cell_type": "code",
      "metadata": {
        "id": "iiLw5lf14tIy"
      },
      "source": [
        "import tensorflow as tf\n",
        "from sequence_feature_layer import SequenceFeatures\n",
        "from tensorflow import feature_column as fc\n",
        "from tensorflow.keras.layers import Layer, Dense, LayerNormalization, Dropout, Embedding, Conv1D, DenseFeatures"
      ],
      "execution_count": null,
      "outputs": []
    },
    {
      "cell_type": "markdown",
      "metadata": {
        "id": "OJ9XCQ_54zMw"
      },
      "source": [
        "## 0.准备工作"
      ]
    },
    {
      "cell_type": "code",
      "metadata": {
        "id": "wwWI_yGp4uVV",
        "colab": {
          "base_uri": "https://localhost:8080/"
        },
        "outputId": "81ed9409-7121-4e86-ba7d-9c028a27d021"
      },
      "source": [
        "user_id = fc.sequence_categorical_column_with_hash_bucket('user_id', hash_bucket_size=10, dtype=tf.int64)\n",
        "pos_item = fc.sequence_categorical_column_with_hash_bucket('pos_item', hash_bucket_size=20, dtype=tf.int64)\n",
        "neg_item = fc.sequence_categorical_column_with_hash_bucket('neg_item', hash_bucket_size=20, dtype=tf.int64)\n",
        "\n",
        "user_id_col = fc.embedding_column(user_id, dimension=8)\n",
        "pos_item_col = fc.embedding_column(pos_item, dimension=8)\n",
        "neg_item_col = fc.embedding_column(neg_item, dimension=8)\n",
        "\n",
        "feature_columns = [user_id_col, pos_item_col, neg_item_col]\n",
        "\n",
        "features={\n",
        "  \"user_id\": tf.sparse.SparseTensor(\n",
        "      indices=[[0, 0],[1, 0], [2, 0]],\n",
        "      values=[1000,1001,1002],\n",
        "      dense_shape=[3, 1]),\n",
        "  \"pos_item\": tf.sparse.SparseTensor(\n",
        "      indices=[[0, 0], [0, 1], [1, 0], [1, 1], [2, 0]],\n",
        "      values=[1100, 1101, 1102, 1101, 1103],\n",
        "      dense_shape=[3, 2]),\n",
        "  \n",
        "  \"neg_item\": tf.sparse.SparseTensor(\n",
        "      indices=[[0, 0], [0, 1], [1, 0], [1, 1], [2, 0]],\n",
        "      values=[2200, 2201, 2202, 2201, 2203],\n",
        "      dense_shape=[3, 2]),\n",
        "}\n",
        "tf.sparse.to_dense(features['user_id'])"
      ],
      "execution_count": null,
      "outputs": [
        {
          "output_type": "execute_result",
          "data": {
            "text/plain": [
              "<tf.Tensor: shape=(3, 1), dtype=int32, numpy=\n",
              "array([[1000],\n",
              "       [1001],\n",
              "       [1002]], dtype=int32)>"
            ]
          },
          "metadata": {},
          "execution_count": 2
        }
      ]
    },
    {
      "cell_type": "markdown",
      "metadata": {
        "id": "YG96FpOUPloW"
      },
      "source": [
        "# 1.MF输入"
      ]
    },
    {
      "cell_type": "code",
      "metadata": {
        "id": "Dwuq4gg94uTN",
        "colab": {
          "base_uri": "https://localhost:8080/"
        },
        "outputId": "a251d6ea-5117-4520-ff37-7754806b0b11"
      },
      "source": [
        "mf_input_layer = SequenceFeatures(feature_columns, name='mf_input_layer')\n",
        "mf_dict, mf_len_dict = mf_input_layer(features)\n",
        "mf_dict.keys()"
      ],
      "execution_count": null,
      "outputs": [
        {
          "output_type": "execute_result",
          "data": {
            "text/plain": [
              "dict_keys(['neg_item_embedding', 'pos_item_embedding', 'user_id_embedding'])"
            ]
          },
          "metadata": {},
          "execution_count": 3
        }
      ]
    },
    {
      "cell_type": "markdown",
      "metadata": {
        "id": "Wni9Q99ZP6X1"
      },
      "source": [
        "## 1.1element-wise product\n",
        "对应元素相乘"
      ]
    },
    {
      "cell_type": "code",
      "metadata": {
        "id": "72EE5W8O4uPC",
        "colab": {
          "base_uri": "https://localhost:8080/"
        },
        "outputId": "b7cc10ae-d01a-443d-f374-4e966d2c3412"
      },
      "source": [
        "user_emb = mf_dict['user_id_embedding']\n",
        "pos_item_emb = mf_dict['pos_item_embedding']\n",
        "neg_item_emb = mf_dict['neg_item_embedding']\n",
        "mf_pos_output = tf.nn.sigmoid(user_emb * pos_item_emb)\n",
        "mf_neg_output = tf.nn.sigmoid(user_emb * neg_item_emb)\n",
        "mf_pos_output = tf.reduce_mean(mf_pos_output, axis=1)\n",
        "mf_neg_output = tf.reduce_mean(mf_neg_output, axis=1)\n",
        "tf.shape(mf_pos_output),tf.shape(mf_neg_output)"
      ],
      "execution_count": null,
      "outputs": [
        {
          "output_type": "execute_result",
          "data": {
            "text/plain": [
              "(<tf.Tensor: shape=(2,), dtype=int32, numpy=array([3, 8], dtype=int32)>,\n",
              " <tf.Tensor: shape=(2,), dtype=int32, numpy=array([3, 8], dtype=int32)>)"
            ]
          },
          "metadata": {},
          "execution_count": 4
        }
      ]
    },
    {
      "cell_type": "markdown",
      "metadata": {
        "id": "C647XdMcPqQ-"
      },
      "source": [
        "# 2.Deep输入"
      ]
    },
    {
      "cell_type": "code",
      "metadata": {
        "colab": {
          "base_uri": "https://localhost:8080/"
        },
        "id": "YniEEk4OHcAV",
        "outputId": "30e13afa-db6c-4fde-f018-bad1535fdfd4"
      },
      "source": [
        "input_layer = SequenceFeatures(feature_columns, name='mf_input_layer')\n",
        "seq_dict, seq_len_dict = input_layer(features)\n",
        "seq_dict.keys()"
      ],
      "execution_count": null,
      "outputs": [
        {
          "output_type": "execute_result",
          "data": {
            "text/plain": [
              "dict_keys(['neg_item_embedding', 'pos_item_embedding', 'user_id_embedding'])"
            ]
          },
          "metadata": {},
          "execution_count": 5
        }
      ]
    },
    {
      "cell_type": "code",
      "metadata": {
        "id": "SVoQzkr74uMs",
        "colab": {
          "base_uri": "https://localhost:8080/"
        },
        "outputId": "afe7c845-4194-4fec-e804-3f7945e1cab7"
      },
      "source": [
        "deep_user_emb = tf.squeeze(seq_dict['user_id_embedding'], axis=1)\n",
        "deep_pos_item_emb = seq_dict['pos_item_embedding']\n",
        "deep_neg_item_emb = seq_dict['neg_item_embedding']\n",
        "\n",
        "deep_pos_item_emb = tf.reduce_mean(deep_pos_item_emb, axis=1)\n",
        "deep_pos_input = tf.concat([deep_user_emb, deep_pos_item_emb], axis=-1)\n",
        "\n",
        "deep_neg_item_emb = tf.reduce_mean(deep_neg_item_emb, axis=1)\n",
        "deep_neg_input = tf.concat([deep_user_emb, deep_neg_item_emb], axis=-1)\n",
        "tf.shape(deep_pos_input), tf.shape(deep_neg_input)"
      ],
      "execution_count": null,
      "outputs": [
        {
          "output_type": "execute_result",
          "data": {
            "text/plain": [
              "(<tf.Tensor: shape=(2,), dtype=int32, numpy=array([ 3, 16], dtype=int32)>,\n",
              " <tf.Tensor: shape=(2,), dtype=int32, numpy=array([ 3, 16], dtype=int32)>)"
            ]
          },
          "metadata": {},
          "execution_count": 6
        }
      ]
    },
    {
      "cell_type": "markdown",
      "metadata": {
        "id": "77Kk3NmKPxni"
      },
      "source": [
        "## 2.1Deep Net"
      ]
    },
    {
      "cell_type": "code",
      "metadata": {
        "id": "a8NbBaHp4uKN"
      },
      "source": [
        "hidden_units = [16,8]\n",
        "dnn = [Dense(units=unit, activation='relu') for unit in hidden_units]\n",
        "output_layer = Dense(1, activation='sigmoid')"
      ],
      "execution_count": null,
      "outputs": []
    },
    {
      "cell_type": "code",
      "metadata": {
        "id": "SQrPO6fWIxI8"
      },
      "source": [
        "inputs = deep_pos_input\n",
        "for nn in dnn:\n",
        "  inputs = nn(inputs)\n",
        "deep_pos_output = inputs"
      ],
      "execution_count": null,
      "outputs": []
    },
    {
      "cell_type": "code",
      "metadata": {
        "id": "29xU4HO9JCP3"
      },
      "source": [
        "inputs = deep_neg_input\n",
        "for nn in dnn:\n",
        "  inputs = nn(inputs)\n",
        "deep_neg_output = inputs"
      ],
      "execution_count": null,
      "outputs": []
    },
    {
      "cell_type": "markdown",
      "metadata": {
        "id": "u5r_oV-CP1jY"
      },
      "source": [
        "# 3.NCF输出"
      ]
    },
    {
      "cell_type": "code",
      "metadata": {
        "colab": {
          "base_uri": "https://localhost:8080/"
        },
        "id": "GbBlvgEoJGJD",
        "outputId": "dc42003e-c4a5-42cf-f26a-5d40d17ef691"
      },
      "source": [
        "pos_output = tf.concat([mf_pos_output, deep_pos_output], axis=-1)\n",
        "neg_output = tf.concat([mf_neg_output, deep_neg_output], axis=-1)\n",
        "pos_logits = output_layer(pos_output)\n",
        "neg_logits = output_layer(neg_output)\n",
        "pos_logits,neg_logits"
      ],
      "execution_count": null,
      "outputs": [
        {
          "output_type": "execute_result",
          "data": {
            "text/plain": [
              "(<tf.Tensor: shape=(3, 1), dtype=float32, numpy=\n",
              " array([[0.41113794],\n",
              "        [0.46307915],\n",
              "        [0.48769495]], dtype=float32)>,\n",
              " <tf.Tensor: shape=(3, 1), dtype=float32, numpy=\n",
              " array([[0.4391548 ],\n",
              "        [0.44921368],\n",
              "        [0.46856785]], dtype=float32)>)"
            ]
          },
          "metadata": {},
          "execution_count": 14
        }
      ]
    },
    {
      "cell_type": "code",
      "metadata": {
        "colab": {
          "base_uri": "https://localhost:8080/"
        },
        "id": "9GsyhH6AJupZ",
        "outputId": "f50c6adc-3a49-4992-f35a-4b11bf76a544"
      },
      "source": [
        "losses = 0.5 * tf.reduce_mean(- tf.math.log(pos_logits) - tf.math.log(1 - neg_logits))\n",
        "losses"
      ],
      "execution_count": null,
      "outputs": [
        {
          "output_type": "execute_result",
          "data": {
            "text/plain": [
              "<tf.Tensor: shape=(), dtype=float32, numpy=0.6972746>"
            ]
          },
          "metadata": {},
          "execution_count": 15
        }
      ]
    },
    {
      "cell_type": "code",
      "metadata": {
        "id": "oMYTCUrdO_xp"
      },
      "source": [
        ""
      ],
      "execution_count": null,
      "outputs": []
    }
  ]
}