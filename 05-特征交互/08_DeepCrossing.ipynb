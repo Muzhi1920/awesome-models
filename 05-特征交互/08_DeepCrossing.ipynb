{
  "nbformat": 4,
  "nbformat_minor": 0,
  "metadata": {
    "colab": {
      "name": "08_DeepCrossing.ipynb",
      "provenance": [],
      "collapsed_sections": [],
      "authorship_tag": "ABX9TyPubRYnb/PVRSvgwT6XVIo3",
      "include_colab_link": true
    },
    "kernelspec": {
      "name": "python3",
      "display_name": "Python 3"
    },
    "language_info": {
      "name": "python"
    }
  },
  "cells": [
    {
      "cell_type": "markdown",
      "metadata": {
        "id": "view-in-github",
        "colab_type": "text"
      },
      "source": [
        "<a href=\"https://colab.research.google.com/github/Muzhi1920/awesome-models/blob/main/05-%E7%89%B9%E5%BE%81%E4%BA%A4%E4%BA%92/08_DeepCrossing.ipynb\" target=\"_parent\"><img src=\"https://colab.research.google.com/assets/colab-badge.svg\" alt=\"Open In Colab\"/></a>"
      ]
    },
    {
      "cell_type": "code",
      "metadata": {
        "id": "iiLw5lf14tIy"
      },
      "source": [
        "import tensorflow as tf\n",
        "from tensorflow import feature_column as fc\n",
        "from tensorflow.keras.layers import Layer, Dense, LayerNormalization, Dropout, Embedding, Conv1D, DenseFeatures, ReLU"
      ],
      "execution_count": null,
      "outputs": []
    },
    {
      "cell_type": "markdown",
      "metadata": {
        "id": "OJ9XCQ_54zMw"
      },
      "source": [
        "## 0.准备工作"
      ]
    },
    {
      "cell_type": "code",
      "metadata": {
        "id": "wwWI_yGp4uVV",
        "colab": {
          "base_uri": "https://localhost:8080/"
        },
        "outputId": "83f0f542-3930-4765-e60f-8e8d4e848d4f"
      },
      "source": [
        "seq = fc.categorical_column_with_hash_bucket('seq', hash_bucket_size=10, dtype=tf.int64)\n",
        "target = fc.categorical_column_with_hash_bucket('target', hash_bucket_size=10, dtype=tf.int64)\n",
        "seq_col = fc.embedding_column(seq, dimension=8)\n",
        "target_col = fc.embedding_column(target, dimension=8)\n",
        "columns = [seq_col, target_col]\n",
        "features={\n",
        "  \"seq\": tf.sparse.SparseTensor(\n",
        "      indices=[[0, 0], [0, 1], [1, 0], [1, 1], [2, 0]],\n",
        "      values=[1100, 1101, 1102, 1101, 1103],\n",
        "      dense_shape=[3, 2]),\n",
        "  \"target\": tf.sparse.SparseTensor(\n",
        "      indices=[[0, 0],[1,0],[2,0]],\n",
        "      values=[1102,1103,1100],\n",
        "      dense_shape=[3, 1]),\n",
        "\n",
        "}\n",
        "tf.sparse.to_dense(features['seq'])"
      ],
      "execution_count": null,
      "outputs": [
        {
          "output_type": "execute_result",
          "data": {
            "text/plain": [
              "<tf.Tensor: shape=(3, 2), dtype=int32, numpy=\n",
              "array([[1100, 1101],\n",
              "       [1102, 1101],\n",
              "       [1103,    0]], dtype=int32)>"
            ]
          },
          "metadata": {},
          "execution_count": 2
        }
      ]
    },
    {
      "cell_type": "code",
      "metadata": {
        "id": "Dwuq4gg94uTN",
        "colab": {
          "base_uri": "https://localhost:8080/"
        },
        "outputId": "7be499b5-4fec-48c0-8c75-9ce23b7e09a4"
      },
      "source": [
        "input_layer = DenseFeatures(columns, name='input_layer')\n",
        "net = input_layer(features)\n",
        "net"
      ],
      "execution_count": null,
      "outputs": [
        {
          "output_type": "execute_result",
          "data": {
            "text/plain": [
              "<tf.Tensor: shape=(3, 16), dtype=float32, numpy=\n",
              "array([[ 1.7270304e-01, -2.6593623e-01, -3.8202830e-02,  6.3266888e-02,\n",
              "        -8.7955520e-02, -1.2240441e-01,  8.0541268e-02, -7.6435603e-02,\n",
              "         4.3260914e-01, -4.4453360e-02, -4.1503379e-01, -1.3240685e-01,\n",
              "         1.9923095e-01, -5.9006828e-01,  7.6168798e-02, -3.7161762e-01],\n",
              "       [ 1.7802976e-04, -5.1683202e-02,  1.2500286e-01,  2.9188102e-01,\n",
              "         1.2777559e-03, -5.4559555e-02,  1.8974549e-01,  2.4603914e-01,\n",
              "        -1.6755906e-01,  4.7612214e-01, -9.8921970e-02,  1.1331042e-01,\n",
              "        -1.4801481e-01,  6.6043340e-02, -1.7649618e-01, -4.1666273e-02],\n",
              "       [-3.4509450e-01, -2.0577022e-01, -2.8365418e-01, -3.4777902e-02,\n",
              "         5.2838224e-01,  1.1012834e-01, -4.2458156e-01,  6.6934839e-02,\n",
              "         1.4291008e-01,  4.1550305e-01, -2.9657465e-01, -6.3238835e-01,\n",
              "         1.8077403e-01,  1.5333142e-02, -1.7123570e-01,  2.6142594e-01]],\n",
              "      dtype=float32)>"
            ]
          },
          "metadata": {},
          "execution_count": 3
        }
      ]
    },
    {
      "cell_type": "code",
      "metadata": {
        "id": "I7FLPEBJXumb"
      },
      "source": [
        "class res_layer(Layer):\n",
        "    def __init__(self, units):\n",
        "        \"\"\"\n",
        "        :param hidden_unit: A list. Neural network hidden units.\n",
        "        :param dim_stack: A scalar. The dimension of inputs unit.\n",
        "        \"\"\"\n",
        "        super(res_layer, self).__init__()\n",
        "        self.layer1 = Dense(units=units[0], activation='relu')\n",
        "        self.layer2 = Dense(units=units[1], activation=None)\n",
        "        self.relu = ReLU()\n",
        "\n",
        "    def call(self, inputs, **kwargs):\n",
        "        x = inputs\n",
        "        x = self.layer1(x)\n",
        "        x = self.layer2(x)\n",
        "        outputs = self.relu(x + inputs)\n",
        "        return outputs"
      ],
      "execution_count": null,
      "outputs": []
    },
    {
      "cell_type": "markdown",
      "metadata": {
        "id": "uHqjtyi27Crw"
      },
      "source": [
        "![](https://camo.githubusercontent.com/f60a4c8984353ba7f2f73e0cff66f4a98c77aed58b8afeae69fdacb21d68ea98/68747470733a2f2f63646e2e6a7364656c6976722e6e65742f67682f426c61636b5370616365475a592f63646e2f696d672f74665f362e706e67)"
      ]
    },
    {
      "cell_type": "code",
      "metadata": {
        "id": "l_uvcZtN4uRJ"
      },
      "source": [
        "hidden_units = [16, tf.shape(net)[1]]\n",
        "nums_stack = 2\n",
        "res_layers = [res_layer(hidden_units) for num in range(nums_stack)]\n",
        "output_layer = Dense(1, activation='sigmoid')"
      ],
      "execution_count": null,
      "outputs": []
    },
    {
      "cell_type": "code",
      "metadata": {
        "id": "72EE5W8O4uPC"
      },
      "source": [
        "for res in res_layers:\n",
        "  net = res(net)\n",
        "outputs = output_layer(net)"
      ],
      "execution_count": null,
      "outputs": []
    },
    {
      "cell_type": "code",
      "metadata": {
        "id": "SVoQzkr74uMs",
        "colab": {
          "base_uri": "https://localhost:8080/"
        },
        "outputId": "d01a0e2b-289e-4f23-ad32-11fa49e56e66"
      },
      "source": [
        "outputs"
      ],
      "execution_count": null,
      "outputs": [
        {
          "output_type": "execute_result",
          "data": {
            "text/plain": [
              "<tf.Tensor: shape=(3, 1), dtype=float32, numpy=\n",
              "array([[0.49188623],\n",
              "       [0.52558416],\n",
              "       [0.49548498]], dtype=float32)>"
            ]
          },
          "metadata": {},
          "execution_count": 7
        }
      ]
    },
    {
      "cell_type": "code",
      "metadata": {
        "id": "a8NbBaHp4uKN"
      },
      "source": [
        ""
      ],
      "execution_count": null,
      "outputs": []
    }
  ]
}