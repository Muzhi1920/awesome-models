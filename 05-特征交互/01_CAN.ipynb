{
  "nbformat": 4,
  "nbformat_minor": 0,
  "metadata": {
    "colab": {
      "name": "01_CAN.ipynb",
      "provenance": [],
      "collapsed_sections": [],
      "toc_visible": true,
      "authorship_tag": "ABX9TyNVrBJiRWBgSID6J+GiCctP",
      "include_colab_link": true
    },
    "kernelspec": {
      "name": "python3",
      "display_name": "Python 3"
    },
    "language_info": {
      "name": "python"
    }
  },
  "cells": [
    {
      "cell_type": "markdown",
      "metadata": {
        "id": "view-in-github",
        "colab_type": "text"
      },
      "source": [
        "<a href=\"https://colab.research.google.com/github/Muzhi1920/awesome-models/blob/main/05-%E7%89%B9%E5%BE%81%E4%BA%A4%E4%BA%92/01_CAN.ipynb\" target=\"_parent\"><img src=\"https://colab.research.google.com/assets/colab-badge.svg\" alt=\"Open In Colab\"/></a>"
      ]
    },
    {
      "cell_type": "markdown",
      "metadata": {
        "id": "epycwoVd4Twv"
      },
      "source": [
        "# Co-Action\n",
        "1. 参考知乎：https://zhuanlan.zhihu.com/p/287898562\n",
        "2. 论文：https://arxiv.org/abs/2011.05625\n",
        "\n",
        "\n",
        "- 将Target item的embedding，reshape成MLP；\n",
        "- 输入历史兴趣id的embedding去训练MLP；\n",
        "- 得到中间交互的latent emb作为交互输出。"
      ]
    },
    {
      "cell_type": "code",
      "metadata": {
        "id": "PoKzamUezKrP"
      },
      "source": [
        "import tensorflow as tf\n",
        "from sequence_feature_layer import SequenceFeatures\n",
        "from tensorflow import feature_column as fc\n",
        "from tensorflow.keras.layers import Layer, Dense, LayerNormalization, Dropout, Embedding, Conv1D"
      ],
      "execution_count": null,
      "outputs": []
    },
    {
      "cell_type": "markdown",
      "metadata": {
        "id": "jGgg5Nny4lFx"
      },
      "source": [
        "## 0.CAN模型配置"
      ]
    },
    {
      "cell_type": "code",
      "metadata": {
        "id": "2CrFZKRC4Ydw"
      },
      "source": [
        "can_config = {\n",
        "    'target_emb_w': [[16, 8], [8, 4]], #reshaped network\n",
        "    'target_emb_b': [0, 0], # bias is none\n",
        "    'order_indep': False,  # True\n",
        "    'orders': 3,  # exp non_linear trans\n",
        "}"
      ],
      "execution_count": null,
      "outputs": []
    },
    {
      "cell_type": "markdown",
      "metadata": {
        "id": "gACgcF014rWx"
      },
      "source": [
        "## 1.CAN模型build与train"
      ]
    },
    {
      "cell_type": "code",
      "metadata": {
        "id": "jrdckuGl4be1"
      },
      "source": [
        "def build_mlp(target_emb):\n",
        "    order_indep, orders, weight_emb_w, weight_emb_b = can_config['order_indep'], can_config['orders'], can_config['target_emb_w'], can_config['target_emb_b']\n",
        "    target_emb = tf.reduce_sum(target_emb, axis=1)\n",
        "    weight_orders, bias_orders = [], []\n",
        "    idx = 0\n",
        "    for i in range(orders):\n",
        "        weight, bias = [], []\n",
        "        for w, b in zip(weight_emb_w, weight_emb_b):\n",
        "            weight.append(tf.reshape(target_emb[:, idx:idx + w[0] * w[1]], [-1, w[0], w[1]]))\n",
        "            idx += w[0] * w[1]\n",
        "            if b == 0:\n",
        "                bias.append(None)\n",
        "            else:\n",
        "                bias.append(tf.reshape(target_emb[:, idx:idx + b], [-1, 1, b]))\n",
        "                idx += b\n",
        "        weight_orders.append(weight)\n",
        "        bias_orders.append(bias)\n",
        "        if not order_indep:\n",
        "            break\n",
        "    return weight_orders, bias_orders\n",
        "\n",
        "def CAN(weight_orders, bias_orders, co_action_feature, mask=None):\n",
        "    inputs = []\n",
        "    for i in range(can_config['orders']):\n",
        "        inputs.append(tf.math.pow(co_action_feature, i + 1.0))\n",
        "    out_seq = []\n",
        "    for i, h in enumerate(inputs):\n",
        "        if can_config['order_indep']:\n",
        "            weight, bias = weight_orders[i], bias_orders[i]\n",
        "        else:\n",
        "            weight, bias = weight_orders[0], bias_orders[0]\n",
        "        for j, (w, b) in enumerate(zip(weight, bias)):\n",
        "            h = tf.matmul(h, w)\n",
        "            if b is not None:\n",
        "                h = h + b\n",
        "            if j != len(weight) - 1:\n",
        "                h = tf.nn.tanh(h)\n",
        "            out_seq.append(h)\n",
        "    out_seq = tf.concat(out_seq, 2)\n",
        "    if mask is not None:\n",
        "        mask = tf.expand_dims(mask, axis=-1)\n",
        "        out_seq = out_seq * mask\n",
        "    out = tf.reduce_sum(out_seq, 1)\n",
        "    return out\n"
      ],
      "execution_count": null,
      "outputs": []
    },
    {
      "cell_type": "markdown",
      "metadata": {
        "id": "prJIcgZm4wbx"
      },
      "source": [
        "## 2.准备工作"
      ]
    },
    {
      "cell_type": "markdown",
      "metadata": {
        "id": "rBsQGg4Q5Sra"
      },
      "source": [
        "### 2.1 input_layer"
      ]
    },
    {
      "cell_type": "code",
      "metadata": {
        "colab": {
          "base_uri": "https://localhost:8080/"
        },
        "id": "-JBt8M2-4blJ",
        "outputId": "eb9c6325-819d-42ee-bc72-d36d546e781a"
      },
      "source": [
        "target_emb_size = sum([w[0] * w[1] for w in can_config['target_emb_w']]) + sum(can_config['target_emb_b'])\n",
        "seq_emb_size = can_config['target_emb_w'][0][0]\n",
        "\n",
        "seq = fc.sequence_categorical_column_with_hash_bucket('seq', hash_bucket_size=10, dtype=tf.int64)\n",
        "target = fc.sequence_categorical_column_with_hash_bucket('target', hash_bucket_size=10, dtype=tf.int64)\n",
        "seq_col = fc.embedding_column(seq, dimension=seq_emb_size)\n",
        "target_col = fc.embedding_column(target, dimension=target_emb_size)\n",
        "columns = [seq_col, target_col]\n",
        "features={\n",
        "  \"seq\": tf.sparse.SparseTensor(\n",
        "      indices=[[0, 0], [0, 1], [1, 0], [1, 1], [2, 0]],\n",
        "      values=[1100, 1101, 1102, 1101, 1103],\n",
        "      dense_shape=[3, 2]),\n",
        "  \"target\": tf.sparse.SparseTensor(\n",
        "      indices=[[0, 0],[1,0],[2,0]],\n",
        "      values=[1102,1103,1100],\n",
        "      dense_shape=[3, 1]),\n",
        "\n",
        "}\n",
        "tf.sparse.to_dense(features['seq'])"
      ],
      "execution_count": null,
      "outputs": [
        {
          "output_type": "execute_result",
          "data": {
            "text/plain": [
              "<tf.Tensor: shape=(3, 2), dtype=int32, numpy=\n",
              "array([[1100, 1101],\n",
              "       [1102, 1101],\n",
              "       [1103,    0]], dtype=int32)>"
            ]
          },
          "metadata": {},
          "execution_count": 4
        }
      ]
    },
    {
      "cell_type": "markdown",
      "metadata": {
        "id": "kTHL3v7F5ES0"
      },
      "source": [
        "### 2.2 序列与tatget的embedding获取"
      ]
    },
    {
      "cell_type": "code",
      "metadata": {
        "colab": {
          "base_uri": "https://localhost:8080/"
        },
        "id": "naO8Macv4bpe",
        "outputId": "678ba922-ba69-4eae-b011-18e71edffade"
      },
      "source": [
        "sequence_feature_layer = SequenceFeatures(columns, name='sequence_features_input_layer')\n",
        "sequence_inputs, sequence_lengths = sequence_feature_layer(features)\n",
        "target_input=sequence_inputs['target_embedding']\n",
        "target_length=sequence_lengths['target_embedding']\n",
        "sequence_input=sequence_inputs['seq_embedding']\n",
        "sequence_length=sequence_lengths['seq_embedding']\n",
        "tf.shape(sequence_input),tf.shape(target_input),sequence_length"
      ],
      "execution_count": null,
      "outputs": [
        {
          "output_type": "execute_result",
          "data": {
            "text/plain": [
              "(<tf.Tensor: shape=(3,), dtype=int32, numpy=array([ 3,  2, 16], dtype=int32)>,\n",
              " <tf.Tensor: shape=(3,), dtype=int32, numpy=array([  3,   1, 160], dtype=int32)>,\n",
              " <tf.Tensor: shape=(3,), dtype=int64, numpy=array([2, 2, 1])>)"
            ]
          },
          "metadata": {},
          "execution_count": 5
        }
      ]
    },
    {
      "cell_type": "markdown",
      "metadata": {
        "id": "DSjFDjO-5MRy"
      },
      "source": [
        "### 2.3 build target mlp"
      ]
    },
    {
      "cell_type": "code",
      "metadata": {
        "colab": {
          "base_uri": "https://localhost:8080/"
        },
        "id": "k8ii7wQL4buA",
        "outputId": "ffc5d3a3-bda3-4d8d-f573-a921244c7591"
      },
      "source": [
        "weights, biases = build_mlp(target_emb=target_input)\n",
        "weights"
      ],
      "execution_count": null,
      "outputs": [
        {
          "output_type": "execute_result",
          "data": {
            "text/plain": [
              "[[<tf.Tensor: shape=(3, 16, 8), dtype=float32, numpy=\n",
              "  array([[[ 0.10137711, -0.06435817, -0.13045818, -0.07548644,\n",
              "           -0.02454926,  0.00246648,  0.11344709, -0.09588721],\n",
              "          [ 0.01856251, -0.06053852, -0.03210662, -0.10088634,\n",
              "           -0.02419616,  0.08359312, -0.03179131,  0.11366984],\n",
              "          [-0.13051239, -0.10455967,  0.03955878,  0.02983663,\n",
              "           -0.03758518, -0.13609728,  0.01351203,  0.08538082],\n",
              "          [-0.00140181,  0.10369221,  0.12698841, -0.09246264,\n",
              "           -0.02612645,  0.01475628, -0.04308092,  0.08011487],\n",
              "          [-0.01934592,  0.1343469 ,  0.01589933,  0.06382099,\n",
              "            0.0210166 , -0.10394734, -0.00878059,  0.05687911],\n",
              "          [ 0.03829439,  0.15743534,  0.08446892, -0.10956515,\n",
              "            0.10264438, -0.01690628, -0.02500452,  0.05679527],\n",
              "          [ 0.04558031, -0.0664928 , -0.0652179 ,  0.03596425,\n",
              "           -0.01366829, -0.04426897,  0.07075365, -0.1099182 ],\n",
              "          [ 0.00939228,  0.06575622, -0.02010042, -0.02250131,\n",
              "           -0.00617933, -0.0820265 , -0.12388788, -0.03971862],\n",
              "          [-0.05982211,  0.15700437, -0.0962869 , -0.05820467,\n",
              "            0.06107784, -0.09732626,  0.02548814, -0.02005548],\n",
              "          [ 0.05715549,  0.15165873,  0.07283576,  0.05056274,\n",
              "            0.09114162,  0.00652338,  0.03957409,  0.07533608],\n",
              "          [ 0.01927413, -0.05981677,  0.06778603,  0.01904331,\n",
              "            0.06691305, -0.07622593, -0.11145893, -0.06548775],\n",
              "          [ 0.04856214,  0.05306134, -0.05038248,  0.08630347,\n",
              "            0.0053495 , -0.10295263,  0.06434674,  0.12313015],\n",
              "          [ 0.08678026,  0.03263051, -0.10006753,  0.03193578,\n",
              "           -0.03255625,  0.03729013,  0.06539827,  0.00607364],\n",
              "          [ 0.10553878,  0.14877774, -0.08846881,  0.04319768,\n",
              "            0.04138786, -0.05131454, -0.01582962,  0.0797538 ],\n",
              "          [-0.05962917, -0.11710984,  0.03552161,  0.0331348 ,\n",
              "            0.02613801, -0.00498331,  0.05963749, -0.05043422],\n",
              "          [ 0.09821182,  0.00463071,  0.05944074,  0.04171482,\n",
              "           -0.03115785, -0.11163018, -0.06179064, -0.08279816]],\n",
              "  \n",
              "         [[ 0.01557519,  0.06476458, -0.05254781,  0.04973388,\n",
              "           -0.04053409,  0.10940264, -0.03121523, -0.02214283],\n",
              "          [ 0.01263743, -0.07220661,  0.06829905,  0.01546918,\n",
              "           -0.02615099, -0.06347957,  0.07242044, -0.07604651],\n",
              "          [ 0.02814175, -0.07955825,  0.02733485,  0.03854964,\n",
              "            0.09096742,  0.07806163,  0.0278831 , -0.06872866],\n",
              "          [ 0.06885165, -0.1535764 ,  0.04509004, -0.06556688,\n",
              "            0.07873686, -0.04469896, -0.07321655,  0.02374448],\n",
              "          [ 0.05799461, -0.05454097, -0.02189903,  0.04750576,\n",
              "           -0.10803176, -0.02288671, -0.01699038,  0.00074863],\n",
              "          [ 0.02597813,  0.03327819,  0.06915416, -0.07062246,\n",
              "           -0.04890485, -0.04622868, -0.14293867,  0.0724486 ],\n",
              "          [-0.04085725, -0.07383462, -0.01788968, -0.04215879,\n",
              "           -0.00849951,  0.14883538,  0.12460855,  0.08710406],\n",
              "          [-0.05959004, -0.15351592,  0.10282069,  0.09326228,\n",
              "           -0.1274693 , -0.07074291, -0.09059837, -0.02160747],\n",
              "          [-0.02482115, -0.03388648, -0.11439832,  0.00049439,\n",
              "            0.01247563, -0.00186678, -0.05963343,  0.10564014],\n",
              "          [ 0.03750154,  0.01114855, -0.05361456, -0.07756856,\n",
              "           -0.10071833,  0.02184285, -0.10231733,  0.03630485],\n",
              "          [-0.0265636 ,  0.09420177,  0.11962988,  0.01981834,\n",
              "            0.10673851, -0.0325532 , -0.09668474,  0.05543166],\n",
              "          [ 0.09475859,  0.01422088, -0.06912813, -0.06360777,\n",
              "            0.0763654 , -0.0145594 ,  0.05901276, -0.00170462],\n",
              "          [-0.03020288,  0.05653496,  0.0938345 ,  0.09180325,\n",
              "           -0.00703646,  0.00541734, -0.00324863,  0.07081243],\n",
              "          [ 0.09617294,  0.0794889 , -0.00606014,  0.05408532,\n",
              "           -0.04870046, -0.0181706 , -0.08230999, -0.15051866],\n",
              "          [-0.0494924 ,  0.04096915, -0.05448604,  0.06635474,\n",
              "            0.01480812,  0.0665521 , -0.00808753, -0.00844434],\n",
              "          [-0.07130545, -0.13084044,  0.00435505,  0.01311768,\n",
              "           -0.03809915,  0.06762463,  0.01031877, -0.00576522]],\n",
              "  \n",
              "         [[ 0.06930735,  0.05292236,  0.05635776, -0.03598944,\n",
              "            0.04546119, -0.00559217,  0.05067655,  0.00309334],\n",
              "          [-0.02820489,  0.03311409, -0.01049584,  0.04748122,\n",
              "           -0.07712056, -0.01634162,  0.15187986, -0.09591617],\n",
              "          [-0.06575648, -0.00404872, -0.04267049, -0.04598672,\n",
              "           -0.01524692, -0.13999029, -0.10898315, -0.04872868],\n",
              "          [-0.01961012,  0.07753354, -0.00879464,  0.13526596,\n",
              "           -0.03627931,  0.04102309, -0.14797917, -0.04221843],\n",
              "          [-0.09710507, -0.04250044,  0.0119287 ,  0.01927461,\n",
              "           -0.06508761, -0.07028572,  0.04300815,  0.00582353],\n",
              "          [-0.06098936,  0.13129513, -0.03766241, -0.04842437,\n",
              "            0.11551771, -0.05820823,  0.08621319,  0.02639073],\n",
              "          [-0.09318732,  0.05366151, -0.02807922,  0.00672942,\n",
              "            0.13636802, -0.10420439,  0.01173476,  0.08061846],\n",
              "          [-0.02615708,  0.07444461, -0.12076844, -0.08058135,\n",
              "            0.04264069, -0.03280075, -0.01460656, -0.09182209],\n",
              "          [ 0.03991667,  0.08697782,  0.02201683,  0.08329423,\n",
              "            0.07153864,  0.03560399, -0.08028965, -0.10345981],\n",
              "          [ 0.15125248, -0.0486486 , -0.10170355,  0.06281442,\n",
              "           -0.06013925, -0.07250392,  0.04066572,  0.04188218],\n",
              "          [ 0.09762494, -0.02810947,  0.09227812, -0.06413969,\n",
              "           -0.0689668 ,  0.00894743,  0.11583923, -0.10576085],\n",
              "          [-0.03689228,  0.00240527,  0.04379429,  0.00460814,\n",
              "            0.01752582,  0.04768139, -0.06029155, -0.03155884],\n",
              "          [-0.13423935, -0.0589538 ,  0.07764298,  0.02195187,\n",
              "           -0.00536254, -0.0173618 , -0.02798321,  0.05779518],\n",
              "          [-0.04319178,  0.03796267, -0.00854905, -0.13137595,\n",
              "            0.13652885, -0.01933853,  0.05356253, -0.12792136],\n",
              "          [-0.00688087,  0.02734011, -0.0532495 ,  0.08598896,\n",
              "           -0.15360747,  0.03323527,  0.03239092,  0.06615986],\n",
              "          [-0.01669187,  0.12591036, -0.08438195, -0.02442132,\n",
              "            0.04762885, -0.06613248, -0.07570527, -0.03462887]]],\n",
              "        dtype=float32)>, <tf.Tensor: shape=(3, 8, 4), dtype=float32, numpy=\n",
              "  array([[[ 1.31284267e-01,  4.72981967e-02, -6.13184273e-02,\n",
              "            3.45925838e-02],\n",
              "          [-1.09997250e-01, -3.13144252e-02,  3.75612290e-03,\n",
              "            4.87603433e-02],\n",
              "          [ 6.71925321e-02,  2.31554899e-02,  1.24345236e-02,\n",
              "            6.78864401e-03],\n",
              "          [ 3.89264598e-02, -1.60536822e-02,  1.09695338e-01,\n",
              "           -6.49859682e-02],\n",
              "          [-5.51184751e-02,  5.58050610e-02, -1.27979279e-01,\n",
              "            4.07678895e-02],\n",
              "          [ 1.18991271e-01, -8.99070129e-02, -7.63800815e-02,\n",
              "            2.15544947e-03],\n",
              "          [-8.23149979e-02,  7.41851109e-05,  5.21244295e-02,\n",
              "           -1.23156592e-01],\n",
              "          [-3.00463941e-03, -1.03706695e-01,  6.13205284e-02,\n",
              "            1.77167188e-02]],\n",
              "  \n",
              "         [[-4.13129553e-02,  9.68576744e-02, -7.93520138e-02,\n",
              "           -8.72097909e-02],\n",
              "          [-2.61824578e-02, -4.30818275e-02, -3.82869667e-03,\n",
              "            7.83234183e-03],\n",
              "          [ 9.52614695e-02, -6.49077222e-02,  6.42559379e-02,\n",
              "            1.32780567e-01],\n",
              "          [ 4.24656719e-02, -1.51496992e-01, -1.22855715e-02,\n",
              "           -1.32404253e-01],\n",
              "          [ 2.52226871e-02,  8.36909264e-02,  7.22464249e-02,\n",
              "           -2.75261719e-02],\n",
              "          [ 1.32526249e-01, -5.41906385e-03,  9.69117042e-03,\n",
              "            5.07575460e-03],\n",
              "          [-2.49056946e-02,  9.23845991e-02, -1.29782841e-01,\n",
              "           -5.84699661e-02],\n",
              "          [-5.02376296e-02, -1.18044317e-02,  1.64018702e-02,\n",
              "           -1.12374075e-01]],\n",
              "  \n",
              "         [[-6.94622099e-03,  1.32995779e-02,  1.50881663e-01,\n",
              "            6.21071346e-02],\n",
              "          [ 7.38573149e-02,  2.12068651e-02,  1.33281484e-01,\n",
              "            8.10775980e-02],\n",
              "          [-3.11273150e-02, -3.14908959e-02, -9.44301337e-02,\n",
              "            1.27037242e-01],\n",
              "          [ 9.26098004e-02,  1.75296925e-02, -2.23859958e-02,\n",
              "            1.57547608e-01],\n",
              "          [-1.06383830e-01,  4.31778003e-03,  2.35842671e-02,\n",
              "           -8.05360153e-02],\n",
              "          [-4.33717035e-02, -1.37387261e-01, -1.39988298e-02,\n",
              "            4.51349244e-02],\n",
              "          [ 3.62973213e-02, -7.61971697e-02, -7.93765578e-03,\n",
              "           -3.74002308e-02],\n",
              "          [ 1.04446158e-01,  2.22238395e-02,  4.76653688e-02,\n",
              "           -1.42536283e-01]]], dtype=float32)>]]"
            ]
          },
          "metadata": {},
          "execution_count": 6
        }
      ]
    },
    {
      "cell_type": "markdown",
      "metadata": {
        "id": "6mY-mXBH5YCn"
      },
      "source": [
        "### 2.4 train mlp"
      ]
    },
    {
      "cell_type": "code",
      "metadata": {
        "id": "P2vn1E1m4byO"
      },
      "source": [
        "can_output = CAN(weight_orders=weights, bias_orders=biases, co_action_feature=sequence_input, mask=None)"
      ],
      "execution_count": null,
      "outputs": []
    },
    {
      "cell_type": "markdown",
      "metadata": {
        "id": "0C4j0H3C5a4X"
      },
      "source": [
        "## 3.CAN交互输出"
      ]
    },
    {
      "cell_type": "code",
      "metadata": {
        "colab": {
          "base_uri": "https://localhost:8080/"
        },
        "id": "CC8TQmoy4b0j",
        "outputId": "0227c965-5c57-4652-ea2d-5fcdc0da5909"
      },
      "source": [
        "can_output"
      ],
      "execution_count": null,
      "outputs": [
        {
          "output_type": "execute_result",
          "data": {
            "text/plain": [
              "<tf.Tensor: shape=(3, 36), dtype=float32, numpy=\n",
              "array([[ 5.01778349e-02, -2.00935975e-01, -8.35971311e-02,\n",
              "         1.93671770e-02, -3.70933488e-02,  5.56501448e-02,\n",
              "         7.40525723e-02, -1.94012105e-01,  2.69804671e-02,\n",
              "         1.94713827e-02, -1.02869282e-02, -2.38376167e-02,\n",
              "         5.20518720e-02,  4.39009368e-02, -2.97014918e-02,\n",
              "        -7.69861927e-03,  2.03943532e-02, -4.41536978e-02,\n",
              "         3.47796306e-02, -1.21500455e-02, -9.49517824e-03,\n",
              "         6.89352117e-03, -2.41043884e-03,  4.77566675e-04,\n",
              "         1.42347012e-02, -1.06823416e-02, -1.42407846e-02,\n",
              "        -2.41869153e-03,  4.46004909e-04,  2.34961393e-03,\n",
              "         1.99747160e-02, -1.71742365e-02,  6.55179436e-04,\n",
              "         2.31307140e-03, -1.60387601e-03, -2.70899595e-03],\n",
              "       [-1.42529428e-01, -2.17842981e-02,  3.11489683e-03,\n",
              "         6.14735559e-02, -1.96310915e-02,  1.94459707e-01,\n",
              "         1.50961757e-01,  1.35005370e-01,  2.40996350e-02,\n",
              "        -1.27256569e-02, -6.07332308e-03, -1.79368556e-02,\n",
              "        -3.73593485e-03, -9.72214900e-03,  2.16797777e-02,\n",
              "         1.39119104e-04, -1.78868473e-02,  5.77115677e-02,\n",
              "        -2.28587147e-02,  4.96135391e-02,  7.75403623e-03,\n",
              "        -5.87842986e-03,  4.77247778e-03, -3.43545253e-04,\n",
              "        -1.27565954e-02, -7.44594494e-04,  3.89510905e-03,\n",
              "         4.83195903e-03, -3.60787986e-03,  2.57514250e-02,\n",
              "         1.47623094e-02,  2.19512507e-02,  2.97404919e-03,\n",
              "        -1.52515294e-03, -3.60914855e-04, -2.11579353e-03],\n",
              "       [ 1.12748854e-02,  1.23134684e-02, -1.71829518e-02,\n",
              "        -1.43390510e-03, -1.26241269e-02,  5.01302853e-02,\n",
              "        -1.26640186e-01, -4.92578745e-02, -9.33954120e-03,\n",
              "         2.54020537e-03,  2.65485398e-03,  1.43265445e-02,\n",
              "        -3.37021463e-02,  9.46720596e-03, -2.33599055e-03,\n",
              "        -8.42391700e-03,  2.23942716e-02, -3.75762209e-02,\n",
              "        -5.81291411e-03, -6.91452250e-03, -1.45993149e-03,\n",
              "         5.22688730e-03, -2.64333328e-03, -5.24606183e-03,\n",
              "         5.33032464e-03, -1.81993761e-03,  9.36389202e-04,\n",
              "        -1.00062764e-03, -7.14567443e-03,  6.92331931e-03,\n",
              "        -1.06267929e-02, -7.58866547e-03, -1.01167953e-03,\n",
              "        -3.55679571e-04, -4.71476415e-05,  2.51187710e-03]], dtype=float32)>"
            ]
          },
          "metadata": {},
          "execution_count": 8
        }
      ]
    }
  ]
}