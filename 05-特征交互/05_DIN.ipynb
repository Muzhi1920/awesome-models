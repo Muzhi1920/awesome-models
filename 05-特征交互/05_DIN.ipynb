{
  "nbformat": 4,
  "nbformat_minor": 0,
  "metadata": {
    "colab": {
      "name": "05_DIN.ipynb",
      "provenance": [],
      "collapsed_sections": [],
      "toc_visible": true,
      "authorship_tag": "ABX9TyPN7RFWIIdMecoQao8q0Qxm",
      "include_colab_link": true
    },
    "kernelspec": {
      "name": "python3",
      "display_name": "Python 3"
    },
    "language_info": {
      "name": "python"
    }
  },
  "cells": [
    {
      "cell_type": "markdown",
      "metadata": {
        "id": "view-in-github",
        "colab_type": "text"
      },
      "source": [
        "<a href=\"https://colab.research.google.com/github/Muzhi1920/awesome-models/blob/main/05-%E7%89%B9%E5%BE%81%E4%BA%A4%E4%BA%92/05_DIN.ipynb\" target=\"_parent\"><img src=\"https://colab.research.google.com/assets/colab-badge.svg\" alt=\"Open In Colab\"/></a>"
      ]
    },
    {
      "cell_type": "markdown",
      "metadata": {
        "id": "b1mqmNyXXnS3"
      },
      "source": [
        "# DIN\n",
        "- 参考：Deep Interest Network for Click-Through Rate Prediction\n",
        "- https://arxiv.org/pdf/1706.06978.pdf\n",
        "\n",
        "\n",
        "通过历史的id、target_id，及其积、差去计算attention，然后对seq_emb进行pooling。"
      ]
    },
    {
      "cell_type": "code",
      "metadata": {
        "id": "iiLw5lf14tIy"
      },
      "source": [
        "import tensorflow as tf\n",
        "from sequence_feature_layer import SequenceFeatures\n",
        "from tensorflow import feature_column as fc\n",
        "from tensorflow.keras.layers import Layer, Dense, LayerNormalization, Dropout, Embedding, Conv1D, BatchNormalization"
      ],
      "execution_count": null,
      "outputs": []
    },
    {
      "cell_type": "markdown",
      "metadata": {
        "id": "OJ9XCQ_54zMw"
      },
      "source": [
        "## 0.准备工作"
      ]
    },
    {
      "cell_type": "code",
      "metadata": {
        "id": "wwWI_yGp4uVV",
        "colab": {
          "base_uri": "https://localhost:8080/"
        },
        "outputId": "376cb0e7-2896-40fc-9f4c-0c0b131aeb42"
      },
      "source": [
        "seq_tag = fc.sequence_categorical_column_with_hash_bucket('seq_tag', hash_bucket_size=24, dtype=tf.int64)\n",
        "seq_id = fc.sequence_categorical_column_with_hash_bucket('seq_id', hash_bucket_size=10, dtype=tf.int64)\n",
        "\n",
        "target_tag = fc.sequence_categorical_column_with_hash_bucket('target_tag', hash_bucket_size=24, dtype=tf.int64)\n",
        "target_id = fc.sequence_categorical_column_with_hash_bucket('target_id', hash_bucket_size=10, dtype=tf.int64)\n",
        "\n",
        "seq_tag_col = fc.embedding_column(seq_tag, dimension=8)\n",
        "seq_id_col = fc.embedding_column(seq_id, dimension=8)\n",
        "target_tag_col = fc.embedding_column(target_tag, dimension=8)\n",
        "target_id_col = fc.embedding_column(target_id, dimension=8)\n",
        "\n",
        "columns = [seq_tag_col, seq_id_col, target_tag_col, target_id_col]\n",
        "\n",
        "features={\n",
        "  \"seq_tag\": tf.sparse.SparseTensor(\n",
        "      indices=[[0, 0], [0, 1], [1, 0], [1, 1], [2, 0]],\n",
        "      values=[1100, 1101, 1102, 1100, 1103],\n",
        "      dense_shape=[3, 2]),\n",
        "  \"target_tag\": tf.sparse.SparseTensor(\n",
        "      indices=[[0, 0],[1,0],[2,0]],\n",
        "      values=[1102,1103,1100],\n",
        "      dense_shape=[3, 1]),\n",
        "  \n",
        "  \"seq_id\": tf.sparse.SparseTensor(\n",
        "      indices=[[0, 0], [0, 1], [1, 0], [1, 1], [2, 0]],\n",
        "      values=[2200, 2201, 2202, 2200, 2203],\n",
        "      dense_shape=[3, 2]),\n",
        "  \"target_id\": tf.sparse.SparseTensor(\n",
        "      indices=[[0, 0],[1,0],[2,0]],\n",
        "      values=[2202, 2203, 2200],\n",
        "      dense_shape=[3, 1]),\n",
        "}\n",
        "tf.sparse.to_dense(features['seq_id'])"
      ],
      "execution_count": null,
      "outputs": [
        {
          "output_type": "execute_result",
          "data": {
            "text/plain": [
              "<tf.Tensor: shape=(3, 2), dtype=int32, numpy=\n",
              "array([[2200, 2201],\n",
              "       [2202, 2200],\n",
              "       [2203,    0]], dtype=int32)>"
            ]
          },
          "metadata": {},
          "execution_count": 2
        }
      ]
    },
    {
      "cell_type": "code",
      "metadata": {
        "id": "Dwuq4gg94uTN",
        "colab": {
          "base_uri": "https://localhost:8080/"
        },
        "outputId": "4da2fbe4-4cb5-46dc-e9ed-e2b181b7a298"
      },
      "source": [
        "sequence_feature_layer = SequenceFeatures(columns, name='sequence_features_input_layer')\n",
        "seq_emb_dict, seq_lengths_dict = sequence_feature_layer(features)\n",
        "seq_emb_dict.keys()"
      ],
      "execution_count": null,
      "outputs": [
        {
          "output_type": "execute_result",
          "data": {
            "text/plain": [
              "dict_keys(['seq_id_embedding', 'seq_tag_embedding', 'target_id_embedding', 'target_tag_embedding'])"
            ]
          },
          "metadata": {},
          "execution_count": 3
        }
      ]
    },
    {
      "cell_type": "markdown",
      "metadata": {
        "id": "EFyRn13UTQWF"
      },
      "source": [
        "# 1.DIN模型"
      ]
    },
    {
      "cell_type": "markdown",
      "metadata": {
        "id": "9yIhtDnITaj_"
      },
      "source": [
        "## 1.1模型配置"
      ]
    },
    {
      "cell_type": "code",
      "metadata": {
        "id": "l_uvcZtN4uRJ"
      },
      "source": [
        "din_config = [\n",
        "    {\n",
        "      'target':'target_tag_embedding',\n",
        "      'seq':'seq_tag_embedding',\n",
        "      'hidden_dnn': [Dense(unit, activation='relu') for unit in [32, 16]],\n",
        "      'att_output': Dense(1)\n",
        "    },\n",
        "    {\n",
        "      'target':'target_id_embedding',\n",
        "      'seq':'seq_id_embedding',\n",
        "      'hidden_dnn': [Dense(unit, activation='relu') for unit in [32, 16]],\n",
        "      'att_output': Dense(1)\n",
        "      }\n",
        "]\n",
        "\n",
        "bn_layer = BatchNormalization(trainable=True)\n",
        "ffn = [Dense(16),Dense(8)]\n",
        "output_layer = Dense(1, activation='sigmoid')"
      ],
      "execution_count": null,
      "outputs": []
    },
    {
      "cell_type": "markdown",
      "metadata": {
        "id": "UEy2OumfTctQ"
      },
      "source": [
        "## 1.2Attention网络"
      ]
    },
    {
      "cell_type": "code",
      "metadata": {
        "id": "iVRImc7-BTNe"
      },
      "source": [
        "def attention_layer(inputs, conf):\n",
        "  # query: candidate item  (None, d), d is the dimension of embedding\n",
        "  # key: hist items  (None, seq_len, d) \n",
        "  # value: hist items  (None, seq_len, d) \n",
        "  # mask: (None, seq_len, 1)\n",
        "  q, k, v, mask = inputs\n",
        "  q = tf.tile(q, multiples=[1, k.shape[1], 1])  # (None, seq_len, d)\n",
        "  info = tf.concat([q, k, q - k, q * k], axis=-1)\n",
        "\n",
        "  # att_network\n",
        "  for dense in conf['hidden_dnn']:\n",
        "    info = dense(info)\n",
        "  outputs = conf['att_output'](info)  # (None, seq_len, 1)\n",
        "\n",
        "  # mask processing\n",
        "  paddings = tf.ones_like(outputs) * (-2 ** 32 + 1)  # (None, seq_len, 1)\n",
        "  outputs = tf.where(mask, outputs, paddings)  # (None, seq_len, d)\n",
        "\n",
        "  # softmax\n",
        "  outputs = tf.nn.softmax(logits=outputs, axis=1)  # (None, seq_len, 1)\n",
        "  outputs = tf.reduce_sum(outputs * v, axis=1) # (None, seq_len, d)\n",
        "  return outputs"
      ],
      "execution_count": null,
      "outputs": []
    },
    {
      "cell_type": "markdown",
      "metadata": {
        "id": "XOR-NNmmTh3u"
      },
      "source": [
        "## 1.3Attention计算"
      ]
    },
    {
      "cell_type": "code",
      "metadata": {
        "id": "XlxY6wn7_yx3"
      },
      "source": [
        "din_output = []\n",
        "for index, conf in enumerate(din_config):\n",
        "  # 1. get seq_emb\n",
        "  seq_emb = seq_emb_dict[conf['seq']]\n",
        "  target_emb = seq_emb_dict[conf['target']]\n",
        "  \n",
        "  # 2. get mask\n",
        "  seq_len = seq_lengths_dict[conf['seq']]\n",
        "  seq_mask = tf.expand_dims(tf.sequence_mask(seq_len), axis=2)\n",
        "\n",
        "  # 3. din_att\n",
        "  din_emb = attention_layer([target_emb, seq_emb, seq_emb, seq_mask], conf)\n",
        "  user_info = tf.concat([din_emb, tf.squeeze(target_emb, axis=1)], axis=-1)\n",
        "  din_output.append(user_info)"
      ],
      "execution_count": null,
      "outputs": []
    },
    {
      "cell_type": "code",
      "metadata": {
        "id": "72EE5W8O4uPC",
        "colab": {
          "base_uri": "https://localhost:8080/"
        },
        "outputId": "4aa93580-b12d-4206-ace2-90b967a6a2b9"
      },
      "source": [
        "din_output"
      ],
      "execution_count": null,
      "outputs": [
        {
          "output_type": "execute_result",
          "data": {
            "text/plain": [
              "[<tf.Tensor: shape=(3, 16), dtype=float32, numpy=\n",
              " array([[-0.07797419, -0.08751298,  0.36610502, -0.10494256, -0.0212444 ,\n",
              "          0.04166278, -0.13390894,  0.37290865, -0.50531864,  0.631155  ,\n",
              "          0.08560061, -0.01462146, -0.38034615, -0.5496842 , -0.12611875,\n",
              "          0.35165834],\n",
              "        [-0.12444351,  0.20455462,  0.13561232,  0.05765025, -0.2207866 ,\n",
              "         -0.11927465,  0.21581909,  0.33374444, -0.5082068 ,  0.10135546,\n",
              "         -0.38784412,  0.00387459, -0.47680038,  0.28935573, -0.04011736,\n",
              "         -0.1338875 ],\n",
              "        [-0.27438214, -0.41840288, -0.16604301, -0.21779725, -0.0090143 ,\n",
              "         -0.44751582, -0.19455771, -0.18151334,  0.17689045, -0.19528258,\n",
              "         -0.11762542, -0.23027322,  0.09872594, -0.22766413,  0.31389937,\n",
              "         -0.12220497]], dtype=float32)>,\n",
              " <tf.Tensor: shape=(3, 16), dtype=float32, numpy=\n",
              " array([[-0.21482648, -0.3612737 ,  0.00179894,  0.29539776,  0.00997971,\n",
              "          0.05537786,  0.02404993, -0.03884788, -0.39602447,  0.4749365 ,\n",
              "         -0.21836492,  0.10399842,  0.16833718, -0.1565046 , -0.26036084,\n",
              "         -0.15087274],\n",
              "        [ 0.21569878, -0.3098359 , -0.28261727,  0.48935395, -0.09953691,\n",
              "         -0.07738003, -0.05067778, -0.10128883, -0.5280494 , -0.29738802,\n",
              "         -0.34389433,  0.39382175, -0.42502585,  0.24410011, -0.51929086,\n",
              "         -0.1691096 ],\n",
              "        [ 0.32976753,  0.01271076, -0.37087303,  0.5511104 , -0.0601039 ,\n",
              "          0.20335516,  0.02627577,  0.3504791 , -0.5280494 , -0.29738802,\n",
              "         -0.34389433,  0.39382175, -0.42502585,  0.24410011, -0.51929086,\n",
              "         -0.1691096 ]], dtype=float32)>]"
            ]
          },
          "metadata": {},
          "execution_count": 7
        }
      ]
    },
    {
      "cell_type": "markdown",
      "metadata": {
        "id": "eOreYNaLTm4M"
      },
      "source": [
        "# 2.网络输出"
      ]
    },
    {
      "cell_type": "code",
      "metadata": {
        "id": "SVoQzkr74uMs",
        "colab": {
          "base_uri": "https://localhost:8080/"
        },
        "outputId": "25c76d4e-7633-4974-a182-91f30f160dd3"
      },
      "source": [
        "net = tf.concat(din_output, axis=-1)\n",
        "net = bn_layer(net)\n",
        "net"
      ],
      "execution_count": null,
      "outputs": [
        {
          "output_type": "execute_result",
          "data": {
            "text/plain": [
              "<tf.Tensor: shape=(3, 32), dtype=float32, numpy=\n",
              "array([[-0.07793521, -0.08746924,  0.36592203, -0.10489011, -0.02123379,\n",
              "         0.04164196, -0.13384202,  0.37272227, -0.5050661 ,  0.6308396 ,\n",
              "         0.08555783, -0.01461416, -0.38015607, -0.5494095 , -0.12605572,\n",
              "         0.3514826 , -0.21471912, -0.36109313,  0.00179804,  0.29525012,\n",
              "         0.00997472,  0.05535019,  0.02403791, -0.03882846, -0.39582655,\n",
              "         0.4746991 , -0.21825579,  0.10394645,  0.16825305, -0.15642639,\n",
              "        -0.26023072, -0.15079734],\n",
              "       [-0.12438131,  0.20445238,  0.13554455,  0.05762143, -0.22067626,\n",
              "        -0.11921504,  0.21571122,  0.33357763, -0.5079528 ,  0.10130481,\n",
              "        -0.38765028,  0.00387266, -0.47656208,  0.28921112, -0.04009731,\n",
              "        -0.13382058,  0.21559097, -0.30968106, -0.28247604,  0.4891094 ,\n",
              "        -0.09948716, -0.07734136, -0.05065245, -0.10123821, -0.5277855 ,\n",
              "        -0.2972394 , -0.34372246,  0.39362493, -0.42481342,  0.24397811,\n",
              "        -0.51903135, -0.16902508],\n",
              "       [-0.27424502, -0.41819376, -0.16596003, -0.2176884 , -0.0090098 ,\n",
              "        -0.44729215, -0.19446048, -0.18142262,  0.17680204, -0.19518498,\n",
              "        -0.11756664, -0.23015814,  0.0986766 , -0.22755034,  0.3137425 ,\n",
              "        -0.12214389,  0.32960272,  0.01270441, -0.37068766,  0.55083495,\n",
              "        -0.06007386,  0.20325352,  0.02626263,  0.35030392, -0.5277855 ,\n",
              "        -0.2972394 , -0.34372246,  0.39362493, -0.42481342,  0.24397811,\n",
              "        -0.51903135, -0.16902508]], dtype=float32)>"
            ]
          },
          "metadata": {},
          "execution_count": 8
        }
      ]
    },
    {
      "cell_type": "code",
      "metadata": {
        "id": "a8NbBaHp4uKN",
        "colab": {
          "base_uri": "https://localhost:8080/"
        },
        "outputId": "72a64090-f4e4-427a-b4b6-60e917abe79f"
      },
      "source": [
        "for nn in ffn:\n",
        "  net = nn(net)\n",
        "net"
      ],
      "execution_count": null,
      "outputs": [
        {
          "output_type": "execute_result",
          "data": {
            "text/plain": [
              "<tf.Tensor: shape=(3, 8), dtype=float32, numpy=\n",
              "array([[ 0.0298623 ,  0.37747207, -0.5407858 ,  0.07977922, -0.2199403 ,\n",
              "        -0.05747664, -0.14641593,  0.08642846],\n",
              "       [-0.08119683, -0.5162671 ,  0.15861546,  0.60475576, -0.27961898,\n",
              "         0.30818018, -0.14244166,  0.5265868 ],\n",
              "       [-0.08044617, -0.49068213, -0.01410597,  0.25885564,  0.58016807,\n",
              "         0.21664813,  0.37478286, -0.40209168]], dtype=float32)>"
            ]
          },
          "metadata": {},
          "execution_count": 9
        }
      ]
    },
    {
      "cell_type": "code",
      "metadata": {
        "colab": {
          "base_uri": "https://localhost:8080/"
        },
        "id": "FDUjh17rTJ3q",
        "outputId": "e4371e69-4059-4219-a1c7-73c54d9b192c"
      },
      "source": [
        "output_layer(net)"
      ],
      "execution_count": null,
      "outputs": [
        {
          "output_type": "execute_result",
          "data": {
            "text/plain": [
              "<tf.Tensor: shape=(3, 1), dtype=float32, numpy=\n",
              "array([[0.39760578],\n",
              "       [0.79265916],\n",
              "       [0.46889168]], dtype=float32)>"
            ]
          },
          "metadata": {},
          "execution_count": 10
        }
      ]
    },
    {
      "cell_type": "code",
      "metadata": {
        "id": "i9uzYYkYTMG4"
      },
      "source": [
        ""
      ],
      "execution_count": null,
      "outputs": []
    }
  ]
}