{
  "nbformat": 4,
  "nbformat_minor": 0,
  "metadata": {
    "colab": {
      "name": "02_DCN.ipynb",
      "provenance": [],
      "collapsed_sections": [],
      "authorship_tag": "ABX9TyOz+n+s0vSKZBGnGDz7BYws",
      "include_colab_link": true
    },
    "kernelspec": {
      "name": "python3",
      "display_name": "Python 3"
    },
    "language_info": {
      "name": "python"
    }
  },
  "cells": [
    {
      "cell_type": "markdown",
      "metadata": {
        "id": "view-in-github",
        "colab_type": "text"
      },
      "source": [
        "<a href=\"https://colab.research.google.com/github/Muzhi1920/awesome-models/blob/main/05-%E7%89%B9%E5%BE%81%E4%BA%A4%E4%BA%92/02_DCN.ipynb\" target=\"_parent\"><img src=\"https://colab.research.google.com/assets/colab-badge.svg\" alt=\"Open In Colab\"/></a>"
      ]
    },
    {
      "cell_type": "markdown",
      "metadata": {
        "id": "W2PC_u5eof3q"
      },
      "source": [
        "# DCN\n",
        "\n",
        "- 论文：Deep & Cross Network for Ad Click Predictions\n",
        "- 参考：https://arxiv.org/pdf/1708.05123.pdf\n",
        "\n",
        "Cross网络（Cross Network），设计该网络的目的是增加特征之间的交互力度。交叉网络由多个交叉层组成，递归地cross输入：\n",
        "\n",
        "- 高阶输入，通过交叉得到权重w；\n",
        "- 权重w乘到inputs上，增加bias；\n",
        "- 最后再加上inputs，一次交叉完成\n",
        "\n",
        "\n",
        "\n",
        "\n",
        "\n",
        "\n",
        "\n",
        "\n"
      ]
    },
    {
      "cell_type": "code",
      "metadata": {
        "id": "PoKzamUezKrP"
      },
      "source": [
        "import tensorflow as tf\n",
        "from tensorflow import feature_column as fc\n",
        "from tensorflow.keras.layers import Layer, Dense, LayerNormalization, Dropout, Embedding, Conv1D\n",
        "from tensorflow.keras.regularizers import l2"
      ],
      "execution_count": null,
      "outputs": []
    },
    {
      "cell_type": "markdown",
      "metadata": {
        "id": "-0oob7pvojKL"
      },
      "source": [
        "## 准备工作"
      ]
    },
    {
      "cell_type": "code",
      "metadata": {
        "colab": {
          "base_uri": "https://localhost:8080/"
        },
        "id": "OATTaxI8n3_E",
        "outputId": "84b4c61a-23db-4a8c-eedd-7a05f95eed7a"
      },
      "source": [
        "nums = fc.numeric_column('nums', dtype=tf.float32)\n",
        "seq = fc.categorical_column_with_hash_bucket('seq', hash_bucket_size=10, dtype=tf.int64)\n",
        "target = fc.categorical_column_with_hash_bucket('target', hash_bucket_size=10, dtype=tf.int64)\n",
        "seq_col = fc.embedding_column(seq, dimension=8)\n",
        "target_col = fc.embedding_column(target, dimension=8)\n",
        "columns = [seq_col, target_col, nums]\n",
        "features={\n",
        "    \"seq\": tf.sparse.SparseTensor(\n",
        "        indices=[[0, 0], [0, 1], [1, 0], [1, 1], [2, 0]],\n",
        "        values=[1100, 1101, 1102, 1101, 1103],\n",
        "        dense_shape=[3, 2]),\n",
        "    \"target\": tf.sparse.SparseTensor(\n",
        "        indices=[[0, 0],[1,0],[2,0]],\n",
        "        values=[1102,1103,1100],\n",
        "        dense_shape=[3, 1]),\n",
        "    \"nums\": tf.convert_to_tensor([0.1,0.2,0.3]) \n",
        "\n",
        "}\n",
        "tf.sparse.to_dense(features['seq'])"
      ],
      "execution_count": null,
      "outputs": [
        {
          "output_type": "execute_result",
          "data": {
            "text/plain": [
              "<tf.Tensor: shape=(3, 2), dtype=int32, numpy=\n",
              "array([[1100, 1101],\n",
              "       [1102, 1101],\n",
              "       [1103,    0]], dtype=int32)>"
            ]
          },
          "metadata": {},
          "execution_count": 2
        }
      ]
    },
    {
      "cell_type": "markdown",
      "metadata": {
        "id": "yGwVPqzlol1L"
      },
      "source": [
        "## 输出tensor"
      ]
    },
    {
      "cell_type": "code",
      "metadata": {
        "colab": {
          "base_uri": "https://localhost:8080/"
        },
        "id": "_ln74ufUn4BU",
        "outputId": "7511ea54-1210-4a99-d54a-7375e0d1a6c0"
      },
      "source": [
        "input_layer = tf.keras.layers.DenseFeatures(columns, name='features_input_layer')\n",
        "net = input_layer(features)\n",
        "#tf.concat(sequence_inputs.values(), axis =-1)\n",
        "net"
      ],
      "execution_count": null,
      "outputs": [
        {
          "output_type": "execute_result",
          "data": {
            "text/plain": [
              "<tf.Tensor: shape=(3, 17), dtype=float32, numpy=\n",
              "array([[ 0.1       ,  0.06989709,  0.05039133, -0.40526628, -0.17505139,\n",
              "        -0.08593822, -0.47402114,  0.24738257, -0.03490505,  0.11353349,\n",
              "         0.10683289,  0.2729674 , -0.12089346,  0.25551936,  0.17137639,\n",
              "         0.07327487,  0.5861915 ],\n",
              "       [ 0.2       ,  0.20494407,  0.20746717, -0.0110372 ,  0.18881464,\n",
              "         0.14407712, -0.08519235,  0.06070877, -0.10711194,  0.35411718,\n",
              "        -0.5623867 ,  0.42709053, -0.6976193 ,  0.5282704 , -0.14868078,\n",
              "         0.34827474, -0.3380999 ],\n",
              "       [ 0.3       ,  0.07574383,  0.33736795,  0.62267196, -0.37300104,\n",
              "        -0.31420803, -0.27134705,  0.06302836,  0.25845692,  0.10021805,\n",
              "         0.0760479 , -0.6557216 ,  0.5330804 , -0.41521493,  0.082963  ,\n",
              "         0.21762002,  0.0465186 ]], dtype=float32)>"
            ]
          },
          "metadata": {},
          "execution_count": 4
        }
      ]
    },
    {
      "cell_type": "markdown",
      "metadata": {
        "id": "3mdGi_GtopZT"
      },
      "source": [
        "## deep cross network"
      ]
    },
    {
      "cell_type": "code",
      "metadata": {
        "id": "dN2oSvNqn4Dy"
      },
      "source": [
        "#DCN config\n",
        "layer_num = 2\n",
        "reg_w = 1e-6\n",
        "reg_b = 1e-6\n",
        "\n",
        "input_dims = tf.shape(net)[-1]\n",
        "\n",
        "cross_weights = [Dense(name='w_' + str(i),\n",
        "                       units=1,\n",
        "                       trainable=True,\n",
        "                       use_bias=True)\n",
        "                for i in range(layer_num)]\n",
        "\n",
        "def cross_layer(x_0):\n",
        "    x_l = x_0\n",
        "    for i in range(layer_num):\n",
        "        x_l_weight = cross_weights[i](x_l)\n",
        "        x_l = x_0 * x_l_weight + x_l\n",
        "    return x_l\n",
        "\n"
      ],
      "execution_count": null,
      "outputs": []
    },
    {
      "cell_type": "code",
      "metadata": {
        "colab": {
          "base_uri": "https://localhost:8080/"
        },
        "id": "fd7tqXBln4GJ",
        "outputId": "fb93bcc4-c34a-4b20-9977-f4bcb2a4831a"
      },
      "source": [
        "cross_layer(net)"
      ],
      "execution_count": null,
      "outputs": [
        {
          "output_type": "execute_result",
          "data": {
            "text/plain": [
              "<tf.Tensor: shape=(3, 17), dtype=float32, numpy=\n",
              "array([[ 0.09316738,  0.06512129,  0.04694828, -0.377576  , -0.1630908 ,\n",
              "        -0.08006638, -0.4416331 ,  0.23047987, -0.03252012,  0.10577618,\n",
              "         0.0995334 ,  0.25431657, -0.11263326,  0.2380607 ,  0.1596669 ,\n",
              "         0.06826827,  0.54613924],\n",
              "       [ 0.31724018,  0.32508245,  0.32908458, -0.01750722,  0.2994979 ,\n",
              "         0.22853523, -0.13513216,  0.09629629, -0.16990103,  0.56170094,\n",
              "        -0.8920582 ,  0.6774513 , -1.1065643 ,  0.83794296, -0.23583755,\n",
              "         0.55243367, -0.53629434],\n",
              "       [ 0.27403557,  0.06918834,  0.3081694 ,  0.5687809 , -0.3407185 ,\n",
              "        -0.28701395, -0.24786246,  0.05757337,  0.23608798,  0.09154437,\n",
              "         0.0694661 , -0.5989702 ,  0.4869433 , -0.37927884,  0.07578272,\n",
              "         0.19878542,  0.0424925 ]], dtype=float32)>"
            ]
          },
          "metadata": {},
          "execution_count": 6
        }
      ]
    },
    {
      "cell_type": "code",
      "metadata": {
        "id": "TC5QJZ6nn4Kj"
      },
      "source": [
        ""
      ],
      "execution_count": null,
      "outputs": []
    }
  ]
}