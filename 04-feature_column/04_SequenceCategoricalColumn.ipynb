{
  "nbformat": 4,
  "nbformat_minor": 5,
  "metadata": {
    "kernelspec": {
      "display_name": "Python 3",
      "language": "python",
      "name": "python3"
    },
    "language_info": {
      "codemirror_mode": {
        "name": "ipython",
        "version": 3
      },
      "file_extension": ".py",
      "mimetype": "text/x-python",
      "name": "python",
      "nbconvert_exporter": "python",
      "pygments_lexer": "ipython3",
      "version": "3.8.3"
    },
    "colab": {
      "name": "04_SequenceCategoricalColumn.ipynb",
      "provenance": [],
      "collapsed_sections": [],
      "include_colab_link": true
    }
  },
  "cells": [
    {
      "cell_type": "markdown",
      "metadata": {
        "id": "view-in-github",
        "colab_type": "text"
      },
      "source": [
        "<a href=\"https://colab.research.google.com/github/Muzhi1920/awesome-models/blob/main/04-feature_column/04_SequenceCategoricalColumn.ipynb\" target=\"_parent\"><img src=\"https://colab.research.google.com/assets/colab-badge.svg\" alt=\"Open In Colab\"/></a>"
      ]
    },
    {
      "cell_type": "code",
      "metadata": {
        "id": "a4120848"
      },
      "source": [
        "import tensorflow as tf\n",
        "from tensorflow.python.ops import array_ops,math_ops,sparse_ops\n"
      ],
      "id": "a4120848",
      "execution_count": null,
      "outputs": []
    },
    {
      "cell_type": "code",
      "metadata": {
        "id": "a6200595"
      },
      "source": [
        "##解析该函数，这里将sequence_category_column适配于embedding_lookup，沿最后一维进行segment_pooling；实现输出为序列emb\n",
        "def _get_sparse_tensors_helper(self, sparse_tensors):\n",
        "    id_tensor = sparse_tensors.id_tensor\n",
        "    weight_tensor = sparse_tensors.weight_tensor\n",
        "    # Expands third dimension, if necessary so that embeddings are not\n",
        "    # combined during embedding lookup. If the tensor is already 3D, leave\n",
        "    # as-is.\n",
        "    shape = array_ops.shape(id_tensor)\n",
        "    # Compute the third dimension explicitly instead of setting it to -1, as\n",
        "    # that doesn't work for dynamically shaped tensors with 0-length at runtime.\n",
        "    # This happens for empty sequences.\n",
        "    target_shape = [shape[0], shape[1], math_ops.reduce_prod(shape[2:])]\n",
        "    id_tensor = sparse_ops.sparse_reshape(id_tensor, target_shape)\n",
        "    if weight_tensor is not None:\n",
        "      weight_tensor = sparse_ops.sparse_reshape(weight_tensor, target_shape)"
      ],
      "id": "a6200595",
      "execution_count": null,
      "outputs": []
    },
    {
      "cell_type": "code",
      "metadata": {
        "colab": {
          "base_uri": "https://localhost:8080/"
        },
        "id": "636a9d13",
        "outputId": "af8f5267-7799-49c1-e3dd-b9883026f8e5"
      },
      "source": [
        "id_tensor = tf.sparse.SparseTensor(indices=[[0,0],[0,1],[0,2],[1,0],[1,1],[2,0],[2,1],[3,0]],\n",
        "                                    values=[123,234,11,1245,124,2121,124,2121],\n",
        "                                    dense_shape=[4,3])\n",
        "id_tensor,tf.sparse.to_dense(id_tensor)"
      ],
      "id": "636a9d13",
      "execution_count": null,
      "outputs": [
        {
          "output_type": "execute_result",
          "data": {
            "text/plain": [
              "(<tensorflow.python.framework.sparse_tensor.SparseTensor at 0x7fe2e13cecd0>,\n",
              " <tf.Tensor: shape=(4, 3), dtype=int32, numpy=\n",
              " array([[ 123,  234,   11],\n",
              "        [1245,  124,    0],\n",
              "        [2121,  124,    0],\n",
              "        [2121,    0,    0]], dtype=int32)>)"
            ]
          },
          "metadata": {},
          "execution_count": 3
        }
      ]
    },
    {
      "cell_type": "code",
      "metadata": {
        "colab": {
          "base_uri": "https://localhost:8080/"
        },
        "id": "14fd8588",
        "outputId": "6e56bd8d-c0e5-4c9c-ad63-7a560421a8ce"
      },
      "source": [
        "shape = array_ops.shape(id_tensor)\n",
        "shape,shape[2:]"
      ],
      "id": "14fd8588",
      "execution_count": null,
      "outputs": [
        {
          "output_type": "execute_result",
          "data": {
            "text/plain": [
              "(<tf.Tensor: shape=(2,), dtype=int32, numpy=array([4, 3], dtype=int32)>,\n",
              " <tf.Tensor: shape=(0,), dtype=int32, numpy=array([], dtype=int32)>)"
            ]
          },
          "metadata": {},
          "execution_count": 4
        }
      ]
    },
    {
      "cell_type": "code",
      "metadata": {
        "colab": {
          "base_uri": "https://localhost:8080/"
        },
        "id": "55b8192c",
        "outputId": "4af4d706-d8ca-4bcb-9e68-a6e030280808"
      },
      "source": [
        "target_shape = [shape[0], shape[1], math_ops.reduce_prod(shape[2:])]\n",
        "target_shape"
      ],
      "id": "55b8192c",
      "execution_count": null,
      "outputs": [
        {
          "output_type": "execute_result",
          "data": {
            "text/plain": [
              "[<tf.Tensor: shape=(), dtype=int32, numpy=4>,\n",
              " <tf.Tensor: shape=(), dtype=int32, numpy=3>,\n",
              " <tf.Tensor: shape=(), dtype=int32, numpy=1>]"
            ]
          },
          "metadata": {},
          "execution_count": 5
        }
      ]
    },
    {
      "cell_type": "code",
      "metadata": {
        "colab": {
          "base_uri": "https://localhost:8080/"
        },
        "id": "b7cf5d65",
        "outputId": "26f03bd0-6682-426e-c4e2-35287c63cd7f"
      },
      "source": [
        "id_tensor =sparse_ops.sparse_reshape(id_tensor, target_shape)\n",
        "id_tensor,tf.sparse.to_dense(id_tensor)"
      ],
      "id": "b7cf5d65",
      "execution_count": null,
      "outputs": [
        {
          "output_type": "execute_result",
          "data": {
            "text/plain": [
              "(<tensorflow.python.framework.sparse_tensor.SparseTensor at 0x7fe2e1383a90>,\n",
              " <tf.Tensor: shape=(4, 3, 1), dtype=int32, numpy=\n",
              " array([[[ 123],\n",
              "         [ 234],\n",
              "         [  11]],\n",
              " \n",
              "        [[1245],\n",
              "         [ 124],\n",
              "         [   0]],\n",
              " \n",
              "        [[2121],\n",
              "         [ 124],\n",
              "         [   0]],\n",
              " \n",
              "        [[2121],\n",
              "         [   0],\n",
              "         [   0]]], dtype=int32)>)"
            ]
          },
          "metadata": {},
          "execution_count": 6
        }
      ]
    },
    {
      "cell_type": "code",
      "metadata": {
        "id": "54836163"
      },
      "source": [
        "\n",
        "    # Expands third dimension, if necessary so that embeddings are not\n",
        "    # combined during embedding lookup. If the tensor is already 3D, leave\n",
        "    # as-is.\n",
        "    # Compute the third dimension explicitly instead of setting it to -1, as\n",
        "    # that doesn't work for dynamically shaped tensors with 0-length at runtime.\n",
        "    # This happens for empty sequences.\n",
        "    \n",
        "    # if weight_tensor is not None:\n",
        "    #   weight_tensor = sparse_ops.sparse_reshape(weight_tensor, target_shape)"
      ],
      "id": "54836163",
      "execution_count": null,
      "outputs": []
    },
    {
      "cell_type": "code",
      "metadata": {
        "id": "1eb152dc"
      },
      "source": [
        ""
      ],
      "id": "1eb152dc",
      "execution_count": null,
      "outputs": []
    }
  ]
}