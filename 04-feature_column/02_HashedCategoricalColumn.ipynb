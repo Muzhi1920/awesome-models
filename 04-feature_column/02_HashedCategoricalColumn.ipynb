{
  "nbformat": 4,
  "nbformat_minor": 0,
  "metadata": {
    "kernelspec": {
      "name": "python3",
      "display_name": "Python 3"
    },
    "latex_envs": {
      "LaTeX_envs_menu_present": true,
      "autoclose": false,
      "autocomplete": true,
      "bibliofile": "biblio.bib",
      "cite_by": "apalike",
      "current_citInitial": 1,
      "eqLabelWithNumbers": true,
      "eqNumInitial": 1,
      "hotkeys": {
        "equation": "Ctrl-E",
        "itemize": "Ctrl-I"
      },
      "labels_anchors": false,
      "latex_user_defs": false,
      "report_style_numbering": false,
      "user_envs_cfg": false
    },
    "toc": {
      "base_numbering": 1,
      "nav_menu": {},
      "number_sections": true,
      "sideBar": true,
      "skip_h1_title": false,
      "title_cell": "Table of Contents",
      "title_sidebar": "Contents",
      "toc_cell": false,
      "toc_position": {
        "height": "calc(100% - 180px)",
        "left": "10px",
        "top": "150px",
        "width": "384px"
      },
      "toc_section_display": true,
      "toc_window_display": true
    },
    "varInspector": {
      "cols": {
        "lenName": 16,
        "lenType": 16,
        "lenVar": 40
      },
      "kernels_config": {
        "python": {
          "delete_cmd_postfix": "",
          "delete_cmd_prefix": "del ",
          "library": "var_list.py",
          "varRefreshCmd": "print(var_dic_list())"
        },
        "r": {
          "delete_cmd_postfix": ") ",
          "delete_cmd_prefix": "rm(",
          "library": "var_list.r",
          "varRefreshCmd": "cat(var_dic_list()) "
        }
      },
      "types_to_exclude": [
        "module",
        "function",
        "builtin_function_or_method",
        "instance",
        "_Feature"
      ],
      "window_display": false
    },
    "colab": {
      "name": "02_HashedCategoricalColumn.ipynb",
      "provenance": [],
      "collapsed_sections": [],
      "include_colab_link": true
    },
    "language_info": {
      "name": "python"
    },
    "accelerator": "TPU"
  },
  "cells": [
    {
      "cell_type": "markdown",
      "metadata": {
        "id": "view-in-github",
        "colab_type": "text"
      },
      "source": [
        "<a href=\"https://colab.research.google.com/github/Muzhi1920/awesome-models/blob/main/04-feature_column/02_HashedCategoricalColumn.ipynb\" target=\"_parent\"><img src=\"https://colab.research.google.com/assets/colab-badge.svg\" alt=\"Open In Colab\"/></a>"
      ]
    },
    {
      "cell_type": "code",
      "metadata": {
        "id": "5u2oiWmNqjP9"
      },
      "source": [
        "from tensorflow.python.ops import string_ops,sparse_ops,array_ops\n",
        "from tensorflow.python.framework import sparse_tensor as sparse_tensor_lib\n",
        "from tensorflow.python.feature_column.feature_column_v2 import _to_sparse_input_and_drop_ignore_values\n",
        "import tensorflow as tf"
      ],
      "execution_count": null,
      "outputs": []
    },
    {
      "cell_type": "markdown",
      "metadata": {
        "id": "w0Q8fKJkqjQB"
      },
      "source": [
        "# 构造SparseTensor\n",
        "Sparse特征，存储为SparseTensor。dense_shape保证batch_size固定，实际长度以当前batch为准。"
      ]
    },
    {
      "cell_type": "code",
      "metadata": {
        "scrolled": true,
        "colab": {
          "base_uri": "https://localhost:8080/"
        },
        "id": "6_crL-VXqjQD",
        "outputId": "5932d392-3ca6-4ab1-8b09-d0a6d32ee27a"
      },
      "source": [
        "sparse_tensors=sparse_tensor_lib.SparseTensor(indices=[[0,1],[0,2],[2,0],[2,1],[4,0]],values=[1919,2020,2121,3232,1818],dense_shape=[5,3])\n",
        "sparse_tensors.indices,sparse_tensors.values,sparse_tensors.dense_shape,tf.sparse.to_dense(sparse_tensors,-1)"
      ],
      "execution_count": null,
      "outputs": [
        {
          "output_type": "execute_result",
          "data": {
            "text/plain": [
              "(<tf.Tensor: shape=(5, 2), dtype=int64, numpy=\n",
              " array([[0, 1],\n",
              "        [0, 2],\n",
              "        [2, 0],\n",
              "        [2, 1],\n",
              "        [4, 0]])>,\n",
              " <tf.Tensor: shape=(5,), dtype=int32, numpy=array([1919, 2020, 2121, 3232, 1818], dtype=int32)>,\n",
              " <tf.Tensor: shape=(2,), dtype=int64, numpy=array([5, 3])>,\n",
              " <tf.Tensor: shape=(5, 3), dtype=int32, numpy=\n",
              " array([[  -1, 1919, 2020],\n",
              "        [  -1,   -1,   -1],\n",
              "        [2121, 3232,   -1],\n",
              "        [  -1,   -1,   -1],\n",
              "        [1818,   -1,   -1]], dtype=int32)>)"
            ]
          },
          "metadata": {},
          "execution_count": 2
        }
      ]
    },
    {
      "cell_type": "markdown",
      "metadata": {
        "id": "2g5JMKS3qjQE"
      },
      "source": [
        "# HashCategoryColumn"
      ]
    },
    {
      "cell_type": "markdown",
      "metadata": {
        "id": "jmmdrxNsqjQF"
      },
      "source": [
        "## 应用于LinearModel，Wide&Deep的wide部分实现\n",
        "sparse_combiner默认为'sum'，用以实现y = sigmoid(w \\*x + b)"
      ]
    },
    {
      "cell_type": "markdown",
      "metadata": {
        "id": "Oyu9dAUJqjQF"
      },
      "source": [
        "### wide部分处理离散特征"
      ]
    },
    {
      "cell_type": "markdown",
      "metadata": {
        "id": "c-8RoHXMqjQG"
      },
      "source": [
        "\\_create_weighted_sum\n",
        "\n",
        "离散特征对应的weights作为lookup_table的embedding_weights，查找到，即为w\\*x;\n",
        "$$y_d = \\sum _{i}^{F_d} w_i * x_i$$"
      ]
    },
    {
      "cell_type": "markdown",
      "metadata": {
        "id": "bgBVfm1QqjQG"
      },
      "source": [
        "#### 获取sparse_tensor"
      ]
    },
    {
      "cell_type": "code",
      "metadata": {
        "colab": {
          "base_uri": "https://localhost:8080/"
        },
        "id": "HHuCKFeHqjQH",
        "outputId": "8f51ae02-e0bf-48a3-86d2-26a940d872ff"
      },
      "source": [
        "# sparse_tensors = column.get_sparse_tensors(transformation_cache,state_manager)\n",
        "# 对id_tensor拍平\n",
        "# id_tensor = sparse_ops.sparse_reshape(sparse_tensors.id_tensor,\n",
        "#                                       [array_ops.shape(sparse_tensors.id_tensor)[0], -1])\n",
        "id_tensor = sparse_ops.sparse_reshape(sparse_tensors,\n",
        "                                      [array_ops.shape(sparse_tensors)[0], -1])\n",
        "id_tensor,tf.sparse.to_dense(id_tensor)"
      ],
      "execution_count": null,
      "outputs": [
        {
          "output_type": "execute_result",
          "data": {
            "text/plain": [
              "(<tensorflow.python.framework.sparse_tensor.SparseTensor at 0x7ff130011150>,\n",
              " <tf.Tensor: shape=(5, 3), dtype=int32, numpy=\n",
              " array([[   0, 1919, 2020],\n",
              "        [   0,    0,    0],\n",
              "        [2121, 3232,    0],\n",
              "        [   0,    0,    0],\n",
              "        [1818,    0,    0]], dtype=int32)>)"
            ]
          },
          "metadata": {},
          "execution_count": 3
        }
      ]
    },
    {
      "cell_type": "markdown",
      "metadata": {
        "id": "MJfroqEtqjQI"
      },
      "source": [
        "#### 对weight_tensor拍平"
      ]
    },
    {
      "cell_type": "code",
      "metadata": {
        "id": "PpzTgCEuqjQI"
      },
      "source": [
        "# weight_tensor = sparse_tensors.weight_tensor\n",
        "# if weight_tensor is not None:\n",
        "#     weight_tensor = sparse_ops.sparse_reshape(weight_tensor, [array_ops.shape(weight_tensor)[0], -1])"
      ],
      "execution_count": null,
      "outputs": []
    },
    {
      "cell_type": "markdown",
      "metadata": {
        "id": "wD_KOE_NqjQJ"
      },
      "source": [
        "#### 按照id_tensor 查找embedding"
      ]
    },
    {
      "cell_type": "code",
      "metadata": {
        "id": "HQGQLsv8qjQJ"
      },
      "source": [
        "# return embedding_ops.safe_embedding_lookup_sparse(\n",
        "#       weight_var,\n",
        "#       id_tensor,\n",
        "#       sparse_weights=weight_tensor,\n",
        "#       combiner=sparse_combiner,\n",
        "#       name='weighted_sum')"
      ],
      "execution_count": null,
      "outputs": []
    },
    {
      "cell_type": "markdown",
      "metadata": {
        "id": "t7il4FfcqjQJ"
      },
      "source": [
        "### wide部分处理dense特征"
      ]
    },
    {
      "cell_type": "markdown",
      "metadata": {
        "id": "OsDQ_oSXqjQK"
      },
      "source": [
        "稠密特征对应的weights需创建，调用get_dense_tensor相乘即可。\n",
        "$$y_s = \\sum _{i}^{F_s} w_i * x_i$$"
      ]
    },
    {
      "cell_type": "markdown",
      "metadata": {
        "id": "AJELxelaqjQK"
      },
      "source": [
        "#### 对feature_column获取dense_tensor"
      ]
    },
    {
      "cell_type": "code",
      "metadata": {
        "id": "UKlOSdYNqjQK"
      },
      "source": [
        "# tensor = column.get_dense_tensor(transformation_cache, state_manager)"
      ],
      "execution_count": null,
      "outputs": []
    },
    {
      "cell_type": "markdown",
      "metadata": {
        "id": "F5VD7MfhqjQK"
      },
      "source": [
        "#### 获取dense特征的shape=(1,)，batch_size"
      ]
    },
    {
      "cell_type": "code",
      "metadata": {
        "id": "iy3k-cGUqjQL"
      },
      "source": [
        "# num_elements = column.variable_shape.num_elements()\n",
        "# batch_size = array_ops.shape(tensor)[0]"
      ],
      "execution_count": null,
      "outputs": []
    },
    {
      "cell_type": "markdown",
      "metadata": {
        "id": "EaALanbaqjQL"
      },
      "source": [
        "#### 计算reshape和matmul"
      ]
    },
    {
      "cell_type": "code",
      "metadata": {
        "id": "jz1ugaUIqjQL"
      },
      "source": [
        "# tensor = array_ops.reshape(tensor, shape=(batch_size, num_elements))\n",
        "# return math_ops.matmul(tensor, weight_var, name='weighted_sum')"
      ],
      "execution_count": null,
      "outputs": []
    },
    {
      "cell_type": "markdown",
      "metadata": {
        "id": "lSIrZGBlqjQL"
      },
      "source": [
        "#### 结论\n",
        "1. 对离散特征进行embeddings，lookup，实际查询的对应的weights，而非emb；\n",
        "2. 对dense特征乘以对应weights即可。\n",
        "3. 再weight_sum即可\n",
        "$$y = y_d + y_s$$"
      ]
    },
    {
      "cell_type": "markdown",
      "metadata": {
        "id": "sB1e28hgqjQM"
      },
      "source": [
        "## 应用于LinearModel，Wide&Deep的deep部分实现"
      ]
    },
    {
      "cell_type": "markdown",
      "metadata": {
        "id": "G1HxmxlyqjQM"
      },
      "source": [
        "### get_sparse_tensors\n",
        "get_sparse_tensors 返回 'IdWeightPair'：('id_tensor', 'weight_tensor')\n",
        "1. id_tensor是维度为[batch_size, bkts]的SparseTensor；\n",
        "2. weight_tensor是同型的SparseTensor；若`None`则默认权重为1"
      ]
    },
    {
      "cell_type": "code",
      "metadata": {
        "colab": {
          "base_uri": "https://localhost:8080/"
        },
        "id": "GllFR0pDqjQM",
        "outputId": "69cfd012-12b6-42d3-f5b5-7418fe2c1b8a"
      },
      "source": [
        "sparse_tensors=sparse_tensor_lib.SparseTensor(indices=[[0,1],[0,2],[2,0],[2,1],[4,0]],values=[1919,2020,2121,3232,1818],dense_shape=[5,3])\n",
        "sparse_tensors.indices,sparse_tensors.values,sparse_tensors.dense_shape,tf.sparse.to_dense(sparse_tensors,-1)"
      ],
      "execution_count": null,
      "outputs": [
        {
          "output_type": "execute_result",
          "data": {
            "text/plain": [
              "(<tf.Tensor: shape=(5, 2), dtype=int64, numpy=\n",
              " array([[0, 1],\n",
              "        [0, 2],\n",
              "        [2, 0],\n",
              "        [2, 1],\n",
              "        [4, 0]])>,\n",
              " <tf.Tensor: shape=(5,), dtype=int32, numpy=array([1919, 2020, 2121, 3232, 1818], dtype=int32)>,\n",
              " <tf.Tensor: shape=(2,), dtype=int64, numpy=array([5, 3])>,\n",
              " <tf.Tensor: shape=(5, 3), dtype=int32, numpy=\n",
              " array([[  -1, 1919, 2020],\n",
              "        [  -1,   -1,   -1],\n",
              "        [2121, 3232,   -1],\n",
              "        [  -1,   -1,   -1],\n",
              "        [1818,   -1,   -1]], dtype=int32)>)"
            ]
          },
          "metadata": {},
          "execution_count": 9
        }
      ]
    },
    {
      "cell_type": "markdown",
      "metadata": {
        "id": "VHUJpKsRqjQM"
      },
      "source": [
        "### transform_feature"
      ]
    },
    {
      "cell_type": "code",
      "metadata": {
        "colab": {
          "base_uri": "https://localhost:8080/"
        },
        "id": "d8gXuiaKqjQN",
        "outputId": "fd1ca9a1-28e4-4224-b713-a71fa465b5cd"
      },
      "source": [
        "# 如果是SparseTensor，直接返回，不进行操作。\n",
        "aa = _to_sparse_input_and_drop_ignore_values(sparse_tensors)\n",
        "aa.indices,aa.values,aa.dense_shape"
      ],
      "execution_count": null,
      "outputs": [
        {
          "output_type": "execute_result",
          "data": {
            "text/plain": [
              "(<tf.Tensor: shape=(5, 2), dtype=int64, numpy=\n",
              " array([[0, 1],\n",
              "        [0, 2],\n",
              "        [2, 0],\n",
              "        [2, 1],\n",
              "        [4, 0]])>,\n",
              " <tf.Tensor: shape=(5,), dtype=int32, numpy=array([1919, 2020, 2121, 3232, 1818], dtype=int32)>,\n",
              " <tf.Tensor: shape=(2,), dtype=int64, numpy=array([5, 3])>)"
            ]
          },
          "metadata": {},
          "execution_count": 10
        }
      ]
    },
    {
      "cell_type": "markdown",
      "metadata": {
        "id": "4BJZ6vOnqjQN"
      },
      "source": [
        "1. 如果是Tensor，int型空值由`-1`替代，str型由''代替；转SparseTensor后，置空，但不改变batch_size;\n",
        "2. str直接hash；int需转str再hash。"
      ]
    },
    {
      "cell_type": "code",
      "metadata": {
        "colab": {
          "base_uri": "https://localhost:8080/"
        },
        "id": "M8x1VxEsqjQN",
        "outputId": "66691859-3e8a-44bd-e28a-b011e023f5db"
      },
      "source": [
        "# Hash(str)\n",
        "hash_values = string_ops.string_to_hash_bucket_fast(string_ops.as_string(aa.values), 12, name='hash_sparse')\n",
        "hash_values"
      ],
      "execution_count": null,
      "outputs": [
        {
          "output_type": "execute_result",
          "data": {
            "text/plain": [
              "<tf.Tensor: shape=(5,), dtype=int64, numpy=array([6, 9, 0, 4, 9])>"
            ]
          },
          "metadata": {},
          "execution_count": 11
        }
      ]
    },
    {
      "cell_type": "code",
      "metadata": {
        "colab": {
          "base_uri": "https://localhost:8080/"
        },
        "id": "6Q6x3WsyqjQN",
        "outputId": "691e4bb6-c480-4a07-c5a9-f5f8dfdbcf0e"
      },
      "source": [
        "# 重新构造该SparseTensor，相当于raw sp只是替换了values，返回！\n",
        "aaa = sparse_tensor_lib.SparseTensor(aa.indices, hash_values, aa.dense_shape)\n",
        "aaa.indices,aaa.values,aaa.dense_shape"
      ],
      "execution_count": null,
      "outputs": [
        {
          "output_type": "execute_result",
          "data": {
            "text/plain": [
              "(<tf.Tensor: shape=(5, 2), dtype=int64, numpy=\n",
              " array([[0, 1],\n",
              "        [0, 2],\n",
              "        [2, 0],\n",
              "        [2, 1],\n",
              "        [4, 0]])>,\n",
              " <tf.Tensor: shape=(5,), dtype=int64, numpy=array([6, 9, 0, 4, 9])>,\n",
              " <tf.Tensor: shape=(2,), dtype=int64, numpy=array([5, 3])>)"
            ]
          },
          "metadata": {},
          "execution_count": 12
        }
      ]
    },
    {
      "cell_type": "markdown",
      "metadata": {
        "id": "9YHd-F00qjQO"
      },
      "source": [
        "### EmbeddingColumn\n",
        "按照bkts构建embedding_weights，然后按照hash后的int64进行embedding_lookup"
      ]
    },
    {
      "cell_type": "markdown",
      "metadata": {
        "id": "-s_Dx2g3qjQO"
      },
      "source": [
        "# HashCategoryColumn总结\n",
        "1. 对所有Tensor类型，转SparseTensor；\n",
        "2. 对str或int进行hash；\n",
        "3. 构造相同SparseTensor返回。"
      ]
    },
    {
      "cell_type": "markdown",
      "metadata": {
        "id": "m8HpPA_ZqjQO"
      },
      "source": [
        "## 应用"
      ]
    },
    {
      "cell_type": "markdown",
      "metadata": {
        "id": "BPR-iP93qjQO"
      },
      "source": [
        "1. 应用到wide部分：进行embedding_lookup，查找单个id对应的weights，相乘作为该featureField的weighted_sum；\n",
        "2. 应用到deep部分：进行embedding_lookip，查找单个id对应的emb，聚合后作为该特征域的emb返回。\n",
        "\n",
        "## 线下训练与线上serving\n",
        "问题：离线训练shuffle，全部用户，样本；线上serving，单个用户请求处理，batch_size为候选集feed_id个数。"
      ]
    },
    {
      "cell_type": "code",
      "metadata": {
        "id": "r98nf99oqjQO"
      },
      "source": [
        ""
      ],
      "execution_count": null,
      "outputs": []
    }
  ]
}