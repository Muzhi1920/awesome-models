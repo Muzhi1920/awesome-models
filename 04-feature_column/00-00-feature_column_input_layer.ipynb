{
 "nbformat": 4,
 "nbformat_minor": 0,
 "metadata": {
  "kernelspec": {
   "display_name": "Python 3",
   "language": "python",
   "name": "python3"
  },
  "language_info": {
   "codemirror_mode": {
    "name": "ipython",
    "version": 3
   },
   "file_extension": ".py",
   "mimetype": "text/x-python",
   "name": "python",
   "nbconvert_exporter": "python",
   "pygments_lexer": "ipython3",
   "version": "3.8.3"
  },
  "latex_envs": {
   "LaTeX_envs_menu_present": true,
   "autoclose": false,
   "autocomplete": true,
   "bibliofile": "biblio.bib",
   "cite_by": "apalike",
   "current_citInitial": 1,
   "eqLabelWithNumbers": true,
   "eqNumInitial": 1,
   "hotkeys": {
    "equation": "Ctrl-E",
    "itemize": "Ctrl-I"
   },
   "labels_anchors": false,
   "latex_user_defs": false,
   "report_style_numbering": false,
   "user_envs_cfg": false
  },
  "toc": {
   "base_numbering": 1,
   "nav_menu": {},
   "number_sections": true,
   "sideBar": true,
   "skip_h1_title": false,
   "title_cell": "Table of Contents",
   "title_sidebar": "Contents",
   "toc_cell": false,
   "toc_position": {
    "height": "calc(100% - 180px)",
    "left": "10px",
    "top": "150px",
    "width": "223px"
   },
   "toc_section_display": true,
   "toc_window_display": true
  },
  "varInspector": {
   "cols": {
    "lenName": 16,
    "lenType": 16,
    "lenVar": 40
   },
   "kernels_config": {
    "python": {
     "delete_cmd_postfix": "",
     "delete_cmd_prefix": "del ",
     "library": "var_list.py",
     "varRefreshCmd": "print(var_dic_list())"
    },
    "r": {
     "delete_cmd_postfix": ") ",
     "delete_cmd_prefix": "rm(",
     "library": "var_list.r",
     "varRefreshCmd": "cat(var_dic_list()) "
    }
   },
   "types_to_exclude": [
    "module",
    "function",
    "builtin_function_or_method",
    "instance",
    "_Feature"
   ],
   "window_display": false
  },
  "colab": {
   "name": "00-00-feature_column&input_layer.ipynb",
   "provenance": [],
   "collapsed_sections": []
  }
 },
 "cells": [
  {
   "cell_type": "code",
   "metadata": {
    "id": "nU17tnoCn70e",
    "executionInfo": {
     "status": "ok",
     "timestamp": 1636527251598,
     "user_tz": -480,
     "elapsed": 2792,
     "user": {
      "displayName": "于印霄",
      "photoUrl": "https://lh3.googleusercontent.com/a-/AOh14GhpVABOiHAVZoTKCbmgFadD0IEDNAgt6qrk6rQQ=s64",
      "userId": "12984923686518792253"
     }
    }
   },
   "source": [
    "import tensorflow as tf"
   ],
   "execution_count": 1,
   "outputs": []
  },
  {
   "cell_type": "markdown",
   "metadata": {
    "id": "T-yX855Cn70i"
   },
   "source": [
    "# 样本读取与特征输入\n",
    "样本特征值 -> 特征名 -> 特征值的真实值表示\n",
    "\n",
    "\n",
    "## Data Processing\n",
    "1. 样本特征值 -> 特征名 \n",
    "\n",
    "input_fn：特征值serialized(protos) + 特征名(features)；按照特征名与input feature解析为dict{feature_name:Tensor/SparseTensor}。\n",
    "\n",
    "2. 特征名 -> 特征值的真实值表示\n",
    "feature_column：得到特征最终的真实表示(类别特征可训练)，\n",
    "\n",
    "## Input Layer\n",
    "InputLayer = DenseFeatures(feature_column)：feature_column按照feature_name从feature_dict取值，喂入feature_column得到进模型后的真实表示\n"
   ]
  },
  {
   "cell_type": "markdown",
   "metadata": {
    "id": "kirSBzxan70j"
   },
   "source": [
    "# 解析tf_record\n",
    "将serialized的tf_record样本，**按照features指定的`xxFeature`映射**，解析为对应的Tensor或者SparseTensor\n",
    "```python\n",
    "feature_dict = tf.io.parse_example(proto, features)\n",
    "## 格式如下\n",
    "feature_dict['playtime'] = Tensor对象;\n",
    "feature_dict['featureField'] = SparseTensor(index_key)\n",
    "```"
   ]
  },
  {
   "cell_type": "markdown",
   "metadata": {
    "id": "NfrA-xqAn70k"
   },
   "source": [
    "## serialized/protos样式\n",
    "```python\n",
    "proto = serialized = [\n",
    "  features\n",
    "    { feature { key: \"key\" value { float_list { value: [1.0, 2.0] } } } },\n",
    "  features\n",
    "    { feature []}]\n",
    "```\n",
    "```python\n",
    "## check tf_record\n",
    "with open(\"features.json\",'w') as f:\n",
    "    for serialized_example in tf.compat.v1.python_io.tf_record_iterator(unzip_file):\n",
    "        example.ParseFromString(serialized_example)\n",
    "        f.write(MessageToJson(example))\n",
    "        try:\n",
    "            print(eval(MessageToJson(example))['features']['feature']['playtime'])\n",
    "            break\n",
    "        except:\n",
    "            print('loss')\n",
    "```"
   ]
  },
  {
   "cell_type": "markdown",
   "metadata": {
    "id": "cRQDeHuOn70l"
   },
   "source": [
    "## features样式\n",
    "features为提前定义好的(dict)解析为{feature_name:feature_config}；value具体是指该特征为VarLenFeature，SparseFeature，FixedLenFeature，FixedLenSequenceFeature，RaggedFeature\n",
    "```python\n",
    "# 按照自定义特征key，构造特征dict结构\n",
    "features={\n",
    "    ## featureFieldxx 变长特征 ——> 均为tf.int64类型\n",
    "    ## densexxxx 定长特征 ——> 均为tf.float32类型\n",
    "    'dense3442':tf.io.FixedLenFeature((), tf.float32, 0.0),\n",
    "    't_rseat_list': tf.io.VarLenFeature(tf.string),\n",
    "    'featureField28': tf.io.VarLenFeature(tf.int64)\n",
    "}\n",
    "```"
   ]
  },
  {
   "cell_type": "markdown",
   "metadata": {
    "id": "xmZWR7Ekn70l"
   },
   "source": [
    "### FixedLenFeature\n",
    "#### 定长单值类型-Tensor\n",
    "空值设置缺省，配置定长\n",
    "```python\n",
    "  [\n",
    "    features {\n",
    "      feature { key: \"age\" value { int64_list { value: [ 0 ] } } }\n",
    "      feature { key: \"gender\" value { bytes_list { value: [ \"f\" ] } } }\n",
    "     },\n",
    "     features {\n",
    "      feature { key: \"age\" value { int64_list { value: [] } } }\n",
    "      feature { key: \"gender\" value { bytes_list { value: [ \"f\" ] } } }\n",
    "    }]\n",
    "  ```\n",
    "```python\n",
    "  features: {\n",
    "      \"age\": FixedLenFeature([], dtype=tf.int64, default_value=-1),\n",
    "      \"gender\": FixedLenFeature([], dtype=tf.string),\n",
    "  }\n",
    "  ```\n",
    "  And the expected output is:Tensor\n",
    "  ```python\n",
    "  {\n",
    "    \"age\": [[0], [-1]],\n",
    "    \"gender\": [[\"f\"], [\"f\"]],\n",
    "  }\n",
    "```"
   ]
  },
  {
   "cell_type": "markdown",
   "metadata": {
    "id": "MQOz85Brn70m"
   },
   "source": [
    "### VarLenFeature\n",
    "#### 变长特征-SparseTensor\n",
    "按照indices填充values，\n",
    "```python\n",
    "  [\n",
    "    features {\n",
    "      feature { key: \"kw\" value { bytes_list { value: [ \"knit\", \"big\" ] } } }\n",
    "      feature { key: \"gps\" value { float_list { value: [] } } }\n",
    "    },\n",
    "    features {\n",
    "      feature { key: \"kw\" value { bytes_list { value: [ \"emmy\" ] } } }\n",
    "      feature { key: \"dank\" value { int64_list { value: [ 42 ] } } }\n",
    "      feature { key: \"gps\" value { } }\n",
    "    }\n",
    "  ]\n",
    "  ```\n",
    "  And arguments\n",
    "  ```python\n",
    "  example_names: [\"input0\", \"input1\"],\n",
    "  features: {\n",
    "      \"kw\": VarLenFeature(tf.string),\n",
    "      \"dank\": VarLenFeature(tf.int64),\n",
    "      \"gps\": VarLenFeature(tf.float32),\n",
    "  }\n",
    "  ```\n",
    "  Then the output is a dictionary:SparseTensor\n",
    "  ```python\n",
    "  {\n",
    "    \"kw\": SparseTensor(\n",
    "        indices=[[0, 0], [0, 1], [1, 0]],\n",
    "        values=[\"knit\", \"big\", \"emmy\"]\n",
    "        dense_shape=[2, 2]),\n",
    "    \"dank\": SparseTensor(\n",
    "        indices=[[1, 0]],\n",
    "        values=[42],\n",
    "        dense_shape=[2, 1]),\n",
    "    \"gps\": SparseTensor(\n",
    "        indices=[],\n",
    "        values=[],\n",
    "        dense_shape=[2, 0]),\n",
    "  }\n",
    "kw:[['knit','big'], # example_1\n",
    "    ['emmy',  x  ]] # example_2\n",
    "dank:[[x ], # example_1\n",
    "      [42]] # example_2\n",
    "gps:[[x], # example_1\n",
    "     [x]] # example_2\n",
    "```"
   ]
  },
  {
   "cell_type": "markdown",
   "metadata": {
    "id": "qM2Q45KEn70n"
   },
   "source": [
    "### SparseFeature\n",
    "```python\n",
    "  [\n",
    "    features {\n",
    "      feature { key: \"val\" value { float_list { value: [ 0.5, -1.0 ] } } }\n",
    "      feature { key: \"ix\" value { int64_list { value: [ 3, 20 ] } } }\n",
    "    },\n",
    "    features {\n",
    "      feature { key: \"val\" value { float_list { value: [ 0.0 ] } } }\n",
    "      feature { key: \"ix\" value { int64_list { value: [ 42 ] } } }\n",
    "    }]\n",
    "  ```\n",
    "And arguments\n",
    "```python\n",
    "  example_names: [\"input0\", \"input1\"],\n",
    "  features: {\n",
    "      \"sparse\": SparseFeature(index_key=\"ix\", value_key=\"val\", dtype=tf.float32, size=100),\n",
    "  }\n",
    "  ```\n",
    "  Then the output is a dictionary:\n",
    "  ```python\n",
    "  {\n",
    "    \"sparse\": SparseTensor(\n",
    "        indices=[[0, 3], [0, 20], [1, 42]],\n",
    "        values=[0.5, -1.0, 0.0]\n",
    "        dense_shape=[2, 100]),\n",
    "  }\n",
    "  ```"
   ]
  },
  {
   "cell_type": "markdown",
   "metadata": {
    "id": "t4RSXBS5n70o"
   },
   "source": [
    "### FixedLenSequenceFeature\n",
    "定长序列特征：FixedLenSequenceFeature，[batch_size,max_length]\n",
    "```python\n",
    "output：{\"ft\": [[1.0, 2.0], [3.0, -1.0]]}\n",
    "```\n",
    "\n",
    "\n",
    "### RaggedFeature"
   ]
  },
  {
   "cell_type": "markdown",
   "metadata": {
    "id": "5nwSkA18n70o"
   },
   "source": [
    "# 配置FeatureColumn\n",
    "feature_column输入：feature_name作为key，生成各特征对应的feature_column，不同的route到wide和deep部分。\n",
    "\n",
    "类组织关系：\n",
    "1. FeatureColumn -> DenseColumn,CategoricalColumn,SequenceDenseColumn\n",
    "\n",
    "1.1 DenseColumn -> NumericColumn, BucketizedColumn, EmbeddingColumn, IndicatorColumn\n",
    "\n",
    "1.2 CategoricalColumn -> HashedCategoricalColumn, WeightedCategoricalColumn, CrossedColumn\n"
   ]
  },
  {
   "cell_type": "markdown",
   "metadata": {
    "id": "uhqv-mwUn70o"
   },
   "source": [
    "## dense_feature"
   ]
  },
  {
   "cell_type": "markdown",
   "metadata": {
    "id": "jmQkzSE1n70p"
   },
   "source": [
    "### numeric_column\n",
    "Represents real valued or numerical features"
   ]
  },
  {
   "cell_type": "code",
   "metadata": {
    "colab": {
     "base_uri": "https://localhost:8080/"
    },
    "id": "I-lMpcDWn70p",
    "executionInfo": {
     "status": "ok",
     "timestamp": 1636527288246,
     "user_tz": -480,
     "elapsed": 505,
     "user": {
      "displayName": "于印霄",
      "photoUrl": "https://lh3.googleusercontent.com/a-/AOh14GhpVABOiHAVZoTKCbmgFadD0IEDNAgt6qrk6rQQ=s64",
      "userId": "12984923686518792253"
     }
    },
    "outputId": "a3e9b0f8-b5f6-44ad-c157-c40e2f93a3f2"
   },
   "source": [
    "num_col = tf.feature_column.numeric_column(key='num_1',shape=(1,),default_value=None,dtype=tf.float32,normalizer_fn=None)\n",
    "num_col"
   ],
   "execution_count": 2,
   "outputs": [
    {
     "output_type": "execute_result",
     "data": {
      "text/plain": [
       "NumericColumn(key='num_1', shape=(1,), default_value=None, dtype=tf.float32, normalizer_fn=None)"
      ]
     },
     "metadata": {},
     "execution_count": 2
    }
   ]
  },
  {
   "cell_type": "markdown",
   "metadata": {
    "id": "WZ6DVnnyn70q"
   },
   "source": [
    "## sparse_feature"
   ]
  },
  {
   "cell_type": "markdown",
   "metadata": {
    "id": "Napkr3dsn70q"
   },
   "source": [
    "### bucketized_column\n",
    "Represents discretized dense input bucketed by `boundaries`.\n",
    "dense->bkt->sparse"
   ]
  },
  {
   "cell_type": "code",
   "metadata": {
    "colab": {
     "base_uri": "https://localhost:8080/"
    },
    "id": "mEm--PZwn70q",
    "executionInfo": {
     "status": "ok",
     "timestamp": 1636527292106,
     "user_tz": -480,
     "elapsed": 446,
     "user": {
      "displayName": "于印霄",
      "photoUrl": "https://lh3.googleusercontent.com/a-/AOh14GhpVABOiHAVZoTKCbmgFadD0IEDNAgt6qrk6rQQ=s64",
      "userId": "12984923686518792253"
     }
    },
    "outputId": "4cb2132d-aad7-4c04-bb45-20a79709dd0c"
   },
   "source": [
    "bkt_col = tf.feature_column.bucketized_column(source_column=num_col, boundaries=list(range(4)))\n",
    "bkt_col"
   ],
   "execution_count": 3,
   "outputs": [
    {
     "output_type": "execute_result",
     "data": {
      "text/plain": [
       "BucketizedColumn(source_column=NumericColumn(key='num_1', shape=(1,), default_value=None, dtype=tf.float32, normalizer_fn=None), boundaries=(0, 1, 2, 3))"
      ]
     },
     "metadata": {},
     "execution_count": 3
    }
   ]
  },
  {
   "cell_type": "markdown",
   "metadata": {
    "id": "tVld3IQVn70r"
   },
   "source": [
    "### categorical_column_with_hash_bucket\n",
    "Represents sparse feature where ids are set by hashing"
   ]
  },
  {
   "cell_type": "code",
   "metadata": {
    "colab": {
     "base_uri": "https://localhost:8080/"
    },
    "id": "y0XpwDy-n70r",
    "executionInfo": {
     "status": "ok",
     "timestamp": 1636527303537,
     "user_tz": -480,
     "elapsed": 318,
     "user": {
      "displayName": "于印霄",
      "photoUrl": "https://lh3.googleusercontent.com/a-/AOh14GhpVABOiHAVZoTKCbmgFadD0IEDNAgt6qrk6rQQ=s64",
      "userId": "12984923686518792253"
     }
    },
    "outputId": "835f5b71-61d7-4184-9f21-d526546f80c4"
   },
   "source": [
    "categorical_hash_bkt = tf.feature_column.categorical_column_with_hash_bucket(key='cate_bkt_1',hash_bucket_size=4, dtype=tf.int64)\n",
    "categorical_hash_bkt"
   ],
   "execution_count": 4,
   "outputs": [
    {
     "output_type": "execute_result",
     "data": {
      "text/plain": [
       "HashedCategoricalColumn(key='cate_bkt_1', hash_bucket_size=4, dtype=tf.int64)"
      ]
     },
     "metadata": {},
     "execution_count": 4
    }
   ]
  },
  {
   "cell_type": "markdown",
   "metadata": {
    "id": "WvXZxI6in70r"
   },
   "source": [
    "### crossed_column\n",
    "Returns a column for performing crosses of categorical features"
   ]
  },
  {
   "cell_type": "code",
   "metadata": {
    "colab": {
     "base_uri": "https://localhost:8080/"
    },
    "id": "iu_ZlqiVn70r",
    "executionInfo": {
     "status": "ok",
     "timestamp": 1636527307256,
     "user_tz": -480,
     "elapsed": 326,
     "user": {
      "displayName": "于印霄",
      "photoUrl": "https://lh3.googleusercontent.com/a-/AOh14GhpVABOiHAVZoTKCbmgFadD0IEDNAgt6qrk6rQQ=s64",
      "userId": "12984923686518792253"
     }
    },
    "outputId": "895591dc-4452-4943-9568-3f7ddc7b520a"
   },
   "source": [
    "crossed_col = tf.feature_column.crossed_column(keys=['t1','t2'], hash_bucket_size=8, hash_key=None)\n",
    "crossed_col"
   ],
   "execution_count": 5,
   "outputs": [
    {
     "output_type": "execute_result",
     "data": {
      "text/plain": [
       "CrossedColumn(keys=('t1', 't2'), hash_bucket_size=8, hash_key=None)"
      ]
     },
     "metadata": {},
     "execution_count": 5
    }
   ]
  },
  {
   "cell_type": "markdown",
   "metadata": {
    "id": "Eylhwk4Fn70s"
   },
   "source": [
    "## transform 2 emb"
   ]
  },
  {
   "cell_type": "markdown",
   "metadata": {
    "id": "jjCrdhgon70s"
   },
   "source": [
    "### embedding_column\n",
    "**DenseColumn** that converts from sparse, categorical input."
   ]
  },
  {
   "cell_type": "code",
   "metadata": {
    "colab": {
     "base_uri": "https://localhost:8080/"
    },
    "id": "ixpCk8MJn70s",
    "executionInfo": {
     "status": "ok",
     "timestamp": 1636527311315,
     "user_tz": -480,
     "elapsed": 306,
     "user": {
      "displayName": "于印霄",
      "photoUrl": "https://lh3.googleusercontent.com/a-/AOh14GhpVABOiHAVZoTKCbmgFadD0IEDNAgt6qrk6rQQ=s64",
      "userId": "12984923686518792253"
     }
    },
    "outputId": "eb55d5cf-ee72-40a9-d88b-7af08167f884"
   },
   "source": [
    "emb = tf.feature_column.embedding_column(\n",
    "    categorical_column=crossed_col,\n",
    "    dimension = 8,combiner='mean',\n",
    "    initializer=None,ckpt_to_load_from=None,tensor_name_in_ckpt=None,max_norm=None,trainable=True,use_safe_embedding_lookup=True)\n",
    "emb"
   ],
   "execution_count": 6,
   "outputs": [
    {
     "output_type": "execute_result",
     "data": {
      "text/plain": [
       "EmbeddingColumn(categorical_column=CrossedColumn(keys=('t1', 't2'), hash_bucket_size=8, hash_key=None), dimension=8, combiner='mean', initializer=<tensorflow.python.ops.init_ops.TruncatedNormal object at 0x7f2f39d52410>, ckpt_to_load_from=None, tensor_name_in_ckpt=None, max_norm=None, trainable=True, use_safe_embedding_lookup=True)"
      ]
     },
     "metadata": {},
     "execution_count": 6
    }
   ]
  },
  {
   "cell_type": "markdown",
   "metadata": {
    "id": "Zogns2BZn70s"
   },
   "source": [
    "### shared_embedding_columns_v2\n",
    "List of dense columns that convert from sparse, categorical input."
   ]
  },
  {
   "cell_type": "code",
   "metadata": {
    "id": "cgrJtY43n70s"
   },
   "source": [
    "# tf.compat.v1.disable_v2_behavior()\n",
    "# shared_list =tf.feature_column.shared_embeddings(\n",
    "#     categorical_columns=[categorical_hash_bkt], dimension=8, combiner='sqrtn',\n",
    "#     initializer=tf.keras.initializers.VarianceScaling(distribution='uniform')\n",
    "# )\n",
    "# shared_list"
   ],
   "execution_count": null,
   "outputs": []
  },
  {
   "cell_type": "markdown",
   "metadata": {
    "id": "dVBeWQsbn70t"
   },
   "source": [
    "# Deep部分的InputLayer\n",
    "## 测试Tensor/SparseTensor输入\n",
    "基于`feature_columns` 生成 `dense Tensor`；作为模型的第一层，input_layer"
   ]
  },
  {
   "cell_type": "code",
   "metadata": {
    "colab": {
     "base_uri": "https://localhost:8080/"
    },
    "id": "-zKibplPn70t",
    "executionInfo": {
     "status": "ok",
     "timestamp": 1636527317395,
     "user_tz": -480,
     "elapsed": 314,
     "user": {
      "displayName": "于印霄",
      "photoUrl": "https://lh3.googleusercontent.com/a-/AOh14GhpVABOiHAVZoTKCbmgFadD0IEDNAgt6qrk6rQQ=s64",
      "userId": "12984923686518792253"
     }
    },
    "outputId": "abe45e5d-9e6f-41b7-97ee-8998d8fd85ef"
   },
   "source": [
    "# 序列id，不足长度，引擎发送-1，保证维度一致；-1 has a special meaning of missing feature\n",
    "features ={\n",
    "    'num_1':tf.constant([[0.1],[0.2],[0.3]]), # numerical column\n",
    "    't1': tf.constant([[1000,-1,-1], [-1,1002,-1],[1000,1002,-1]]), # sparse tensor\n",
    "    't2': tf.constant([[2],[-1],[3]]) # sparse tensor\n",
    "}\n",
    "features"
   ],
   "execution_count": 7,
   "outputs": [
    {
     "output_type": "execute_result",
     "data": {
      "text/plain": [
       "{'num_1': <tf.Tensor: shape=(3, 1), dtype=float32, numpy=\n",
       " array([[0.1],\n",
       "        [0.2],\n",
       "        [0.3]], dtype=float32)>,\n",
       " 't1': <tf.Tensor: shape=(3, 3), dtype=int32, numpy=\n",
       " array([[1000,   -1,   -1],\n",
       "        [  -1, 1002,   -1],\n",
       "        [1000, 1002,   -1]], dtype=int32)>,\n",
       " 't2': <tf.Tensor: shape=(3, 1), dtype=int32, numpy=\n",
       " array([[ 2],\n",
       "        [-1],\n",
       "        [ 3]], dtype=int32)>}"
      ]
     },
     "metadata": {},
     "execution_count": 7
    }
   ]
  },
  {
   "cell_type": "code",
   "metadata": {
    "colab": {
     "base_uri": "https://localhost:8080/"
    },
    "id": "9qpHMdf9n70t",
    "executionInfo": {
     "status": "ok",
     "timestamp": 1636527320689,
     "user_tz": -480,
     "elapsed": 4,
     "user": {
      "displayName": "于印霄",
      "photoUrl": "https://lh3.googleusercontent.com/a-/AOh14GhpVABOiHAVZoTKCbmgFadD0IEDNAgt6qrk6rQQ=s64",
      "userId": "12984923686518792253"
     }
    },
    "outputId": "7f394bc4-8ad3-4661-c504-db86fa8c0990"
   },
   "source": [
    "input_layer = tf.compat.v1.keras.layers.DenseFeatures([num_col,emb])\n",
    "input_layer"
   ],
   "execution_count": 8,
   "outputs": [
    {
     "output_type": "execute_result",
     "data": {
      "text/plain": [
       "<keras.feature_column.dense_features.DenseFeatures at 0x7f2f39d37a10>"
      ]
     },
     "metadata": {},
     "execution_count": 8
    }
   ]
  },
  {
   "cell_type": "code",
   "metadata": {
    "colab": {
     "base_uri": "https://localhost:8080/"
    },
    "id": "Jzu_RKMxn70u",
    "executionInfo": {
     "status": "ok",
     "timestamp": 1636527323055,
     "user_tz": -480,
     "elapsed": 303,
     "user": {
      "displayName": "于印霄",
      "photoUrl": "https://lh3.googleusercontent.com/a-/AOh14GhpVABOiHAVZoTKCbmgFadD0IEDNAgt6qrk6rQQ=s64",
      "userId": "12984923686518792253"
     }
    },
    "outputId": "013737a2-5449-4362-d055-ebd4e53c98f1"
   },
   "source": [
    "net = input_layer(features, training=True)\n",
    "net"
   ],
   "execution_count": 9,
   "outputs": [
    {
     "output_type": "execute_result",
     "data": {
      "text/plain": [
       "<tf.Tensor: shape=(3, 9), dtype=float32, numpy=\n",
       "array([[ 0.1       , -0.16142218, -0.39117107,  0.29652628,  0.2053033 ,\n",
       "         0.37033555, -0.21723793,  0.19645822,  0.31968176],\n",
       "       [ 0.2       ,  0.01981424, -0.23201554,  0.27135864,  0.2385637 ,\n",
       "         0.45666438, -0.25182116, -0.37126732,  0.3487841 ],\n",
       "       [ 0.3       ,  0.16646463,  0.44881603, -0.36725768,  0.14276004,\n",
       "        -0.25586963, -0.15189463, -0.11481848,  0.34413606]],\n",
       "      dtype=float32)>"
      ]
     },
     "metadata": {},
     "execution_count": 9
    }
   ]
  },
  {
   "cell_type": "markdown",
   "metadata": {
    "id": "kI4p-9wXn70u"
   },
   "source": [
    "## tf.compat.v1.keras.layers.DenseFeatures\n",
    "1. 第3节的FeatureColumn List构造DenseFeatures。其中column必须均为DenseColumn的子类(`numeric_column`，`embedding_column`，`bucketized_column`，`indicator_column`)；\n",
    "2. 第2节的input_fn解析后feature_dict({key：Tensor/SparseTensor})，构造FeatureTransformationCache；\n",
    "3. DensorFeatures.call遍历所有的FeatureColumn，通过cache得到feature转换后的`dense Tensor`输出，后续输入model；可配置dict{key:dense_tensor}索引。\n",
    "\n",
    "具体的：\n",
    "1. numeric：返回dense tensor；\n",
    "2. emb：先得到sparse_tensors，再得到dense_tensors "
   ]
  }
 ]
}