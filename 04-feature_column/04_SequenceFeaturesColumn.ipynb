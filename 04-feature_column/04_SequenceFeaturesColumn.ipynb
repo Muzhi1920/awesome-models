{
  "nbformat": 4,
  "nbformat_minor": 0,
  "metadata": {
    "kernelspec": {
      "display_name": "Python 3",
      "language": "python",
      "name": "python3"
    },
    "language_info": {
      "codemirror_mode": {
        "name": "ipython",
        "version": 3
      },
      "file_extension": ".py",
      "mimetype": "text/x-python",
      "name": "python",
      "nbconvert_exporter": "python",
      "pygments_lexer": "ipython3",
      "version": "3.8.3"
    },
    "colab": {
      "name": "04_SequenceFeaturesColumn.ipynb",
      "provenance": [],
      "collapsed_sections": [],
      "include_colab_link": true
    }
  },
  "cells": [
    {
      "cell_type": "markdown",
      "metadata": {
        "id": "view-in-github",
        "colab_type": "text"
      },
      "source": [
        "<a href=\"https://colab.research.google.com/github/Muzhi1920/awesome-models/blob/main/04-feature_column/04_SequenceFeaturesColumn.ipynb\" target=\"_parent\"><img src=\"https://colab.research.google.com/assets/colab-badge.svg\" alt=\"Open In Colab\"/></a>"
      ]
    },
    {
      "cell_type": "code",
      "metadata": {
        "id": "O_--p3-GuQUp"
      },
      "source": [
        "from tensorflow import feature_column as fc\n",
        "import tensorflow as tf\n",
        "from sequence_feature_layer import SequenceFeatures"
      ],
      "execution_count": null,
      "outputs": []
    },
    {
      "cell_type": "code",
      "metadata": {
        "id": "DjbzDaWQuQUq"
      },
      "source": [
        "kw = fc.sequence_categorical_column_with_hash_bucket('aaa', hash_bucket_size=10, dtype=tf.int64)\n",
        "dank = fc.sequence_categorical_column_with_hash_bucket('bbb', hash_bucket_size=10, dtype=tf.int64)\n",
        "kw_col = fc.embedding_column(kw, dimension=4)\n",
        "dank_col = fc.embedding_column(dank, dimension=6)\n",
        "columns = [kw_col,dank_col]"
      ],
      "execution_count": null,
      "outputs": []
    },
    {
      "cell_type": "code",
      "metadata": {
        "colab": {
          "base_uri": "https://localhost:8080/"
        },
        "id": "LZhZrcDbuQUq",
        "outputId": "2ca526c4-0195-4de6-a88b-c092c1017991"
      },
      "source": [
        "kw"
      ],
      "execution_count": null,
      "outputs": [
        {
          "output_type": "execute_result",
          "data": {
            "text/plain": [
              "SequenceCategoricalColumn(categorical_column=HashedCategoricalColumn(key='aaa', hash_bucket_size=10, dtype=tf.int64))"
            ]
          },
          "metadata": {},
          "execution_count": 3
        }
      ]
    },
    {
      "cell_type": "code",
      "metadata": {
        "id": "EtIW7ndauQUs"
      },
      "source": [
        "features={\n",
        "  \"aaa\": tf.sparse.SparseTensor(\n",
        "      indices=[[0, 0], [0, 1], [1, 0]],\n",
        "      values=[1100, 1101, 1102],\n",
        "      dense_shape=[2, 2]),\n",
        "  \"bbb\": tf.sparse.SparseTensor(\n",
        "      indices=[[1, 0]],\n",
        "      values=[100],\n",
        "      dense_shape=[2, 1]),\n",
        "}"
      ],
      "execution_count": null,
      "outputs": []
    },
    {
      "cell_type": "code",
      "metadata": {
        "colab": {
          "base_uri": "https://localhost:8080/"
        },
        "id": "wzPDmfJFuQUt",
        "outputId": "e447c952-dc34-44bc-dde4-8c125fe2a5de"
      },
      "source": [
        "tf.sparse.to_dense(features['aaa'])"
      ],
      "execution_count": null,
      "outputs": [
        {
          "output_type": "execute_result",
          "data": {
            "text/plain": [
              "<tf.Tensor: shape=(2, 2), dtype=int32, numpy=\n",
              "array([[1100, 1101],\n",
              "       [1102,    0]], dtype=int32)>"
            ]
          },
          "metadata": {},
          "execution_count": 5
        }
      ]
    },
    {
      "cell_type": "code",
      "metadata": {
        "id": "FIH3XnKsuQUt"
      },
      "source": [
        "sequence_feature_layer = SequenceFeatures(columns)"
      ],
      "execution_count": null,
      "outputs": []
    },
    {
      "cell_type": "code",
      "metadata": {
        "colab": {
          "base_uri": "https://localhost:8080/"
        },
        "id": "SnkwyhcXuQUt",
        "outputId": "deeebed3-8a38-4de2-b921-77666384be46"
      },
      "source": [
        "sequence_input, sequence_length = sequence_feature_layer(features)"
      ],
      "execution_count": null,
      "outputs": [
        {
          "output_type": "stream",
          "name": "stdout",
          "text": [
            "target_shape tf.Tensor(2, shape=(), dtype=int32) tf.Tensor(2, shape=(), dtype=int32) 4\n",
            "target_shape tf.Tensor(2, shape=(), dtype=int32) tf.Tensor(1, shape=(), dtype=int32) 6\n"
          ]
        }
      ]
    },
    {
      "cell_type": "code",
      "metadata": {
        "colab": {
          "base_uri": "https://localhost:8080/"
        },
        "id": "3wNSCHThuQUu",
        "outputId": "5ce96e4b-7909-4122-b26a-ae6450c7f413"
      },
      "source": [
        "sequence_input"
      ],
      "execution_count": null,
      "outputs": [
        {
          "output_type": "execute_result",
          "data": {
            "text/plain": [
              "{'aaa_embedding': <tf.Tensor: shape=(2, 2, 4), dtype=float32, numpy=\n",
              " array([[[-0.20366316, -0.25406513,  0.31047094,  0.69951296],\n",
              "         [-0.05266371,  0.2547182 , -0.0093221 ,  0.9389799 ]],\n",
              " \n",
              "        [[ 0.04222297, -0.6708118 ,  0.17080276, -0.9551269 ],\n",
              "         [ 0.        ,  0.        ,  0.        ,  0.        ]]],\n",
              "       dtype=float32)>,\n",
              " 'bbb_embedding': <tf.Tensor: shape=(2, 1, 6), dtype=float32, numpy=\n",
              " array([[[ 0.        ,  0.        ,  0.        ,  0.        ,\n",
              "           0.        ,  0.        ]],\n",
              " \n",
              "        [[ 0.67249227, -0.14938436,  0.39018124, -0.14576633,\n",
              "          -0.2823811 , -0.02786766]]], dtype=float32)>}"
            ]
          },
          "metadata": {},
          "execution_count": 8
        }
      ]
    },
    {
      "cell_type": "code",
      "metadata": {
        "colab": {
          "base_uri": "https://localhost:8080/"
        },
        "id": "hVu8QeXcuQUu",
        "outputId": "77378609-bae2-4f5e-9a6c-84e2ef16b03c"
      },
      "source": [
        "sequence_length"
      ],
      "execution_count": null,
      "outputs": [
        {
          "output_type": "execute_result",
          "data": {
            "text/plain": [
              "{'aaa_embedding': <tf.Tensor: shape=(2,), dtype=int64, numpy=array([2, 1])>,\n",
              " 'bbb_embedding': <tf.Tensor: shape=(2,), dtype=int64, numpy=array([0, 1])>}"
            ]
          },
          "metadata": {},
          "execution_count": 9
        }
      ]
    }
  ]
}