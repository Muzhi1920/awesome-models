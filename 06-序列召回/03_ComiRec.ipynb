{
  "nbformat": 4,
  "nbformat_minor": 0,
  "metadata": {
    "colab": {
      "name": "00_ComiRec.ipynb",
      "provenance": [],
      "collapsed_sections": [],
      "toc_visible": true,
      "authorship_tag": "ABX9TyNZjv8QuzfBc0WXFwpMZtST",
      "include_colab_link": true
    },
    "kernelspec": {
      "name": "python3",
      "display_name": "Python 3"
    },
    "language_info": {
      "name": "python"
    }
  },
  "cells": [
    {
      "cell_type": "markdown",
      "metadata": {
        "id": "view-in-github",
        "colab_type": "text"
      },
      "source": [
        "<a href=\"https://colab.research.google.com/github/Muzhi1920/awesome-models/blob/main/08-%E5%8F%AC%E5%9B%9E%E6%A8%A1%E5%9E%8B/00_ComiRec.ipynb\" target=\"_parent\"><img src=\"https://colab.research.google.com/assets/colab-badge.svg\" alt=\"Open In Colab\"/></a>"
      ]
    },
    {
      "cell_type": "markdown",
      "source": [
        "# ComiRec\n",
        "\n",
        "论文：Controllable Multi-Interest Framework for Recommendation\n",
        "很多序列化推荐方法都最终产生一个user emb，去item emb空间中检索出最相关的item；而user在一段时间内，是有多种兴趣的，应该要映射到多个emb去检索。\n",
        "\n",
        "如何获取这些兴趣向量：动态路由、自注意力机制；\n",
        "需要：seq_id,target_id,label；序列如何构建？\n",
        "\n",
        "基于seq_id，得到多个兴趣向量表示用户（之前是1个向量表示）；每一个兴趣向量，与候选item进行向量检索，取softmax概率最大的item，作为该兴趣命中。最终得到四个兴趣对应的四个视频的向量，作为user_emb\n",
        "\n"
      ],
      "metadata": {
        "id": "zKXvc0LkFDAO"
      }
    },
    {
      "cell_type": "code",
      "metadata": {
        "id": "iiLw5lf14tIy"
      },
      "source": [
        "import tensorflow as tf\n",
        "from sequence_feature_layer import SequenceFeatures\n",
        "from tensorflow import feature_column as fc\n",
        "from tensorflow.keras.layers import Layer, Dense, LayerNormalization, Dropout, Embedding, Conv1D"
      ],
      "execution_count": null,
      "outputs": []
    },
    {
      "cell_type": "markdown",
      "metadata": {
        "id": "OJ9XCQ_54zMw"
      },
      "source": [
        "## 0.准备工作"
      ]
    },
    {
      "cell_type": "code",
      "metadata": {
        "id": "wwWI_yGp4uVV",
        "colab": {
          "base_uri": "https://localhost:8080/"
        },
        "outputId": "ac364090-e894-47e7-ec1f-e65425d06eb3"
      },
      "source": [
        "seq = fc.sequence_categorical_column_with_hash_bucket('seq', hash_bucket_size=10, dtype=tf.int64)\n",
        "target = fc.sequence_categorical_column_with_hash_bucket('target', hash_bucket_size=10, dtype=tf.int64)\n",
        "seq_col = fc.embedding_column(seq, dimension=8)\n",
        "target_col = fc.embedding_column(target, dimension=8)\n",
        "label = fc.sequence_numeric_column('label', dtype=tf.float32)\n",
        "columns = [seq_col, target_col, label]\n",
        "features={\n",
        "  \"seq\": tf.sparse.SparseTensor(\n",
        "      indices=[[0, 0], [0, 1], [1, 0], [1, 1], [2, 0]],\n",
        "      values=[1100, 1101, 1102, 1101, 1103],\n",
        "      dense_shape=[3, 2]),\n",
        "  \"target\": tf.sparse.SparseTensor(\n",
        "      indices=[[0, 0],[1,0],[2,0]],\n",
        "      values=[1102,1103,1100],\n",
        "      dense_shape=[3, 1]),\n",
        "  \"label\": tf.sparse.SparseTensor(\n",
        "      indices=[[0, 0],[1,0],[2,0]],\n",
        "      values=[1.0,0,1],\n",
        "      dense_shape=[3, 1]),\n",
        "}\n",
        "tf.sparse.to_dense(features['seq'])"
      ],
      "execution_count": null,
      "outputs": [
        {
          "output_type": "execute_result",
          "data": {
            "text/plain": [
              "<tf.Tensor: shape=(3, 2), dtype=int32, numpy=\n",
              "array([[1100, 1101],\n",
              "       [1102, 1101],\n",
              "       [1103,    0]], dtype=int32)>"
            ]
          },
          "metadata": {},
          "execution_count": 2
        }
      ]
    },
    {
      "cell_type": "code",
      "metadata": {
        "id": "Dwuq4gg94uTN",
        "colab": {
          "base_uri": "https://localhost:8080/"
        },
        "outputId": "858ca358-48b4-45a7-f85b-893bf6b19b86"
      },
      "source": [
        "sequence_feature_layer = SequenceFeatures(columns, name='sequence_features_input_layer')\n",
        "seq_input, seq_len = sequence_feature_layer(features)\n",
        "seq_input.keys()"
      ],
      "execution_count": null,
      "outputs": [
        {
          "output_type": "execute_result",
          "data": {
            "text/plain": [
              "dict_keys(['label', 'seq_embedding', 'target_embedding'])"
            ]
          },
          "metadata": {},
          "execution_count": 3
        }
      ]
    },
    {
      "cell_type": "code",
      "metadata": {
        "id": "72EE5W8O4uPC",
        "colab": {
          "base_uri": "https://localhost:8080/"
        },
        "outputId": "0821816f-36f5-43aa-c6a9-ff81a98b8c0a"
      },
      "source": [
        "seq_mask, label = seq_len['seq_embedding'], seq_len['label']\n",
        "seq_mask, label"
      ],
      "execution_count": null,
      "outputs": [
        {
          "output_type": "execute_result",
          "data": {
            "text/plain": [
              "(<tf.Tensor: shape=(3,), dtype=int64, numpy=array([2, 2, 1])>,\n",
              " <tf.Tensor: shape=(3,), dtype=int64, numpy=array([1, 1, 1])>)"
            ]
          },
          "metadata": {},
          "execution_count": 4
        }
      ]
    },
    {
      "cell_type": "code",
      "metadata": {
        "id": "SVoQzkr74uMs",
        "colab": {
          "base_uri": "https://localhost:8080/"
        },
        "outputId": "e2006e7b-5fe2-4519-e702-9b487e7736ef"
      },
      "source": [
        "item_list_emb, label, target_emb= seq_input['seq_embedding'], seq_input['label'], seq_input['target_embedding']\n",
        "item_list_emb, target_emb, label"
      ],
      "execution_count": null,
      "outputs": [
        {
          "output_type": "execute_result",
          "data": {
            "text/plain": [
              "(<tf.Tensor: shape=(3, 2, 8), dtype=float32, numpy=\n",
              " array([[[ 0.6704128 , -0.4825759 ,  0.41079706, -0.05277091,\n",
              "          -0.18126296,  0.08896871, -0.01469795,  0.29657248],\n",
              "         [-0.10857867, -0.06337585, -0.16433023, -0.13755628,\n",
              "          -0.0994873 , -0.02037037,  0.28568947,  0.2076284 ]],\n",
              " \n",
              "        [[ 0.15900598,  0.54094213, -0.15709746, -0.40975308,\n",
              "          -0.39427465,  0.12961422,  0.30570927,  0.15592112],\n",
              "         [-0.10857867, -0.06337585, -0.16433023, -0.13755628,\n",
              "          -0.0994873 , -0.02037037,  0.28568947,  0.2076284 ]],\n",
              " \n",
              "        [[-0.30083585,  0.35435283,  0.2086421 , -0.07965193,\n",
              "          -0.27387637,  0.50393224, -0.3017337 , -0.05612677],\n",
              "         [ 0.        ,  0.        ,  0.        ,  0.        ,\n",
              "           0.        ,  0.        ,  0.        ,  0.        ]]],\n",
              "       dtype=float32)>, <tf.Tensor: shape=(3, 1, 8), dtype=float32, numpy=\n",
              " array([[[ 0.2682965 ,  0.444604  , -0.34399304, -0.1467334 ,\n",
              "          -0.02334886,  0.17901677, -0.13051414,  0.01991771]],\n",
              " \n",
              "        [[-0.14086713,  0.36926144, -0.4170694 , -0.3507296 ,\n",
              "           0.5583612 ,  0.47715285,  0.3257725 , -0.08892934]],\n",
              " \n",
              "        [[ 0.21751584,  0.1556732 , -0.13945283, -0.26551983,\n",
              "           0.15049903,  0.02123385, -0.61080414,  0.3169144 ]]],\n",
              "       dtype=float32)>, <tf.Tensor: shape=(3, 1, 1), dtype=float32, numpy=\n",
              " array([[[1.]],\n",
              " \n",
              "        [[0.]],\n",
              " \n",
              "        [[1.]]], dtype=float32)>)"
            ]
          },
          "metadata": {},
          "execution_count": 5
        }
      ]
    },
    {
      "cell_type": "markdown",
      "metadata": {
        "id": "MCP2HXdH_C-N"
      },
      "source": [
        "## 1.位置编码"
      ]
    },
    {
      "cell_type": "code",
      "metadata": {
        "id": "a8NbBaHp4uKN",
        "colab": {
          "base_uri": "https://localhost:8080/"
        },
        "outputId": "6362144d-a3f0-4104-a014-fd77eded8d64"
      },
      "source": [
        "max_len = tf.shape(item_list_emb)[1]\n",
        "emb_dims = 8\n",
        "position_embedding = tf.compat.v1.get_variable(shape=[1, max_len, emb_dims],name='position_embedding')\n",
        "item_list_add_pos = item_list_emb + tf.tile(position_embedding, [tf.shape(item_list_emb)[0], 1, 1])\n",
        "item_list_add_pos"
      ],
      "execution_count": null,
      "outputs": [
        {
          "output_type": "execute_result",
          "data": {
            "text/plain": [
              "<tf.Tensor: shape=(3, 2, 8), dtype=float32, numpy=\n",
              "array([[[ 0.27248767, -0.347915  , -0.08105707, -0.3131885 ,\n",
              "         -0.8505138 ,  0.25491077, -0.5917015 , -0.25108126],\n",
              "        [ 0.08465088, -0.44792396, -0.57523763, -0.7947656 ,\n",
              "         -0.7840925 ,  0.64095175,  0.18166947,  0.04904279]],\n",
              "\n",
              "       [[-0.23891912,  0.67560303, -0.6489516 , -0.67017066,\n",
              "         -1.0635254 ,  0.2955563 , -0.27129427, -0.39173263],\n",
              "        [ 0.08465088, -0.44792396, -0.57523763, -0.7947656 ,\n",
              "         -0.7840925 ,  0.64095175,  0.18166947,  0.04904279]],\n",
              "\n",
              "       [[-0.698761  ,  0.48901373, -0.28321204, -0.3400695 ,\n",
              "         -0.9431272 ,  0.6698743 , -0.8787372 , -0.6037805 ],\n",
              "        [ 0.19322956, -0.38454813, -0.41090742, -0.6572093 ,\n",
              "         -0.6846052 ,  0.6613221 , -0.10402   , -0.15858561]]],\n",
              "      dtype=float32)>"
            ]
          },
          "metadata": {},
          "execution_count": 6
        }
      ]
    },
    {
      "cell_type": "markdown",
      "metadata": {
        "id": "3YpDx4vf_mO8"
      },
      "source": [
        "## 2.multi_head_att"
      ]
    },
    {
      "cell_type": "code",
      "metadata": {
        "colab": {
          "base_uri": "https://localhost:8080/"
        },
        "id": "sp6vgx3doQgq",
        "outputId": "3ac8c061-4158-4bc1-dae1-c37c45b6b69b"
      },
      "source": [
        "num_heads = num_interest = 4\n",
        "hidden_size = 4\n",
        "mha = Dense(hidden_size * num_heads, activation=tf.nn.tanh)\n",
        "att_w  = Dense(num_heads, activation=None)\n",
        "\n",
        "item_hidden = mha(item_list_add_pos)\n",
        "item_att_w  = att_w(item_hidden)\n",
        "item_att_w = tf.transpose(item_att_w, [0,2,1])\n",
        "item_att_w"
      ],
      "execution_count": null,
      "outputs": [
        {
          "output_type": "execute_result",
          "data": {
            "text/plain": [
              "<tf.Tensor: shape=(3, 4, 2), dtype=float32, numpy=\n",
              "array([[[ 0.15945143, -0.30868155],\n",
              "        [-0.44137686, -0.407699  ],\n",
              "        [-0.19866277,  0.08905888],\n",
              "        [ 0.41580737, -0.3413364 ]],\n",
              "\n",
              "       [[-0.32409707, -0.30868155],\n",
              "        [-1.1242661 , -0.407699  ],\n",
              "        [ 0.14833081,  0.08905888],\n",
              "        [ 0.14246675, -0.3413364 ]],\n",
              "\n",
              "       [[-0.39153647, -0.30699012],\n",
              "        [-0.8790223 , -0.40335512],\n",
              "        [ 0.10243495,  0.02444693],\n",
              "        [ 0.25796926, -0.20628071]]], dtype=float32)>"
            ]
          },
          "metadata": {},
          "execution_count": 7
        }
      ]
    },
    {
      "cell_type": "markdown",
      "metadata": {
        "id": "01NSQyM6_1yg"
      },
      "source": [
        "## 2.1计算SA"
      ]
    },
    {
      "cell_type": "code",
      "metadata": {
        "colab": {
          "base_uri": "https://localhost:8080/"
        },
        "id": "EsEUL4UDyChl",
        "outputId": "751f4e8e-2f3c-4e16-bdff-003965519957"
      },
      "source": [
        "seq_mask_ = tf.expand_dims(tf.where(tf.sequence_mask(seq_mask),1.0,0.0),axis=1)\n",
        "atten_mask = tf.tile(seq_mask_, [1, num_heads, 1])\n",
        "paddings = tf.ones_like(atten_mask) * (-2 ** 32 + 1)\n",
        "item_att_w = tf.where(tf.equal(atten_mask, 0), paddings, item_att_w)\n",
        "item_att_w = tf.nn.softmax(item_att_w)\n",
        "item_att_w"
      ],
      "execution_count": null,
      "outputs": [
        {
          "output_type": "execute_result",
          "data": {
            "text/plain": [
              "<tf.Tensor: shape=(3, 4, 2), dtype=float32, numpy=\n",
              "array([[[0.6149418 , 0.38505825],\n",
              "        [0.49158132, 0.5084187 ],\n",
              "        [0.42856172, 0.57143825],\n",
              "        [0.68073326, 0.3192667 ]],\n",
              "\n",
              "       [[0.49614623, 0.50385386],\n",
              "        [0.32814935, 0.6718506 ],\n",
              "        [0.5148136 , 0.4851863 ],\n",
              "        [0.6186455 , 0.38135442]],\n",
              "\n",
              "       [[1.        , 0.        ],\n",
              "        [1.        , 0.        ],\n",
              "        [1.        , 0.        ],\n",
              "        [1.        , 0.        ]]], dtype=float32)>"
            ]
          },
          "metadata": {},
          "execution_count": 8
        }
      ]
    },
    {
      "cell_type": "code",
      "metadata": {
        "colab": {
          "base_uri": "https://localhost:8080/"
        },
        "id": "FTna8aqUycq8",
        "outputId": "34d099b0-7b5c-48a8-d458-5b951c20be21"
      },
      "source": [
        "# 用户的4个兴趣向量\n",
        "interest_emb = tf.matmul(item_att_w, item_list_emb)\n",
        "user_eb = interest_emb\n",
        "user_eb"
      ],
      "execution_count": null,
      "outputs": [
        {
          "output_type": "execute_result",
          "data": {
            "text/plain": [
              "<tf.Tensor: shape=(3, 4, 8), dtype=float32, numpy=\n",
              "array([[[ 0.3704557 , -0.32115948,  0.18933958, -0.08541822,\n",
              "         -0.14977457,  0.0468668 ,  0.1009687 ,  0.26232383],\n",
              "        [ 0.27435896, -0.26944676,  0.1183916 , -0.09587738,\n",
              "         -0.13968669,  0.03337868,  0.13802463,  0.25135165],\n",
              "        [ 0.22526725, -0.24302894,  0.08214732, -0.10122051,\n",
              "         -0.13453321,  0.02648817,  0.15695491,  0.24574642],\n",
              "        [ 0.42170674, -0.34873927,  0.22717807, -0.07984006,\n",
              "         -0.1551547 ,  0.05406038,  0.08120575,  0.26817557]],\n",
              "\n",
              "       [[ 0.02418244,  0.23645423, -0.16074173, -0.27260572,\n",
              "         -0.24574494,  0.05404392,  0.29562226,  0.18197405],\n",
              "        [-0.02077094,  0.13493071, -0.16195679, -0.22687748,\n",
              "         -0.19622158,  0.02884698,  0.29225895,  0.19066069],\n",
              "        [ 0.02917756,  0.24773528, -0.16060668, -0.2776869 ,\n",
              "         -0.25124782,  0.05684374,  0.29599592,  0.18100877],\n",
              "        [ 0.05696137,  0.31048274, -0.1598557 , -0.3059496 ,\n",
              "         -0.28185615,  0.07241692,  0.2980746 ,  0.1756399 ]],\n",
              "\n",
              "       [[-0.30083585,  0.35435283,  0.2086421 , -0.07965193,\n",
              "         -0.27387637,  0.50393224, -0.3017337 , -0.05612677],\n",
              "        [-0.30083585,  0.35435283,  0.2086421 , -0.07965193,\n",
              "         -0.27387637,  0.50393224, -0.3017337 , -0.05612677],\n",
              "        [-0.30083585,  0.35435283,  0.2086421 , -0.07965193,\n",
              "         -0.27387637,  0.50393224, -0.3017337 , -0.05612677],\n",
              "        [-0.30083585,  0.35435283,  0.2086421 , -0.07965193,\n",
              "         -0.27387637,  0.50393224, -0.3017337 , -0.05612677]]],\n",
              "      dtype=float32)>"
            ]
          },
          "metadata": {},
          "execution_count": 9
        }
      ]
    },
    {
      "cell_type": "code",
      "metadata": {
        "colab": {
          "base_uri": "https://localhost:8080/"
        },
        "id": "DMTC34iDoQl_",
        "outputId": "66edbd45-ddab-454d-cb14-daf6dd4313ff"
      },
      "source": [
        "# 对每一候选item，用4个向量从不同`兴趣`角度刻画user_emb；\n",
        "# 之前user_emb唯一，不同的target_emb与同一兴趣user_emb计算，可能导致user_emb表达不够，兴趣互损；多个emb表示user，兴趣聚类;\n",
        "# 用不同的user_part_emb取与target_emb计算损失\n",
        "atten = tf.matmul(user_eb, tf.transpose(target_emb, [0,2,1]))\n",
        "atten = tf.nn.softmax(tf.pow(tf.squeeze(atten,2), 1))\n",
        "atten,tf.argmax(atten, axis=1, output_type=tf.int32)"
      ],
      "execution_count": null,
      "outputs": [
        {
          "output_type": "execute_result",
          "data": {
            "text/plain": [
              "(<tf.Tensor: shape=(3, 4), dtype=float32, numpy=\n",
              " array([[0.24807923, 0.25194046, 0.2539361 , 0.24604419],\n",
              "        [0.25027686, 0.24217027, 0.25119427, 0.2563586 ],\n",
              "        [0.25      , 0.25      , 0.25      , 0.25      ]], dtype=float32)>,\n",
              " <tf.Tensor: shape=(3,), dtype=int32, numpy=array([2, 3, 0], dtype=int32)>)"
            ]
          },
          "metadata": {},
          "execution_count": 10
        }
      ]
    },
    {
      "cell_type": "code",
      "metadata": {
        "colab": {
          "base_uri": "https://localhost:8080/"
        },
        "id": "ByEgqRRIoQrc",
        "outputId": "0401abcc-1fd7-4885-b134-9324d896bea4"
      },
      "source": [
        "readout = tf.gather(tf.reshape(user_eb, [-1, 8]), tf.argmax(atten, axis=1, output_type=tf.int32) + tf.range(tf.shape(item_list_emb)[0]) * num_heads)\n",
        "readout"
      ],
      "execution_count": null,
      "outputs": [
        {
          "output_type": "execute_result",
          "data": {
            "text/plain": [
              "<tf.Tensor: shape=(3, 8), dtype=float32, numpy=\n",
              "array([[ 0.22526725, -0.24302894,  0.08214732, -0.10122051, -0.13453321,\n",
              "         0.02648817,  0.15695491,  0.24574642],\n",
              "       [ 0.05696137,  0.31048274, -0.1598557 , -0.3059496 , -0.28185615,\n",
              "         0.07241692,  0.2980746 ,  0.1756399 ],\n",
              "       [-0.30083585,  0.35435283,  0.2086421 , -0.07965193, -0.27387637,\n",
              "         0.50393224, -0.3017337 , -0.05612677]], dtype=float32)>"
            ]
          },
          "metadata": {},
          "execution_count": 11
        }
      ]
    },
    {
      "cell_type": "code",
      "metadata": {
        "colab": {
          "base_uri": "https://localhost:8080/"
        },
        "id": "CIhXzOA43KLM",
        "outputId": "a59d7d22-cd61-4462-db09-43b2fb88c674"
      },
      "source": [
        "mid_embeddings_var = tf.compat.v1.get_variable(\"mid_embedding_var\", [2, 8], trainable=True)\n",
        "mid_embeddings_bias = tf.compat.v1.get_variable(\"bias_lookup_table\", [2], initializer=tf.zeros_initializer(), trainable=False)\n",
        "\n",
        "def build_sampled_softmax_loss(item_emb, input_emb):\n",
        "  loss = tf.reduce_mean(tf.nn.sampled_softmax_loss(mid_embeddings_var, mid_embeddings_bias, tf.reshape(label, [-1, 1]), input_emb, 2, 2, 1))\n",
        "  return loss\n",
        "\n",
        "build_sampled_softmax_loss(target_emb, readout)"
      ],
      "execution_count": null,
      "outputs": [
        {
          "output_type": "execute_result",
          "data": {
            "text/plain": [
              "<tf.Tensor: shape=(), dtype=float32, numpy=0.6039441>"
            ]
          },
          "metadata": {},
          "execution_count": 14
        }
      ]
    },
    {
      "cell_type": "code",
      "metadata": {
        "id": "_sw5sQo7oQ3l"
      },
      "source": [
        ""
      ],
      "execution_count": null,
      "outputs": []
    },
    {
      "cell_type": "markdown",
      "metadata": {
        "id": "6yGYNo9Fki3S"
      },
      "source": [
        "## 聚合模块"
      ]
    },
    {
      "cell_type": "markdown",
      "metadata": {
        "id": "Vh_gpbpzkqwD"
      },
      "source": [
        "对于在线服务，使用**多兴趣提取**来计算每个用户的多元兴趣。用户的每个兴趣向量都可以通过**Faiss**等近邻检索`top-N`物品。多个兴趣检索到的物品被输入**聚合模块**，以确定最终候选物品。"
      ]
    },
    {
      "cell_type": "markdown",
      "metadata": {
        "id": "qd1mnVnUlNpB"
      },
      "source": [
        "K个兴趣，每个兴趣均得到top-N，最终得到`k*N=>S`候选集集合。\n",
        "$$f(u,i) = \\max_{1<=k<=K}(e_i^T v_u^{(k)})$$\n",
        "\n",
        "![](https://pic4.zhimg.com/v2-9152d31dec3f0f9eb301e7799cacecc7_b.jpg)\n",
        "\n",
        "- 最终得到多样性得分，和兴趣拟合最大得分的item。\n",
        "- 这里的，item拟合最近兴趣的最大得分，说明item，相似于某个兴趣，而且很接近即可。不同兴趣的得分值域大小并不重要，只能说明某个兴趣更加集中。\n",
        "`argmax (f(u,i), + λ \\sum_k g(i,k))`\n"
      ]
    },
    {
      "cell_type": "markdown",
      "metadata": {
        "id": "IYhIXv9ppYhu"
      },
      "source": [
        "参考：https://zhuanlan.zhihu.com/p/180058376"
      ]
    },
    {
      "cell_type": "code",
      "metadata": {
        "id": "D6NDw-PYpcax"
      },
      "source": [
        ""
      ],
      "execution_count": null,
      "outputs": []
    }
  ]
}